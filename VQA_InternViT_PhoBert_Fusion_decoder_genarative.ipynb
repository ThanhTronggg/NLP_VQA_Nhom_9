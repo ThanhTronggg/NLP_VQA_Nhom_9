{
 "cells": [
  {
   "cell_type": "code",
   "execution_count": 1,
   "id": "fc35ca06",
   "metadata": {
    "_cell_guid": "b1076dfc-b9ad-4769-8c92-a6c4dae69d19",
    "_uuid": "8f2839f25d086af736a60e9eeb907d3b93b6e0e5",
    "execution": {
     "iopub.execute_input": "2025-05-18T21:44:39.874877Z",
     "iopub.status.busy": "2025-05-18T21:44:39.874654Z",
     "iopub.status.idle": "2025-05-18T21:46:26.139321Z",
     "shell.execute_reply": "2025-05-18T21:46:26.138502Z"
    },
    "papermill": {
     "duration": 106.271412,
     "end_time": "2025-05-18T21:46:26.140928",
     "exception": false,
     "start_time": "2025-05-18T21:44:39.869516",
     "status": "completed"
    },
    "tags": []
   },
   "outputs": [
    {
     "name": "stdout",
     "output_type": "stream",
     "text": [
      "\u001b[2K   \u001b[90m━━━━━━━━━━━━━━━━━━━━━━━━━━━━━━━━━━━━━━━━\u001b[0m \u001b[32m20.9/20.9 MB\u001b[0m \u001b[31m85.7 MB/s\u001b[0m eta \u001b[36m0:00:00\u001b[0m\r\n",
      "\u001b[2K   \u001b[90m━━━━━━━━━━━━━━━━━━━━━━━━━━━━━━━━━━━━━━━━\u001b[0m \u001b[32m657.8/657.8 kB\u001b[0m \u001b[31m32.0 MB/s\u001b[0m eta \u001b[36m0:00:00\u001b[0m\r\n",
      "\u001b[2K   \u001b[90m━━━━━━━━━━━━━━━━━━━━━━━━━━━━━━━━━━━━━━━━\u001b[0m \u001b[32m1.3/1.3 MB\u001b[0m \u001b[31m51.1 MB/s\u001b[0m eta \u001b[36m0:00:00\u001b[0m\r\n",
      "\u001b[?25h  Preparing metadata (setup.py) ... \u001b[?25l\u001b[?25hdone\r\n",
      "  Building wheel for rouge-score (setup.py) ... \u001b[?25l\u001b[?25hdone\r\n",
      "\u001b[2K     \u001b[90m━━━━━━━━━━━━━━━━━━━━━━━━━━━━━━━━━━━━━━━━\u001b[0m \u001b[32m6.0/6.0 MB\u001b[0m \u001b[31m53.4 MB/s\u001b[0m eta \u001b[36m0:00:00\u001b[0m\r\n",
      "\u001b[?25h  Preparing metadata (setup.py) ... \u001b[?25l\u001b[?25hdone\r\n",
      "\u001b[2K   \u001b[90m━━━━━━━━━━━━━━━━━━━━━━━━━━━━━━━━━━━━━━━━\u001b[0m \u001b[32m363.4/363.4 MB\u001b[0m \u001b[31m4.7 MB/s\u001b[0m eta \u001b[36m0:00:00\u001b[0m\r\n",
      "\u001b[2K   \u001b[90m━━━━━━━━━━━━━━━━━━━━━━━━━━━━━━━━━━━━━━━━\u001b[0m \u001b[32m664.8/664.8 MB\u001b[0m \u001b[31m2.5 MB/s\u001b[0m eta \u001b[36m0:00:00\u001b[0m\r\n",
      "\u001b[2K   \u001b[90m━━━━━━━━━━━━━━━━━━━━━━━━━━━━━━━━━━━━━━━━\u001b[0m \u001b[32m211.5/211.5 MB\u001b[0m \u001b[31m5.1 MB/s\u001b[0m eta \u001b[36m0:00:00\u001b[0m\r\n",
      "\u001b[2K   \u001b[90m━━━━━━━━━━━━━━━━━━━━━━━━━━━━━━━━━━━━━━━━\u001b[0m \u001b[32m56.3/56.3 MB\u001b[0m \u001b[31m31.4 MB/s\u001b[0m eta \u001b[36m0:00:00\u001b[0m\r\n",
      "\u001b[2K   \u001b[90m━━━━━━━━━━━━━━━━━━━━━━━━━━━━━━━━━━━━━━━━\u001b[0m \u001b[32m127.9/127.9 MB\u001b[0m \u001b[31m13.3 MB/s\u001b[0m eta \u001b[36m0:00:00\u001b[0m\r\n",
      "\u001b[2K   \u001b[90m━━━━━━━━━━━━━━━━━━━━━━━━━━━━━━━━━━━━━━━━\u001b[0m \u001b[32m207.5/207.5 MB\u001b[0m \u001b[31m2.0 MB/s\u001b[0m eta \u001b[36m0:00:00\u001b[0m\r\n",
      "\u001b[2K   \u001b[90m━━━━━━━━━━━━━━━━━━━━━━━━━━━━━━━━━━━━━━━━\u001b[0m \u001b[32m21.1/21.1 MB\u001b[0m \u001b[31m82.1 MB/s\u001b[0m eta \u001b[36m0:00:00\u001b[0m\r\n",
      "\u001b[?25h  Building wheel for flash_attn (setup.py) ... \u001b[?25l\u001b[?25hdone\r\n"
     ]
    }
   ],
   "source": [
    "!pip install -q underthesea\n",
    "!pip install -q rouge-score\n",
    "!pip install -q nltk\n",
    "!pip install -q flash_attn"
   ]
  },
  {
   "cell_type": "code",
   "execution_count": 2,
   "id": "202f0a28",
   "metadata": {
    "execution": {
     "iopub.execute_input": "2025-05-18T21:46:26.191078Z",
     "iopub.status.busy": "2025-05-18T21:46:26.190832Z",
     "iopub.status.idle": "2025-05-18T21:46:55.353860Z",
     "shell.execute_reply": "2025-05-18T21:46:55.352982Z"
    },
    "papermill": {
     "duration": 29.188909,
     "end_time": "2025-05-18T21:46:55.355119",
     "exception": false,
     "start_time": "2025-05-18T21:46:26.166210",
     "status": "completed"
    },
    "tags": []
   },
   "outputs": [
    {
     "name": "stderr",
     "output_type": "stream",
     "text": [
      "2025-05-18 21:46:41.944064: E external/local_xla/xla/stream_executor/cuda/cuda_fft.cc:477] Unable to register cuFFT factory: Attempting to register factory for plugin cuFFT when one has already been registered\n",
      "WARNING: All log messages before absl::InitializeLog() is called are written to STDERR\n",
      "E0000 00:00:1747604802.139727      19 cuda_dnn.cc:8310] Unable to register cuDNN factory: Attempting to register factory for plugin cuDNN when one has already been registered\n",
      "E0000 00:00:1747604802.199319      19 cuda_blas.cc:1418] Unable to register cuBLAS factory: Attempting to register factory for plugin cuBLAS when one has already been registered\n",
      "[nltk_data] Downloading package punkt to /usr/share/nltk_data...\n",
      "[nltk_data]   Package punkt is already up-to-date!\n"
     ]
    }
   ],
   "source": [
    "import os, math, random\n",
    "import pandas as pd\n",
    "import torch\n",
    "import torch.nn as nn\n",
    "import torch.nn.functional as F\n",
    "from torch.utils.checkpoint import checkpoint\n",
    "from torch.nn import TransformerDecoderLayer, TransformerDecoder, MultiheadAttention, LayerNorm\n",
    "from transformers import (\n",
    "    AutoConfig,\n",
    "    AutoModel,\n",
    "    AutoTokenizer,\n",
    "    CLIPImageProcessor,\n",
    "    get_linear_schedule_with_warmup\n",
    ")\n",
    "from torch.optim import AdamW\n",
    "from underthesea import word_tokenize\n",
    "import easyocr\n",
    "import torchvision.transforms as transforms\n",
    "from torch.utils.data import Dataset, DataLoader\n",
    "from PIL import Image\n",
    "from tqdm import tqdm\n",
    "from nltk.translate.bleu_score import corpus_bleu\n",
    "from rouge_score import rouge_scorer\n",
    "import torchvision.transforms as transforms\n",
    "from typing import Optional\n",
    "import nltk\n",
    "nltk.download('punkt')\n",
    "\n",
    "os.environ[\"PYTORCH_CUDA_ALLOC_CONF\"] = \"expandable_segments:True\""
   ]
  },
  {
   "cell_type": "code",
   "execution_count": 3,
   "id": "b0e1c62f",
   "metadata": {
    "execution": {
     "iopub.execute_input": "2025-05-18T21:46:55.403014Z",
     "iopub.status.busy": "2025-05-18T21:46:55.402550Z",
     "iopub.status.idle": "2025-05-18T21:46:55.407022Z",
     "shell.execute_reply": "2025-05-18T21:46:55.406506Z"
    },
    "papermill": {
     "duration": 0.028906,
     "end_time": "2025-05-18T21:46:55.408027",
     "exception": false,
     "start_time": "2025-05-18T21:46:55.379121",
     "status": "completed"
    },
    "tags": []
   },
   "outputs": [],
   "source": [
    "device      = torch.device('cuda' if torch.cuda.is_available() else 'cpu')\n",
    "IMG_SIZE    = 448\n",
    "PATCH_LEN   = (IMG_SIZE // 16) ** 2 + 1      # 197\n",
    "MAX_LEN     = 32                             # max text length\n",
    "MEM_LEN     = PATCH_LEN + MAX_LEN           # 229\n",
    "BEAM_SIZE   = 3\n",
    "EPOCHS = 5\n",
    "ACCUMULATION_STEPS = 64\n",
    "LR = 1e-4\n",
    "WARMUP_RATIO = 0.1\n",
    "CHECKPOINT_PATH = \"/kaggle/input/model1/checkpoint_latest.pth\"\n",
    "TOP_K = 50  # Giảm từ 100 xuống 50\n",
    "TOP_P = 0.8\n",
    "TEMPERATURE = 0.6"
   ]
  },
  {
   "cell_type": "code",
   "execution_count": 4,
   "id": "5ceaaa55",
   "metadata": {
    "execution": {
     "iopub.execute_input": "2025-05-18T21:46:55.454188Z",
     "iopub.status.busy": "2025-05-18T21:46:55.453574Z",
     "iopub.status.idle": "2025-05-18T21:46:55.457349Z",
     "shell.execute_reply": "2025-05-18T21:46:55.456835Z"
    },
    "papermill": {
     "duration": 0.027872,
     "end_time": "2025-05-18T21:46:55.458462",
     "exception": false,
     "start_time": "2025-05-18T21:46:55.430590",
     "status": "completed"
    },
    "tags": []
   },
   "outputs": [],
   "source": [
    "def save_checkpoint(path, model, optimizer, scheduler, epoch):\n",
    "    torch.save({\n",
    "        'epoch': epoch,\n",
    "        'model_state': model.state_dict(),\n",
    "        'optimizer_state': optimizer.state_dict(),\n",
    "        'scheduler_state': scheduler.state_dict()\n",
    "    }, path)\n",
    "    print(f\"👉 Saved checkpoint: {path}\")"
   ]
  },
  {
   "cell_type": "code",
   "execution_count": 5,
   "id": "a34cf758",
   "metadata": {
    "execution": {
     "iopub.execute_input": "2025-05-18T21:46:55.505932Z",
     "iopub.status.busy": "2025-05-18T21:46:55.505740Z",
     "iopub.status.idle": "2025-05-18T21:46:55.509934Z",
     "shell.execute_reply": "2025-05-18T21:46:55.509328Z"
    },
    "papermill": {
     "duration": 0.029331,
     "end_time": "2025-05-18T21:46:55.511079",
     "exception": false,
     "start_time": "2025-05-18T21:46:55.481748",
     "status": "completed"
    },
    "tags": []
   },
   "outputs": [],
   "source": [
    "def load_checkpoint(path, model, optimizer=None, scheduler=None, device='cpu'):\n",
    "    ckpt = torch.load(path, map_location=device)\n",
    "    model.load_state_dict(ckpt['model_state'])\n",
    "    if optimizer: optimizer.load_state_dict(ckpt['optimizer_state'])\n",
    "    if scheduler: scheduler.load_state_dict(ckpt['scheduler_state'])\n",
    "    start_epoch = ckpt['epoch'] + 1\n",
    "    print(f\"✅ Loaded checkpoint from {path}, resuming at epoch {start_epoch}\")\n",
    "    return start_epoch"
   ]
  },
  {
   "cell_type": "code",
   "execution_count": 6,
   "id": "5c21d6e9",
   "metadata": {
    "execution": {
     "iopub.execute_input": "2025-05-18T21:46:55.557930Z",
     "iopub.status.busy": "2025-05-18T21:46:55.557748Z",
     "iopub.status.idle": "2025-05-18T21:46:55.563287Z",
     "shell.execute_reply": "2025-05-18T21:46:55.562714Z"
    },
    "papermill": {
     "duration": 0.029983,
     "end_time": "2025-05-18T21:46:55.564241",
     "exception": false,
     "start_time": "2025-05-18T21:46:55.534258",
     "status": "completed"
    },
    "tags": []
   },
   "outputs": [],
   "source": [
    "# 1) PositionalEncoding giữ nguyên như bạn đã định nghĩa\n",
    "\n",
    "class PositionalEncoding(nn.Module):\n",
    "    def __init__(self, d_model:int, max_len:int=5000, learned:bool=False):\n",
    "        super().__init__()\n",
    "        if learned:\n",
    "            self.pe = nn.Parameter(torch.randn(1, max_len, d_model))\n",
    "        else:\n",
    "            pe = torch.zeros(max_len, d_model)\n",
    "            pos = torch.arange(max_len).unsqueeze(1).float()\n",
    "            div = torch.exp(torch.arange(0, d_model, 2).float() * -(math.log(10000.0)/d_model))\n",
    "            pe[:,0::2] = torch.sin(pos * div)\n",
    "            pe[:,1::2] = torch.cos(pos * div)\n",
    "            self.register_buffer('pe', pe.unsqueeze(0))\n",
    "\n",
    "    def forward(self, x:torch.Tensor) -> torch.Tensor:\n",
    "        # x: (B, L, D)\n",
    "        B,L,D = x.shape\n",
    "        assert L <= self.pe.size(1)\n",
    "        return x + self.pe[:, :L, :]"
   ]
  },
  {
   "cell_type": "code",
   "execution_count": 7,
   "id": "3abf669e",
   "metadata": {
    "execution": {
     "iopub.execute_input": "2025-05-18T21:46:55.610414Z",
     "iopub.status.busy": "2025-05-18T21:46:55.610194Z",
     "iopub.status.idle": "2025-05-18T21:46:55.618931Z",
     "shell.execute_reply": "2025-05-18T21:46:55.618444Z"
    },
    "papermill": {
     "duration": 0.03303,
     "end_time": "2025-05-18T21:46:55.619938",
     "exception": false,
     "start_time": "2025-05-18T21:46:55.586908",
     "status": "completed"
    },
    "tags": []
   },
   "outputs": [],
   "source": [
    "# 2) ScratchViTEncoder dynamic số patch\n",
    "\n",
    "class ScratchViTEncoder(nn.Module):\n",
    "    def __init__(self,\n",
    "                 hidden_dim: int = 768,\n",
    "                 img_size:    int = 448,\n",
    "                 learned:     bool = True):\n",
    "        super().__init__()\n",
    "        # load config, tắt flash_attn + checkpointing\n",
    "        config = AutoConfig.from_pretrained(\n",
    "            \"OpenGVLab/InternViT-300M-448px\", trust_remote_code=True\n",
    "        )\n",
    "        config.use_flash_attn = False\n",
    "        config.gradient_checkpointing = False\n",
    "\n",
    "        # load model\n",
    "        self.vit = AutoModel.from_pretrained(\n",
    "            \"OpenGVLab/InternViT-300M-448px\",\n",
    "            config=config,\n",
    "            torch_dtype=torch.bfloat16,\n",
    "            low_cpu_mem_usage=True,\n",
    "            trust_remote_code=True\n",
    "        ).to(device).eval()\n",
    "\n",
    "        # CLIP processor\n",
    "        self.processor = CLIPImageProcessor.from_pretrained(\n",
    "            \"OpenGVLab/InternViT-300M-448px\"\n",
    "        )\n",
    "\n",
    "        # freeze except block 11\n",
    "        for name, p in self.vit.named_parameters():\n",
    "            p.requires_grad = (\"blocks.11\" in name)\n",
    "\n",
    "        # project head\n",
    "        self.proj = nn.Linear(config.hidden_size, hidden_dim).to(device)\n",
    "\n",
    "        # compute num_patches dynamically\n",
    "        self.patch_size = config.patch_size\n",
    "        self.img_size   = img_size\n",
    "        self.num_patches = (img_size // config.patch_size) ** 2 + 1\n",
    "\n",
    "        # positional encoding (fixed or learned)\n",
    "        if learned:\n",
    "            self.pos_enc = nn.Parameter(torch.zeros(1, self.num_patches, hidden_dim))\n",
    "            nn.init.normal_(self.pos_enc, 0, 0.02)\n",
    "            self._learned = True\n",
    "        else:\n",
    "            pe = torch.zeros(self.num_patches, hidden_dim)\n",
    "            pos = torch.arange(self.num_patches).unsqueeze(1).float()\n",
    "            div = torch.exp(torch.arange(0, hidden_dim, 2).float() *\n",
    "                            -(math.log(10000.0)/hidden_dim))\n",
    "            pe[:,0::2] = torch.sin(pos * div)\n",
    "            pe[:,1::2] = torch.cos(pos * div)\n",
    "            self.register_buffer('pe', pe.unsqueeze(0))\n",
    "            self._learned = False\n",
    "\n",
    "    def forward(self, images):\n",
    "        # images: list[PIL] or Tensor(B,3,448,448)\n",
    "        if isinstance(images, list):\n",
    "            batch = self.processor(images=images, return_tensors=\"pt\").to(device)\n",
    "            pixel_values = batch[\"pixel_values\"]\n",
    "        else:\n",
    "            pixel_values = images.to(device)\n",
    "\n",
    "        # checkpoint to save memory\n",
    "        outputs = checkpoint(\n",
    "            self.vit,\n",
    "            pixel_values.to(torch.bfloat16),\n",
    "            use_reentrant=False\n",
    "        )\n",
    "        feats = outputs.last_hidden_state               # (B, N, cfg.hidden_size)\n",
    "        feats = self.proj(feats.to(torch.float32))      # (B, N, hidden_dim)\n",
    "\n",
    "        # add pos\n",
    "        if self._learned:\n",
    "            return feats + self.pos_enc[:, :feats.size(1), :]\n",
    "        else:\n",
    "            return feats + self.pe[:, :feats.size(1), :]"
   ]
  },
  {
   "cell_type": "code",
   "execution_count": 8,
   "id": "fc0f7db1",
   "metadata": {
    "execution": {
     "iopub.execute_input": "2025-05-18T21:46:55.709480Z",
     "iopub.status.busy": "2025-05-18T21:46:55.709185Z",
     "iopub.status.idle": "2025-05-18T21:46:55.715045Z",
     "shell.execute_reply": "2025-05-18T21:46:55.714510Z"
    },
    "papermill": {
     "duration": 0.07362,
     "end_time": "2025-05-18T21:46:55.716100",
     "exception": false,
     "start_time": "2025-05-18T21:46:55.642480",
     "status": "completed"
    },
    "tags": []
   },
   "outputs": [],
   "source": [
    "# === 3) Text Encoder: PhoBERT (frozen) ===\n",
    "class ScratchTextEncoder(nn.Module):\n",
    "    def __init__(self,\n",
    "                 model_name=\"vinai/phobert-base\",\n",
    "                 hidden_dim=768,\n",
    "                 max_len=MAX_LEN,\n",
    "                 freeze=True):\n",
    "        super().__init__()\n",
    "        self.text_model = AutoModel.from_pretrained(model_name).to(device)\n",
    "        if freeze:\n",
    "            for p in self.text_model.parameters():\n",
    "                p.requires_grad = False\n",
    "        # project only if needed\n",
    "        if hidden_dim == self.text_model.config.hidden_size:\n",
    "            self.proj = nn.Identity()\n",
    "        else:\n",
    "            self.proj = nn.Linear(self.text_model.config.hidden_size, hidden_dim).to(device)\n",
    "        self.pos_enc = PositionalEncoding(hidden_dim, max_len, learned=True).to(device)\n",
    "        assert max_len == MAX_LEN\n",
    "\n",
    "    def forward(self,\n",
    "                input_ids: torch.LongTensor,\n",
    "                attention_mask: torch.LongTensor) -> torch.Tensor:\n",
    "        B, L = input_ids.shape\n",
    "        assert L <= MAX_LEN\n",
    "        outs = self.text_model(\n",
    "            input_ids=input_ids.to(device),\n",
    "            attention_mask=attention_mask.to(device)\n",
    "        )\n",
    "        feats = self.proj(outs.last_hidden_state)  # (B, L, hidden_dim)\n",
    "        return self.pos_enc(feats)                 # + pos"
   ]
  },
  {
   "cell_type": "code",
   "execution_count": 9,
   "id": "e7d61a27",
   "metadata": {
    "execution": {
     "iopub.execute_input": "2025-05-18T21:46:55.764719Z",
     "iopub.status.busy": "2025-05-18T21:46:55.764509Z",
     "iopub.status.idle": "2025-05-18T21:46:55.772125Z",
     "shell.execute_reply": "2025-05-18T21:46:55.771470Z"
    },
    "papermill": {
     "duration": 0.034617,
     "end_time": "2025-05-18T21:46:55.773344",
     "exception": false,
     "start_time": "2025-05-18T21:46:55.738727",
     "status": "completed"
    },
    "tags": []
   },
   "outputs": [],
   "source": [
    "class FusionBlock(nn.Module):\n",
    "    def __init__(self, hidden_dim: int = 768, num_heads: int = 8):\n",
    "        super().__init__()\n",
    "        self.self_attn  = MultiheadAttention(hidden_dim, num_heads, batch_first=True)\n",
    "        self.norm_self  = LayerNorm(hidden_dim)\n",
    "        self.cross_q2i  = MultiheadAttention(hidden_dim, num_heads, batch_first=True)\n",
    "        self.norm_q     = LayerNorm(hidden_dim)\n",
    "        self.ffn        = nn.Sequential(\n",
    "            nn.Linear(hidden_dim, hidden_dim * 4),\n",
    "            nn.ReLU(),\n",
    "            nn.Linear(hidden_dim * 4, hidden_dim)\n",
    "        )\n",
    "        self.norm_ffn   = LayerNorm(hidden_dim)\n",
    "\n",
    "    def forward(self,\n",
    "                img_feats: torch.Tensor,   # (B, N_img, D)\n",
    "                txt_feats: torch.Tensor,   # (B, N_txt, D)\n",
    "                txt_mask: torch.Tensor = None  # (B, N_txt)\n",
    "               ) -> tuple[torch.Tensor, torch.Tensor]:\n",
    "        B1, N_img, D1 = img_feats.shape\n",
    "        B2, N_txt, D2 = txt_feats.shape\n",
    "        # Chỉ kiểm tra batch và dimension đồng nhất\n",
    "        assert B1 == B2 and D1 == D2, \\\n",
    "            f\"Batch or dim mismatch: img {img_feats.shape}, txt {txt_feats.shape}\"\n",
    "\n",
    "        # 1) Self‐attention trên [txt; img]\n",
    "        combined = torch.cat([txt_feats, img_feats], dim=1)  # (B, N_txt+N_img, D)\n",
    "        sa_out, _ = self.self_attn(combined, combined, combined)\n",
    "        combined = self.norm_self(combined + sa_out)\n",
    "\n",
    "        # 2) Tách lại thành text và image streams\n",
    "        txt_out = combined[:, :N_txt, :]  # (B, N_txt, D)\n",
    "        img_out = combined[:, N_txt:, :]  # (B, N_img, D)\n",
    "\n",
    "        # 3) Cross‐attention: text queries image\n",
    "        q2i_out, _ = self.cross_q2i(query=txt_out,\n",
    "                                    key=img_out,\n",
    "                                    value=img_out)\n",
    "        txt_out = self.norm_q(txt_out + q2i_out)\n",
    "        txt_out = self.norm_ffn(txt_out + self.ffn(txt_out))\n",
    "\n",
    "        # 4) Tạo memory padding mask để decoder dùng\n",
    "        mem_key_padding_mask = None\n",
    "        if txt_mask is not None:\n",
    "            # txt_mask: True cho tokens, False cho pad → chúng ta cần mask các pad\n",
    "            txt_pad = ~txt_mask.bool()                # (B, N_txt)\n",
    "            img_pad = torch.zeros(B1, N_img, dtype=torch.bool, device=txt_mask.device)\n",
    "            mem_key_padding_mask = torch.cat([txt_pad, img_pad], dim=1)  # (B, N_txt+N_img)\n",
    "\n",
    "        # 5) Nối lại làm memory\n",
    "        memory = torch.cat([txt_out, img_out], dim=1)  # (B, N_txt+N_img, D)\n",
    "\n",
    "        return memory, mem_key_padding_mask"
   ]
  },
  {
   "cell_type": "code",
   "execution_count": 10,
   "id": "d3e2513f",
   "metadata": {
    "execution": {
     "iopub.execute_input": "2025-05-18T21:46:55.820173Z",
     "iopub.status.busy": "2025-05-18T21:46:55.819907Z",
     "iopub.status.idle": "2025-05-18T21:46:55.842556Z",
     "shell.execute_reply": "2025-05-18T21:46:55.841824Z"
    },
    "papermill": {
     "duration": 0.047269,
     "end_time": "2025-05-18T21:46:55.843561",
     "exception": false,
     "start_time": "2025-05-18T21:46:55.796292",
     "status": "completed"
    },
    "tags": []
   },
   "outputs": [],
   "source": [
    "class GenerativeDecoder(nn.Module):\n",
    "    def __init__(self, vocab_size, hidden_dim=768, nhead=8, num_layers=4, max_len=MAX_LEN):\n",
    "        super().__init__()\n",
    "        layer = TransformerDecoderLayer(\n",
    "            d_model=hidden_dim,\n",
    "            nhead=nhead,\n",
    "            dim_feedforward=hidden_dim*4,\n",
    "            dropout=0.1,\n",
    "            batch_first=True\n",
    "        )\n",
    "        self.decoder   = TransformerDecoder(layer, num_layers=num_layers)\n",
    "        self.embed     = nn.Embedding(vocab_size, hidden_dim, padding_idx=0)\n",
    "        self.pos_enc   = PositionalEncoding(hidden_dim, max_len, learned=True)\n",
    "        self.out_proj  = nn.Linear(hidden_dim, vocab_size, bias=True)\n",
    "        nn.init.normal_(self.embed.weight, mean=0, std=0.02)\n",
    "        nn.init.normal_(self.out_proj.weight, mean=0, std=0.02)\n",
    "\n",
    "    def forward(self,\n",
    "                memory: torch.Tensor,\n",
    "                target_ids: torch.LongTensor,\n",
    "                memory_key_padding_mask: torch.Tensor = None\n",
    "               ) -> torch.Tensor:\n",
    "        \"\"\"\n",
    "        memory: (B, S, D)\n",
    "        target_ids: (B, T)\n",
    "        memory_key_padding_mask: (B, S) mask for memory (True=pad)\n",
    "        \"\"\"\n",
    "        B, T = target_ids.shape\n",
    "        # embed + positional\n",
    "        tgt = self.embed(target_ids.to(device))        # (B, T, D)\n",
    "        tgt = self.pos_enc(tgt)                        # (B, T, D)\n",
    "        # causal mask\n",
    "        tgt_mask = torch.triu(torch.ones((T, T), dtype=torch.bool, device=device), diagonal=1)\n",
    "        # pad mask for tgt\n",
    "        tgt_key_padding_mask = target_ids.eq(0).to(device)\n",
    "        # run decoder\n",
    "        dec_out = self.decoder(\n",
    "            tgt=tgt,\n",
    "            memory=memory,\n",
    "            tgt_mask=tgt_mask,\n",
    "            tgt_key_padding_mask=tgt_key_padding_mask,\n",
    "            memory_key_padding_mask=memory_key_padding_mask\n",
    "        )\n",
    "        return self.out_proj(dec_out)\n",
    "\n",
    "    @torch.no_grad()\n",
    "    def generate(self,\n",
    "                 memory: torch.Tensor,\n",
    "                 bos_id: int,\n",
    "                 eos_id: int,\n",
    "                 max_len: int = MAX_LEN,\n",
    "                 beam_size: int = BEAM_SIZE,\n",
    "                 use_topk: bool = False,\n",
    "                 top_k: int = TOP_K,\n",
    "                 use_topp: bool = True,  # Ưu tiên top-p\n",
    "                 top_p: float = TOP_P,\n",
    "                 temperature: float = TEMPERATURE,\n",
    "                 memory_key_padding_mask: torch.Tensor = None\n",
    "                ) -> torch.LongTensor:\n",
    "        B = memory.size(0)\n",
    "        device = memory.device\n",
    "        \n",
    "        if use_topp:\n",
    "            seq = torch.full((B, 1), bos_id, dtype=torch.long, device=device)\n",
    "            non_special = torch.zeros(B, dtype=torch.long, device=device)\n",
    "            \n",
    "            for _ in range(max_len - 1):\n",
    "                logits = self.forward(memory, seq, memory_key_padding_mask)\n",
    "                probs = F.softmax(logits[:, -1] / temperature, dim=-1)\n",
    "                probs = torch.nan_to_num(probs, nan=0.0, posinf=0.0, neginf=0.0)\n",
    "                probs = torch.clamp(probs, min=1e-10)\n",
    "                sums = probs.sum(dim=-1, keepdim=True)\n",
    "                zero_mask = sums.squeeze(-1).eq(0)\n",
    "                if zero_mask.any():\n",
    "                    probs[zero_mask] = 1.0 / probs.shape[-1]\n",
    "                    sums = probs.sum(dim=-1, keepdim=True)\n",
    "                probs = probs / sums\n",
    "                if seq.size(1) < 3:\n",
    "                    probs[:, eos_id] *= 0.005\n",
    "                    probs = probs / probs.sum(dim=-1, keepdim=True)\n",
    "                \n",
    "                sorted_probs, sorted_indices = torch.sort(probs, descending=True)\n",
    "                cumsum_probs = torch.cumsum(sorted_probs, dim=-1)\n",
    "                mask = cumsum_probs <= top_p\n",
    "                mask = torch.cat([torch.ones(B, 1, dtype=torch.bool, device=device), mask[:, :-1]], dim=-1)\n",
    "                sorted_probs = sorted_probs * mask.float()\n",
    "                sorted_probs = sorted_probs / sorted_probs.sum(dim=-1, keepdim=True)\n",
    "                idx = torch.multinomial(sorted_probs, 1)\n",
    "                next_tok = sorted_indices.gather(1, idx)\n",
    "                \n",
    "                mask = ((next_tok != bos_id) & (next_tok != eos_id) & (next_tok != 0)).squeeze(1)\n",
    "                non_special += mask.long()\n",
    "                \n",
    "                seq = torch.cat([seq, next_tok], dim=1)\n",
    "                if (seq[:, -1] == eos_id).all() and non_special.min() >= 2:\n",
    "                    break\n",
    "            \n",
    "            decoded = tokenizer.batch_decode(seq, skip_special_tokens=True)\n",
    "            if all(decode.strip() == \"\" for decode in decoded):\n",
    "                use_topk = True\n",
    "            else:\n",
    "                return seq\n",
    "        \n",
    "        if use_topk:\n",
    "            seq = torch.full((B, 1), bos_id, dtype=torch.long, device=device)\n",
    "            non_special = torch.zeros(B, dtype=torch.long, device=device)\n",
    "            \n",
    "            for _ in range(max_len - 1):\n",
    "                logits = self.forward(memory, seq, memory_key_padding_mask)\n",
    "                probs = F.softmax(logits[:, -1] / temperature, dim=-1)\n",
    "                probs = torch.nan_to_num(probs, nan=0.0, posinf=0.0, neginf=0.0)\n",
    "                probs = torch.clamp(probs, min=1e-10)\n",
    "                sums = probs.sum(dim=-1, keepdim=True)\n",
    "                zero_mask = sums.squeeze(-1).eq(0)\n",
    "                if zero_mask.any():\n",
    "                    probs[zero_mask] = 1.0 / probs.shape[-1]\n",
    "                    sums = probs.sum(dim=-1, keepdim=True)\n",
    "                probs = probs / sums\n",
    "                if seq.size(1) < 3:\n",
    "                    probs[:, eos_id] *= 0.005\n",
    "                    probs = probs / probs.sum(dim=-1, keepdim=True)\n",
    "                \n",
    "                top_probs, top_ids = probs.topk(top_k, dim=-1)\n",
    "                idx = torch.multinomial(top_probs, 1)\n",
    "                next_tok = top_ids.gather(1, idx)\n",
    "                \n",
    "                mask = ((next_tok != bos_id) & (next_tok != eos_id) & (next_tok != 0)).squeeze(1)\n",
    "                non_special += mask.long()\n",
    "                \n",
    "                seq = torch.cat([seq, next_tok], dim=1)\n",
    "                if (seq[:, -1] == eos_id).all() and non_special.min() >= 2:\n",
    "                    break\n",
    "                \n",
    "                decoded = tokenizer.batch_decode(seq, skip_special_tokens=True)\n",
    "                if all(decode.strip() == \"\" for decode in decoded):\n",
    "                    use_topk = False\n",
    "                else:\n",
    "                    return seq\n",
    "        \n",
    "        # Beam search\n",
    "        beams = [(torch.full((B, 1), bos_id, dtype=torch.long, device=device), 0.0)]\n",
    "        completed = []\n",
    "        for _ in range(max_len - 1):\n",
    "            new_beams = []\n",
    "            for seq, score in beams:\n",
    "                if (seq[:, -1] == eos_id).all() and seq.size(1) > 2:\n",
    "                    decoded = tokenizer.batch_decode(seq, skip_special_tokens=True)\n",
    "                    if any(d.strip() != \"\"):\n",
    "                        completed.append((seq, score))\n",
    "                    continue\n",
    "                logits = self.forward(memory, seq, memory_key_padding_mask)\n",
    "                probs = F.softmax(logits[:, -1] / temperature, dim=-1)\n",
    "                if seq.size(1) < 3:\n",
    "                    probs[:, eos_id] *= 0.005\n",
    "                top_probs, top_ids = probs.topk(beam_size, dim=-1)\n",
    "                for k in range(beam_size):\n",
    "                    new_seq = torch.cat([seq, top_ids[:, k:k+1]], dim=1)\n",
    "                    new_score = score + torch.log(top_probs[:, k]).mean().item()\n",
    "                    new_beams.append((new_seq, new_score))\n",
    "            beams = sorted(new_beams, key=lambda x: x[1], reverse=True)[:beam_size]\n",
    "            if len(completed) >= beam_size:\n",
    "                break\n",
    "        \n",
    "        all_beams = completed + beams\n",
    "        best_seq, _ = max(all_beams, key=lambda x: x[1])\n",
    "        \n",
    "        final_seqs = []\n",
    "        for s in best_seq.tolist():\n",
    "            if eos_id in s[1:]:\n",
    "                idx = s.index(eos_id, 1)\n",
    "                final_seqs.append(s[:idx])\n",
    "            else:\n",
    "                final_seqs.append(s)\n",
    "        L_out = max(len(s) for s in final_seqs)\n",
    "        out = torch.full((B, L_out), bos_id, dtype=torch.long, device=device)\n",
    "        for i, s in enumerate(final_seqs):\n",
    "            out[i, :len(s)] = torch.tensor(s, device=device)\n",
    "        return out"
   ]
  },
  {
   "cell_type": "code",
   "execution_count": 11,
   "id": "a2652eb3",
   "metadata": {
    "execution": {
     "iopub.execute_input": "2025-05-18T21:46:55.889445Z",
     "iopub.status.busy": "2025-05-18T21:46:55.889217Z",
     "iopub.status.idle": "2025-05-18T21:46:55.895135Z",
     "shell.execute_reply": "2025-05-18T21:46:55.894481Z"
    },
    "papermill": {
     "duration": 0.030202,
     "end_time": "2025-05-18T21:46:55.896214",
     "exception": false,
     "start_time": "2025-05-18T21:46:55.866012",
     "status": "completed"
    },
    "tags": []
   },
   "outputs": [],
   "source": [
    "# 6) Full VQA Model (giữ nguyên như bạn có, sẽ gọi đúng decoder.forward signature)\n",
    "class VQAModel(nn.Module):\n",
    "    def __init__(self, vocab_size, hidden_dim=768):\n",
    "        super().__init__()\n",
    "        self.img_enc = ScratchViTEncoder(hidden_dim, learned=True)\n",
    "        self.txt_enc = ScratchTextEncoder(\"vinai/phobert-base\", hidden_dim, MAX_LEN, freeze=True)\n",
    "        self.fuse    = FusionBlock(hidden_dim, num_heads=8)\n",
    "        self.decoder = GenerativeDecoder(vocab_size,\n",
    "                                         hidden_dim,\n",
    "                                         nhead=8,\n",
    "                                         num_layers=4,\n",
    "                                         max_len=MAX_LEN)\n",
    "\n",
    "    def forward(self, pv, qid, qmk, aid):\n",
    "        img_feats = self.img_enc(pv)\n",
    "        txt_feats = self.txt_enc(qid, qmk)\n",
    "        memory, mem_pad = self.fuse(img_feats, txt_feats, qmk)\n",
    "        # now forward accepts memory_key_padding_mask\n",
    "        return self.decoder(memory, aid, memory_key_padding_mask=mem_pad)\n",
    "\n",
    "    def generate_answer(self, pv, qid, qmk, bos_id, eos_id, max_len=MAX_LEN, beam_size=BEAM_SIZE, use_topk=False, top_k=TOP_K, use_topp=True, top_p=TOP_P, temperature=TEMPERATURE):\n",
    "        img_feats = self.img_enc(pv)\n",
    "        txt_feats = self.txt_enc(qid, qmk)\n",
    "        memory, mem_pad = self.fuse(img_feats, txt_feats, qmk)\n",
    "        return self.decoder.generate(\n",
    "            memory,\n",
    "            bos_id,\n",
    "            eos_id,\n",
    "            max_len=max_len,\n",
    "            beam_size=beam_size,\n",
    "            use_topk=use_topk,\n",
    "            top_k=top_k,\n",
    "            use_topp=use_topp,\n",
    "            top_p=top_p,\n",
    "            temperature=temperature,\n",
    "            memory_key_padding_mask=mem_pad\n",
    "        )"
   ]
  },
  {
   "cell_type": "code",
   "execution_count": 12,
   "id": "8aeca764",
   "metadata": {
    "execution": {
     "iopub.execute_input": "2025-05-18T21:46:55.943160Z",
     "iopub.status.busy": "2025-05-18T21:46:55.942932Z",
     "iopub.status.idle": "2025-05-18T21:46:55.951093Z",
     "shell.execute_reply": "2025-05-18T21:46:55.950406Z"
    },
    "papermill": {
     "duration": 0.032777,
     "end_time": "2025-05-18T21:46:55.952104",
     "exception": false,
     "start_time": "2025-05-18T21:46:55.919327",
     "status": "completed"
    },
    "tags": []
   },
   "outputs": [],
   "source": [
    "# === 7) Dataset & Preprocess ===\n",
    "class VQADataset(Dataset):\n",
    "    def __init__(self, df, tokenizer, max_len=MAX_LEN, use_ocr=False):\n",
    "        # 1) Loại bỏ các bản ghi có question hoặc answer sau strip() là rỗng\n",
    "        mask = (df['question'].str.strip() != \"\") & (df['answer'].str.strip() != \"\")\n",
    "        df = df[mask].reset_index(drop=True)\n",
    "\n",
    "        # 2) Gom nhóm theo image_path\n",
    "        self.df = df.groupby('image_path') \\\n",
    "                    .agg({'question': list, 'answer': list}) \\\n",
    "                    .reset_index()\n",
    "\n",
    "        self.tokenizer = tokenizer\n",
    "        self.max_len   = max_len\n",
    "        self.use_ocr   = use_ocr\n",
    "\n",
    "        # 3) CLIP processor để tạo pixel_values\n",
    "        self.processor = CLIPImageProcessor.from_pretrained(\n",
    "            \"OpenGVLab/InternViT-300M-448px\"\n",
    "        )\n",
    "\n",
    "        # 4) Nếu dùng OCR, khởi tạo reader và cache trước\n",
    "        if use_ocr:\n",
    "            self.ocr = easyocr.Reader(['vi'], gpu=torch.cuda.is_available())\n",
    "            self.ocr_cache = {}\n",
    "            for path in self.df['image_path'].unique():\n",
    "                try:\n",
    "                    res = self.ocr.readtext(path, detail=0)\n",
    "                    self.ocr_cache[path] = \" \".join(res) if res else \"\"\n",
    "                except:\n",
    "                    self.ocr_cache[path] = \"\"\n",
    "\n",
    "    def __len__(self):\n",
    "        return len(self.df)\n",
    "\n",
    "    def __getitem__(self, idx):\n",
    "        row = self.df.iloc[idx]\n",
    "\n",
    "        # A) Pixel values\n",
    "        pv = self.processor(\n",
    "            images=Image.open(row['image_path']).convert('RGB'),\n",
    "            return_tensors=\"pt\"\n",
    "        )[\"pixel_values\"].squeeze(0)\n",
    "\n",
    "        # B) Chọn ngẫu nhiên 1 cặp Q&A\n",
    "        i = random.randint(0, len(row['question']) - 1)\n",
    "        ques =row['question'][i]\n",
    "\n",
    "        # C) Ghép OCR nếu cần\n",
    "        if self.use_ocr:\n",
    "            img_text = self.ocr_cache.get(row['image_path'], \"\")\n",
    "            if img_text:\n",
    "                ques = f\"{ques} [IMG_TEXT] {img_text}\"\n",
    "\n",
    "        # D) Mã hóa question\n",
    "        enc_q = self.tokenizer(\n",
    "            ques,\n",
    "            padding='max_length',\n",
    "            truncation=True,\n",
    "            max_length=self.max_len,\n",
    "            return_tensors='pt'\n",
    "        )\n",
    "\n",
    "        # E) Mã hóa answer (thêm BOS/EOS)\n",
    "        ans = row['answer'][i]\n",
    "        ans = f\"{self.tokenizer.bos_token} {ans} {self.tokenizer.eos_token}\"\n",
    "        enc_a = self.tokenizer(\n",
    "            ans,\n",
    "            padding='max_length',\n",
    "            truncation=True,\n",
    "            max_length=self.max_len,\n",
    "            return_tensors='pt'\n",
    "        )\n",
    "\n",
    "        return {\n",
    "            'pixel_values': pv,\n",
    "            'question_ids':  enc_q.input_ids.squeeze(0),\n",
    "            'question_mask': enc_q.attention_mask.squeeze(0),\n",
    "            'answer_ids':    enc_a.input_ids.squeeze(0)\n",
    "        }"
   ]
  },
  {
   "cell_type": "code",
   "execution_count": 13,
   "id": "b255aed1",
   "metadata": {
    "execution": {
     "iopub.execute_input": "2025-05-18T21:46:55.998103Z",
     "iopub.status.busy": "2025-05-18T21:46:55.997886Z",
     "iopub.status.idle": "2025-05-18T21:47:01.005111Z",
     "shell.execute_reply": "2025-05-18T21:47:01.004280Z"
    },
    "papermill": {
     "duration": 5.031688,
     "end_time": "2025-05-18T21:47:01.006512",
     "exception": false,
     "start_time": "2025-05-18T21:46:55.974824",
     "status": "completed"
    },
    "tags": []
   },
   "outputs": [],
   "source": [
    "df_train = pd.read_csv(\"/kaggle/input/data-nlp-bai-2/df_train.csv\").sort_values(\"image_id\")\n",
    "df_test = pd.read_csv(\"/kaggle/input/data-nlp-bai-2/df_test.csv\").sort_values(\"image_id\")\n",
    "df = pd.concat((df_train,df_test),axis = 0)\n",
    "df_train = df[:round(0.85*len(df))]\n",
    "df_test = df[round(0.85*len(df)):]"
   ]
  },
  {
   "cell_type": "code",
   "execution_count": 14,
   "id": "81929e05",
   "metadata": {
    "execution": {
     "iopub.execute_input": "2025-05-18T21:47:01.054174Z",
     "iopub.status.busy": "2025-05-18T21:47:01.053662Z",
     "iopub.status.idle": "2025-05-18T21:47:01.065603Z",
     "shell.execute_reply": "2025-05-18T21:47:01.064535Z"
    },
    "papermill": {
     "duration": 0.036478,
     "end_time": "2025-05-18T21:47:01.066741",
     "exception": false,
     "start_time": "2025-05-18T21:47:01.030263",
     "status": "completed"
    },
    "tags": []
   },
   "outputs": [
    {
     "name": "stdout",
     "output_type": "stream",
     "text": [
      "Size train data: 255552\n",
      "Sample train data:          index  image_id                                           question  \\\n",
      "232225  161725         0  ai là người chủ biên_phần tiếng việt của cuốn ...   \n",
      "110289  130595         0  người nào đóng vai_trò chủ_chốt trong việc biê...   \n",
      "25090   149975         0                      cuốn sách được in lần thứ mấy   \n",
      "123548  149976         0  ai là người chủ biên_phần tiếng việt của cuốn ...   \n",
      "20730   161724         0  ai là người chủ biên_phần tiếng việt của cuốn ...   \n",
      "\n",
      "                                                   answer  \\\n",
      "232225  người chịu trách_nhiệm biên_soạn chính phần ti...   \n",
      "110289  bùi_minh toàn là người chủ biên_phần tiếng việ...   \n",
      "25090                        cuốn sách được in lần thứ ba   \n",
      "123548  bùi_minh toàn là người chủ biên_phần tiếng việ...   \n",
      "20730   bùi_minh toàn đảm_nhiệm vai_trò chủ_biên_phần ...   \n",
      "\n",
      "                                        image_path  \n",
      "232225  /kaggle/input/data-nlp-bai-2/img/img/0.jpg  \n",
      "110289  /kaggle/input/data-nlp-bai-2/img/img/0.jpg  \n",
      "25090   /kaggle/input/data-nlp-bai-2/img/img/0.jpg  \n",
      "123548  /kaggle/input/data-nlp-bai-2/img/img/0.jpg  \n",
      "20730   /kaggle/input/data-nlp-bai-2/img/img/0.jpg  \n",
      "Size test data: 45098\n",
      "Sample test data:         index  image_id                                           question  \\\n",
      "55616  104319     11594  bức hình thứ ba của bài_tập use the past_conti...   \n",
      "2753   117923     11596  trong ảnh hai hình_ảnh minh_họa cho hai cách t...   \n",
      "13651  117925     11596  theo nội_dung trong ảnh mục_đích của việc trìn...   \n",
      "45062  117931     11597                              nội_dung phần 2 là gì   \n",
      "11713  104344     11597  yêu_cầu của các bài_tập được nêu trong phần 3 ...   \n",
      "\n",
      "                                                  answer  \\\n",
      "55616  hình_ảnh thứ 3 miêu_tả cảnh các hiệp_sĩ đang c...   \n",
      "2753   hai hình_ảnh minh_họa cho hai cách trình_bày t...   \n",
      "13651  theo nội_dung trong ảnh mục_đích của việc trìn...   \n",
      "45062  nội_dung phần 2 là những câu lệnh hướng_dẫn ng...   \n",
      "11713  bài_tập trong phần 3 yêu_cầu người đọc chọn ch...   \n",
      "\n",
      "                                           image_path  \n",
      "55616  /kaggle/input/data-nlp-bai-2/img/img/11594.jpg  \n",
      "2753   /kaggle/input/data-nlp-bai-2/img/img/11596.jpg  \n",
      "13651  /kaggle/input/data-nlp-bai-2/img/img/11596.jpg  \n",
      "45062  /kaggle/input/data-nlp-bai-2/img/img/11597.jpg  \n",
      "11713  /kaggle/input/data-nlp-bai-2/img/img/11597.jpg  \n"
     ]
    }
   ],
   "source": [
    "print(\"Size train data:\", len(df_train))\n",
    "print(\"Sample train data:\", df_train.head())\n",
    "print(\"Size test data:\", len(df_test))\n",
    "print(\"Sample test data:\", df_test.head())"
   ]
  },
  {
   "cell_type": "code",
   "execution_count": 15,
   "id": "dfe297cd",
   "metadata": {
    "execution": {
     "iopub.execute_input": "2025-05-18T21:47:01.113999Z",
     "iopub.status.busy": "2025-05-18T21:47:01.113433Z",
     "iopub.status.idle": "2025-05-18T21:47:10.337301Z",
     "shell.execute_reply": "2025-05-18T21:47:10.336428Z"
    },
    "papermill": {
     "duration": 9.24838,
     "end_time": "2025-05-18T21:47:10.338549",
     "exception": false,
     "start_time": "2025-05-18T21:47:01.090169",
     "status": "completed"
    },
    "tags": []
   },
   "outputs": [
    {
     "data": {
      "application/vnd.jupyter.widget-view+json": {
       "model_id": "aff2f986745948b6b368539bd7435ca5",
       "version_major": 2,
       "version_minor": 0
      },
      "text/plain": [
       "config.json:   0%|          | 0.00/557 [00:00<?, ?B/s]"
      ]
     },
     "metadata": {},
     "output_type": "display_data"
    },
    {
     "data": {
      "application/vnd.jupyter.widget-view+json": {
       "model_id": "04b46b86b3024526bc3a7bb8435c50b5",
       "version_major": 2,
       "version_minor": 0
      },
      "text/plain": [
       "pytorch_model.bin:   0%|          | 0.00/543M [00:00<?, ?B/s]"
      ]
     },
     "metadata": {},
     "output_type": "display_data"
    },
    {
     "data": {
      "application/vnd.jupyter.widget-view+json": {
       "model_id": "1d2be439b6764c56a65d79b43d65dbe4",
       "version_major": 2,
       "version_minor": 0
      },
      "text/plain": [
       "model.safetensors:   0%|          | 0.00/543M [00:00<?, ?B/s]"
      ]
     },
     "metadata": {},
     "output_type": "display_data"
    }
   ],
   "source": [
    "bert_model = AutoModel.from_pretrained(\"vinai/phobert-base\").to(device)"
   ]
  },
  {
   "cell_type": "code",
   "execution_count": 16,
   "id": "4512c590",
   "metadata": {
    "execution": {
     "iopub.execute_input": "2025-05-18T21:47:10.387695Z",
     "iopub.status.busy": "2025-05-18T21:47:10.387378Z",
     "iopub.status.idle": "2025-05-18T21:47:33.578571Z",
     "shell.execute_reply": "2025-05-18T21:47:33.577674Z"
    },
    "papermill": {
     "duration": 23.217354,
     "end_time": "2025-05-18T21:47:33.579867",
     "exception": false,
     "start_time": "2025-05-18T21:47:10.362513",
     "status": "completed"
    },
    "tags": []
   },
   "outputs": [
    {
     "data": {
      "application/vnd.jupyter.widget-view+json": {
       "model_id": "0bb4c7d35f5b4a7dbf121b88a362d267",
       "version_major": 2,
       "version_minor": 0
      },
      "text/plain": [
       "vocab.txt:   0%|          | 0.00/895k [00:00<?, ?B/s]"
      ]
     },
     "metadata": {},
     "output_type": "display_data"
    },
    {
     "data": {
      "application/vnd.jupyter.widget-view+json": {
       "model_id": "1bff1797de5040a3af3ad41557cb841e",
       "version_major": 2,
       "version_minor": 0
      },
      "text/plain": [
       "bpe.codes:   0%|          | 0.00/1.14M [00:00<?, ?B/s]"
      ]
     },
     "metadata": {},
     "output_type": "display_data"
    },
    {
     "data": {
      "application/vnd.jupyter.widget-view+json": {
       "model_id": "1bdbfca9eacf4563b4dff3d3c3dc7a54",
       "version_major": 2,
       "version_minor": 0
      },
      "text/plain": [
       "tokenizer.json:   0%|          | 0.00/3.13M [00:00<?, ?B/s]"
      ]
     },
     "metadata": {},
     "output_type": "display_data"
    },
    {
     "name": "stdout",
     "output_type": "stream",
     "text": [
      "BOS token: <s> EOS token: </s>\n"
     ]
    },
    {
     "data": {
      "application/vnd.jupyter.widget-view+json": {
       "model_id": "5ca9442755524c65a657a8e45510609c",
       "version_major": 2,
       "version_minor": 0
      },
      "text/plain": [
       "preprocessor_config.json:   0%|          | 0.00/287 [00:00<?, ?B/s]"
      ]
     },
     "metadata": {},
     "output_type": "display_data"
    },
    {
     "data": {
      "application/vnd.jupyter.widget-view+json": {
       "model_id": "87bc29c332f14879aa7094f67c3121d6",
       "version_major": 2,
       "version_minor": 0
      },
      "text/plain": [
       "config.json:   0%|          | 0.00/748 [00:00<?, ?B/s]"
      ]
     },
     "metadata": {},
     "output_type": "display_data"
    },
    {
     "data": {
      "application/vnd.jupyter.widget-view+json": {
       "model_id": "cd5858ae42154a8cabea52f88996dbde",
       "version_major": 2,
       "version_minor": 0
      },
      "text/plain": [
       "configuration_intern_vit.py:   0%|          | 0.00/5.55k [00:00<?, ?B/s]"
      ]
     },
     "metadata": {},
     "output_type": "display_data"
    },
    {
     "name": "stderr",
     "output_type": "stream",
     "text": [
      "A new version of the following files was downloaded from https://huggingface.co/OpenGVLab/InternViT-300M-448px:\n",
      "- configuration_intern_vit.py\n",
      ". Make sure to double-check they do not contain any added malicious code. To avoid downloading new versions of the code file, you can pin a revision.\n"
     ]
    },
    {
     "data": {
      "application/vnd.jupyter.widget-view+json": {
       "model_id": "78e488f9f78b4c7aa38df1b95b51b9da",
       "version_major": 2,
       "version_minor": 0
      },
      "text/plain": [
       "modeling_intern_vit.py:   0%|          | 0.00/14.9k [00:00<?, ?B/s]"
      ]
     },
     "metadata": {},
     "output_type": "display_data"
    },
    {
     "data": {
      "application/vnd.jupyter.widget-view+json": {
       "model_id": "5d64ec81865e4b459812289f19996952",
       "version_major": 2,
       "version_minor": 0
      },
      "text/plain": [
       "flash_attention.py:   0%|          | 0.00/3.46k [00:00<?, ?B/s]"
      ]
     },
     "metadata": {},
     "output_type": "display_data"
    },
    {
     "name": "stderr",
     "output_type": "stream",
     "text": [
      "A new version of the following files was downloaded from https://huggingface.co/OpenGVLab/InternViT-300M-448px:\n",
      "- flash_attention.py\n",
      ". Make sure to double-check they do not contain any added malicious code. To avoid downloading new versions of the code file, you can pin a revision.\n",
      "A new version of the following files was downloaded from https://huggingface.co/OpenGVLab/InternViT-300M-448px:\n",
      "- modeling_intern_vit.py\n",
      "- flash_attention.py\n",
      ". Make sure to double-check they do not contain any added malicious code. To avoid downloading new versions of the code file, you can pin a revision.\n",
      "/usr/local/lib/python3.11/dist-packages/timm/models/layers/__init__.py:48: FutureWarning: Importing from timm.models.layers is deprecated, please import via timm.layers\n",
      "  warnings.warn(f\"Importing from {__name__} is deprecated, please import via timm.layers\", FutureWarning)\n"
     ]
    },
    {
     "data": {
      "application/vnd.jupyter.widget-view+json": {
       "model_id": "0880cd465ec04dc8bfe107c7393ea02f",
       "version_major": 2,
       "version_minor": 0
      },
      "text/plain": [
       "model.safetensors:   0%|          | 0.00/608M [00:00<?, ?B/s]"
      ]
     },
     "metadata": {},
     "output_type": "display_data"
    },
    {
     "name": "stderr",
     "output_type": "stream",
     "text": [
      "/tmp/ipykernel_19/1023068309.py:25: FutureWarning: `torch.cuda.amp.GradScaler(args...)` is deprecated. Please use `torch.amp.GradScaler('cuda', args...)` instead.\n",
      "  scaler = torch.cuda.amp.GradScaler()\n"
     ]
    },
    {
     "name": "stdout",
     "output_type": "stream",
     "text": [
      "✅ Loaded checkpoint from /kaggle/input/model1/checkpoint_latest.pth, resuming at epoch 2\n"
     ]
    }
   ],
   "source": [
    "tokenizer = AutoTokenizer.from_pretrained(\"vinai/phobert-base\")\n",
    "tokenizer.add_special_tokens({'bos_token': '<s>', 'eos_token': '</s>'})\n",
    "print(\"BOS token:\", tokenizer.bos_token, \"EOS token:\", tokenizer.eos_token)\n",
    "\n",
    "train_ds = VQADataset(df_train, tokenizer, max_len=MAX_LEN, use_ocr=False)\n",
    "val_ds = VQADataset(df_test, tokenizer, max_len=MAX_LEN, use_ocr=False)\n",
    "train_loader = DataLoader(train_ds, batch_size=16, shuffle=True, num_workers=0, pin_memory=True)\n",
    "val_loader = DataLoader(val_ds, batch_size=16, shuffle=False, num_workers=0, pin_memory=True)\n",
    "\n",
    "model = VQAModel(vocab_size=len(tokenizer), hidden_dim=768).to(device)\n",
    "\n",
    "bert_emb = model.txt_enc.text_model.embeddings.word_embeddings.weight\n",
    "model.decoder.embed = nn.Embedding.from_pretrained(bert_emb, freeze=False, padding_idx=tokenizer.pad_token_id).to(device)\n",
    "model.decoder.out_proj = nn.Linear(bert_emb.size(1), bert_emb.size(0)).to(device)\n",
    "model.decoder.out_proj.weight = model.decoder.embed.weight\n",
    "nn.init.zeros_(model.decoder.out_proj.bias)\n",
    "\n",
    "optimizer = AdamW(model.parameters(), lr=LR)\n",
    "total_steps = len(train_loader) * EPOCHS\n",
    "scheduler = get_linear_schedule_with_warmup(\n",
    "    optimizer,\n",
    "    num_warmup_steps=int(WARMUP_RATIO * total_steps),\n",
    "    num_training_steps=total_steps\n",
    ")\n",
    "scaler = torch.cuda.amp.GradScaler()\n",
    "criterion = nn.CrossEntropyLoss(ignore_index=tokenizer.pad_token_id)\n",
    "\n",
    "start_epoch = 0\n",
    "if os.path.exists(CHECKPOINT_PATH):\n",
    "    start_epoch = load_checkpoint(CHECKPOINT_PATH, model, optimizer, scheduler, device)"
   ]
  },
  {
   "cell_type": "code",
   "execution_count": 17,
   "id": "17940efb",
   "metadata": {
    "execution": {
     "iopub.execute_input": "2025-05-18T21:47:33.630328Z",
     "iopub.status.busy": "2025-05-18T21:47:33.629619Z",
     "iopub.status.idle": "2025-05-18T21:47:33.639809Z",
     "shell.execute_reply": "2025-05-18T21:47:33.639304Z"
    },
    "papermill": {
     "duration": 0.035473,
     "end_time": "2025-05-18T21:47:33.640741",
     "exception": false,
     "start_time": "2025-05-18T21:47:33.605268",
     "status": "completed"
    },
    "tags": []
   },
   "outputs": [],
   "source": [
    "# Hàm đánh giá mô hình (sửa đổi)\n",
    "def evaluate_model(model, loader, tokenizer, epoch):\n",
    "    model.eval()\n",
    "    preds, refs = [], []\n",
    "    scorer = rouge_scorer.RougeScorer(['rouge1', 'rouge2', 'rougeL'], use_stemmer=True)\n",
    "    empty_pred_count = 0\n",
    "    \n",
    "    with torch.no_grad():\n",
    "        for batch in tqdm(loader, desc=f\"Evaluating Epoch {epoch+1}\"):\n",
    "            pv = batch['pixel_values'].to(device)\n",
    "            qid = batch['question_ids'].to(device)\n",
    "            qmk = batch['question_mask'].to(device)\n",
    "            aid = batch['answer_ids'].to(device)\n",
    "            \n",
    "            # Kiểm tra dữ liệu đầu vào\n",
    "            if qid.eq(tokenizer.pad_token_id).all() or aid.eq(tokenizer.pad_token_id).all():\n",
    "                print(\"Warning: Empty question or answer detected, skipping batch\")\n",
    "                continue\n",
    "            \n",
    "            # Sinh dự đoán với top-p sampling\n",
    "            gen_ids = model.generate_answer(\n",
    "                pv,\n",
    "                qid,\n",
    "                qmk,\n",
    "                tokenizer.bos_token_id,\n",
    "                tokenizer.eos_token_id,\n",
    "                max_len=MAX_LEN,\n",
    "                beam_size=BEAM_SIZE,\n",
    "                use_topk=False,\n",
    "                top_k=TOP_K,\n",
    "                use_topp=True,\n",
    "                top_p=TOP_P,\n",
    "                temperature=TEMPERATURE\n",
    "            )\n",
    "            ptxt = tokenizer.batch_decode(gen_ids, skip_special_tokens=True)\n",
    "            print(f\"gen_ids: {gen_ids.tolist()[:5]}\")\n",
    "            \n",
    "            # Kiểm tra dự đoán rỗng và thử beam search\n",
    "            if all(p.strip() == \"\" for p in ptxt):\n",
    "                print(\"Empty predictions detected, retrying with beam search\")\n",
    "                empty_pred_count += 1\n",
    "                gen_ids = model.generate_answer(\n",
    "                    pv,\n",
    "                    qid,\n",
    "                    qmk,\n",
    "                    tokenizer.bos_token_id,\n",
    "                    tokenizer.eos_token_id,\n",
    "                    max_len=MAX_LEN,\n",
    "                    beam_size=BEAM_SIZE,\n",
    "                    use_topk=False,\n",
    "                    top_k=TOP_K,\n",
    "                    use_topp=False\n",
    "                )\n",
    "                ptxt = tokenizer.batch_decode(gen_ids, skip_special_tokens=True)\n",
    "            \n",
    "            rtxt = tokenizer.batch_decode(aid, skip_special_tokens=True)\n",
    "            if len(preds) < 5:\n",
    "                print(f\"Prediction: {ptxt[0]}\")\n",
    "                print(f\"Reference: {rtxt[0]}\")\n",
    "            preds.extend(ptxt)\n",
    "            refs.extend(rtxt)\n",
    "    \n",
    "    print(f\"Total empty predictions: {empty_pred_count}/{len(loader)} batches\")\n",
    "    \n",
    "    # Ghi dự đoán vào file\n",
    "    with open(f\"predictions_epoch_{epoch+1}.txt\", \"w\", encoding=\"utf-8\") as f:\n",
    "        for p, r in zip(preds[:10], refs[:10]):\n",
    "            f.write(f\"Prediction: {p}\\nReference: {r}\\n\\n\")\n",
    "    \n",
    "    # Tính các chỉ số\n",
    "    bleu = corpus_bleu([[r.split()] for r in refs], [p.split() for p in preds])\n",
    "    rouge1 = sum(scorer.score(r, p)['rouge1'].fmeasure for r, p in zip(refs, preds)) / len(preds)\n",
    "    rouge2 = sum(scorer.score(r, p)['rouge2'].fmeasure for r, p in zip(refs, preds)) / len(preds)\n",
    "    rougeL = sum(scorer.score(r, p)['rougeL'].fmeasure for r, p in zip(refs, preds)) / len(preds)\n",
    "    print(f\"Epoch {epoch+1} - Test Evaluation: BLEU: {bleu:.4f}, ROUGE-1: {rouge1:.4f}, ROUGE-2: {rouge2:.4f}, ROUGE-L: {rougeL:.4f}\")\n",
    "    return bleu, rouge1, rouge2, rougeL"
   ]
  },
  {
   "cell_type": "code",
   "execution_count": 18,
   "id": "d0f75425",
   "metadata": {
    "execution": {
     "iopub.execute_input": "2025-05-18T21:47:33.690461Z",
     "iopub.status.busy": "2025-05-18T21:47:33.690247Z",
     "iopub.status.idle": "2025-05-19T04:58:45.541863Z",
     "shell.execute_reply": "2025-05-19T04:58:45.540816Z"
    },
    "papermill": {
     "duration": 25871.878215,
     "end_time": "2025-05-19T04:58:45.544057",
     "exception": false,
     "start_time": "2025-05-18T21:47:33.665842",
     "status": "completed"
    },
    "tags": []
   },
   "outputs": [
    {
     "name": "stderr",
     "output_type": "stream",
     "text": [
      "Epoch 3/5:   0%|          | 0/3240 [00:00<?, ?it/s]/usr/local/lib/python3.11/dist-packages/torch/_dynamo/eval_frame.py:745: UserWarning: torch.utils.checkpoint: the use_reentrant parameter should be passed explicitly. In version 2.5 we will raise an exception if use_reentrant is not passed. use_reentrant=False is recommended, but if you need to preserve the current default behavior, you can pass use_reentrant=True. Refer to docs for more details on the differences between the two variants.\n",
      "  return fn(*args, **kwargs)\n",
      "/usr/local/lib/python3.11/dist-packages/torch/utils/checkpoint.py:87: UserWarning: None of the inputs have requires_grad=True. Gradients will be None\n",
      "  warnings.warn(\n",
      "Epoch 3/5:   2%|▏         | 64/3240 [02:50<2:27:28,  2.79s/it]"
     ]
    },
    {
     "name": "stdout",
     "output_type": "stream",
     "text": [
      "Step 64: Loss: 6.8854\n"
     ]
    },
    {
     "name": "stderr",
     "output_type": "stream",
     "text": [
      "Epoch 3/5:   4%|▍         | 128/3240 [05:45<2:23:02,  2.76s/it]"
     ]
    },
    {
     "name": "stdout",
     "output_type": "stream",
     "text": [
      "Step 128: Loss: 6.6695\n"
     ]
    },
    {
     "name": "stderr",
     "output_type": "stream",
     "text": [
      "Epoch 3/5:   6%|▌         | 192/3240 [08:42<2:21:01,  2.78s/it]"
     ]
    },
    {
     "name": "stdout",
     "output_type": "stream",
     "text": [
      "Step 192: Loss: 6.8404\n"
     ]
    },
    {
     "name": "stderr",
     "output_type": "stream",
     "text": [
      "Epoch 3/5:   8%|▊         | 256/3240 [11:37<2:17:36,  2.77s/it]"
     ]
    },
    {
     "name": "stdout",
     "output_type": "stream",
     "text": [
      "Step 256: Loss: 6.5341\n"
     ]
    },
    {
     "name": "stderr",
     "output_type": "stream",
     "text": [
      "Epoch 3/5:  10%|▉         | 320/3240 [14:33<2:14:38,  2.77s/it]"
     ]
    },
    {
     "name": "stdout",
     "output_type": "stream",
     "text": [
      "Step 320: Loss: 6.3548\n"
     ]
    },
    {
     "name": "stderr",
     "output_type": "stream",
     "text": [
      "Epoch 3/5:  12%|█▏        | 384/3240 [17:29<2:12:23,  2.78s/it]"
     ]
    },
    {
     "name": "stdout",
     "output_type": "stream",
     "text": [
      "Step 384: Loss: 6.5900\n"
     ]
    },
    {
     "name": "stderr",
     "output_type": "stream",
     "text": [
      "Epoch 3/5:  14%|█▍        | 448/3240 [20:27<2:11:15,  2.82s/it]"
     ]
    },
    {
     "name": "stdout",
     "output_type": "stream",
     "text": [
      "Step 448: Loss: 6.5213\n"
     ]
    },
    {
     "name": "stderr",
     "output_type": "stream",
     "text": [
      "Epoch 3/5:  16%|█▌        | 512/3240 [23:23<2:06:00,  2.77s/it]"
     ]
    },
    {
     "name": "stdout",
     "output_type": "stream",
     "text": [
      "Step 512: Loss: 6.3777\n"
     ]
    },
    {
     "name": "stderr",
     "output_type": "stream",
     "text": [
      "Epoch 3/5:  18%|█▊        | 576/3240 [26:19<2:02:56,  2.77s/it]"
     ]
    },
    {
     "name": "stdout",
     "output_type": "stream",
     "text": [
      "Step 576: Loss: 6.2331\n"
     ]
    },
    {
     "name": "stderr",
     "output_type": "stream",
     "text": [
      "Epoch 3/5:  20%|█▉        | 640/3240 [29:15<1:59:55,  2.77s/it]"
     ]
    },
    {
     "name": "stdout",
     "output_type": "stream",
     "text": [
      "Step 640: Loss: 6.4012\n"
     ]
    },
    {
     "name": "stderr",
     "output_type": "stream",
     "text": [
      "Epoch 3/5:  22%|██▏       | 704/3240 [32:10<1:57:17,  2.78s/it]"
     ]
    },
    {
     "name": "stdout",
     "output_type": "stream",
     "text": [
      "Step 704: Loss: 6.5829\n"
     ]
    },
    {
     "name": "stderr",
     "output_type": "stream",
     "text": [
      "Epoch 3/5:  24%|██▎       | 768/3240 [35:06<1:54:21,  2.78s/it]"
     ]
    },
    {
     "name": "stdout",
     "output_type": "stream",
     "text": [
      "Step 768: Loss: 6.2918\n"
     ]
    },
    {
     "name": "stderr",
     "output_type": "stream",
     "text": [
      "Epoch 3/5:  26%|██▌       | 832/3240 [38:02<1:51:59,  2.79s/it]"
     ]
    },
    {
     "name": "stdout",
     "output_type": "stream",
     "text": [
      "Step 832: Loss: 6.2597\n"
     ]
    },
    {
     "name": "stderr",
     "output_type": "stream",
     "text": [
      "Epoch 3/5:  28%|██▊       | 896/3240 [40:59<1:48:12,  2.77s/it]"
     ]
    },
    {
     "name": "stdout",
     "output_type": "stream",
     "text": [
      "Step 896: Loss: 6.3898\n"
     ]
    },
    {
     "name": "stderr",
     "output_type": "stream",
     "text": [
      "Epoch 3/5:  30%|██▉       | 960/3240 [43:56<1:44:54,  2.76s/it]"
     ]
    },
    {
     "name": "stdout",
     "output_type": "stream",
     "text": [
      "Step 960: Loss: 6.1788\n"
     ]
    },
    {
     "name": "stderr",
     "output_type": "stream",
     "text": [
      "Epoch 3/5:  32%|███▏      | 1024/3240 [46:52<1:42:17,  2.77s/it]"
     ]
    },
    {
     "name": "stdout",
     "output_type": "stream",
     "text": [
      "Step 1024: Loss: 6.2421\n"
     ]
    },
    {
     "name": "stderr",
     "output_type": "stream",
     "text": [
      "Epoch 3/5:  34%|███▎      | 1088/3240 [49:48<1:39:22,  2.77s/it]"
     ]
    },
    {
     "name": "stdout",
     "output_type": "stream",
     "text": [
      "Step 1088: Loss: 6.1698\n"
     ]
    },
    {
     "name": "stderr",
     "output_type": "stream",
     "text": [
      "Epoch 3/5:  36%|███▌      | 1152/3240 [52:44<1:36:41,  2.78s/it]"
     ]
    },
    {
     "name": "stdout",
     "output_type": "stream",
     "text": [
      "Step 1152: Loss: 5.9698\n"
     ]
    },
    {
     "name": "stderr",
     "output_type": "stream",
     "text": [
      "Epoch 3/5:  38%|███▊      | 1216/3240 [55:39<1:32:57,  2.76s/it]"
     ]
    },
    {
     "name": "stdout",
     "output_type": "stream",
     "text": [
      "Step 1216: Loss: 6.2085\n"
     ]
    },
    {
     "name": "stderr",
     "output_type": "stream",
     "text": [
      "Epoch 3/5:  40%|███▉      | 1280/3240 [58:35<1:29:52,  2.75s/it]"
     ]
    },
    {
     "name": "stdout",
     "output_type": "stream",
     "text": [
      "Step 1280: Loss: 6.2067\n"
     ]
    },
    {
     "name": "stderr",
     "output_type": "stream",
     "text": [
      "Epoch 3/5:  41%|████▏     | 1344/3240 [1:01:30<1:26:55,  2.75s/it]"
     ]
    },
    {
     "name": "stdout",
     "output_type": "stream",
     "text": [
      "Step 1344: Loss: 6.3260\n"
     ]
    },
    {
     "name": "stderr",
     "output_type": "stream",
     "text": [
      "Epoch 3/5:  43%|████▎     | 1408/3240 [1:04:25<1:24:08,  2.76s/it]"
     ]
    },
    {
     "name": "stdout",
     "output_type": "stream",
     "text": [
      "Step 1408: Loss: 6.1031\n"
     ]
    },
    {
     "name": "stderr",
     "output_type": "stream",
     "text": [
      "Epoch 3/5:  45%|████▌     | 1472/3240 [1:07:21<1:21:28,  2.77s/it]"
     ]
    },
    {
     "name": "stdout",
     "output_type": "stream",
     "text": [
      "Step 1472: Loss: 5.9959\n"
     ]
    },
    {
     "name": "stderr",
     "output_type": "stream",
     "text": [
      "Epoch 3/5:  47%|████▋     | 1536/3240 [1:10:16<1:18:33,  2.77s/it]"
     ]
    },
    {
     "name": "stdout",
     "output_type": "stream",
     "text": [
      "Step 1536: Loss: 5.9024\n"
     ]
    },
    {
     "name": "stderr",
     "output_type": "stream",
     "text": [
      "Epoch 3/5:  49%|████▉     | 1600/3240 [1:13:11<1:15:25,  2.76s/it]"
     ]
    },
    {
     "name": "stdout",
     "output_type": "stream",
     "text": [
      "Step 1600: Loss: 6.0087\n"
     ]
    },
    {
     "name": "stderr",
     "output_type": "stream",
     "text": [
      "Epoch 3/5:  51%|█████▏    | 1664/3240 [1:16:07<1:12:15,  2.75s/it]"
     ]
    },
    {
     "name": "stdout",
     "output_type": "stream",
     "text": [
      "Step 1664: Loss: 6.0508\n"
     ]
    },
    {
     "name": "stderr",
     "output_type": "stream",
     "text": [
      "Epoch 3/5:  53%|█████▎    | 1728/3240 [1:19:03<1:09:33,  2.76s/it]"
     ]
    },
    {
     "name": "stdout",
     "output_type": "stream",
     "text": [
      "Step 1728: Loss: 5.7869\n"
     ]
    },
    {
     "name": "stderr",
     "output_type": "stream",
     "text": [
      "Epoch 3/5:  55%|█████▌    | 1792/3240 [1:21:58<1:06:43,  2.76s/it]"
     ]
    },
    {
     "name": "stdout",
     "output_type": "stream",
     "text": [
      "Step 1792: Loss: 6.1168\n"
     ]
    },
    {
     "name": "stderr",
     "output_type": "stream",
     "text": [
      "Epoch 3/5:  57%|█████▋    | 1856/3240 [1:24:54<1:03:56,  2.77s/it]"
     ]
    },
    {
     "name": "stdout",
     "output_type": "stream",
     "text": [
      "Step 1856: Loss: 6.0333\n"
     ]
    },
    {
     "name": "stderr",
     "output_type": "stream",
     "text": [
      "Epoch 3/5:  59%|█████▉    | 1920/3240 [1:27:50<1:01:03,  2.78s/it]"
     ]
    },
    {
     "name": "stdout",
     "output_type": "stream",
     "text": [
      "Step 1920: Loss: 5.7406\n"
     ]
    },
    {
     "name": "stderr",
     "output_type": "stream",
     "text": [
      "Epoch 3/5:  61%|██████    | 1984/3240 [1:30:45<57:50,  2.76s/it]"
     ]
    },
    {
     "name": "stdout",
     "output_type": "stream",
     "text": [
      "Step 1984: Loss: 6.0659\n"
     ]
    },
    {
     "name": "stderr",
     "output_type": "stream",
     "text": [
      "Epoch 3/5:  63%|██████▎   | 2048/3240 [1:33:40<55:03,  2.77s/it]"
     ]
    },
    {
     "name": "stdout",
     "output_type": "stream",
     "text": [
      "Step 2048: Loss: 5.9240\n"
     ]
    },
    {
     "name": "stderr",
     "output_type": "stream",
     "text": [
      "Epoch 3/5:  65%|██████▌   | 2112/3240 [1:36:36<51:59,  2.77s/it]"
     ]
    },
    {
     "name": "stdout",
     "output_type": "stream",
     "text": [
      "Step 2112: Loss: 5.6890\n"
     ]
    },
    {
     "name": "stderr",
     "output_type": "stream",
     "text": [
      "Epoch 3/5:  67%|██████▋   | 2176/3240 [1:39:31<48:57,  2.76s/it]"
     ]
    },
    {
     "name": "stdout",
     "output_type": "stream",
     "text": [
      "Step 2176: Loss: 6.0466\n"
     ]
    },
    {
     "name": "stderr",
     "output_type": "stream",
     "text": [
      "Epoch 3/5:  69%|██████▉   | 2240/3240 [1:42:26<45:57,  2.76s/it]"
     ]
    },
    {
     "name": "stdout",
     "output_type": "stream",
     "text": [
      "Step 2240: Loss: 5.7297\n"
     ]
    },
    {
     "name": "stderr",
     "output_type": "stream",
     "text": [
      "Epoch 3/5:  71%|███████   | 2304/3240 [1:45:22<43:13,  2.77s/it]"
     ]
    },
    {
     "name": "stdout",
     "output_type": "stream",
     "text": [
      "Step 2304: Loss: 6.1210\n"
     ]
    },
    {
     "name": "stderr",
     "output_type": "stream",
     "text": [
      "Epoch 3/5:  73%|███████▎  | 2368/3240 [1:48:18<39:58,  2.75s/it]"
     ]
    },
    {
     "name": "stdout",
     "output_type": "stream",
     "text": [
      "Step 2368: Loss: 6.1866\n"
     ]
    },
    {
     "name": "stderr",
     "output_type": "stream",
     "text": [
      "Epoch 3/5:  75%|███████▌  | 2432/3240 [1:51:13<37:25,  2.78s/it]"
     ]
    },
    {
     "name": "stdout",
     "output_type": "stream",
     "text": [
      "Step 2432: Loss: 5.7348\n"
     ]
    },
    {
     "name": "stderr",
     "output_type": "stream",
     "text": [
      "Epoch 3/5:  77%|███████▋  | 2496/3240 [1:54:09<34:05,  2.75s/it]"
     ]
    },
    {
     "name": "stdout",
     "output_type": "stream",
     "text": [
      "Step 2496: Loss: 6.1530\n"
     ]
    },
    {
     "name": "stderr",
     "output_type": "stream",
     "text": [
      "Epoch 3/5:  79%|███████▉  | 2560/3240 [1:57:04<31:04,  2.74s/it]"
     ]
    },
    {
     "name": "stdout",
     "output_type": "stream",
     "text": [
      "Step 2560: Loss: 5.8878\n"
     ]
    },
    {
     "name": "stderr",
     "output_type": "stream",
     "text": [
      "Epoch 3/5:  81%|████████  | 2624/3240 [2:00:02<28:39,  2.79s/it]"
     ]
    },
    {
     "name": "stdout",
     "output_type": "stream",
     "text": [
      "Step 2624: Loss: 5.7960\n"
     ]
    },
    {
     "name": "stderr",
     "output_type": "stream",
     "text": [
      "Epoch 3/5:  83%|████████▎ | 2688/3240 [2:02:59<25:28,  2.77s/it]"
     ]
    },
    {
     "name": "stdout",
     "output_type": "stream",
     "text": [
      "Step 2688: Loss: 5.9136\n"
     ]
    },
    {
     "name": "stderr",
     "output_type": "stream",
     "text": [
      "Epoch 3/5:  85%|████████▍ | 2752/3240 [2:05:55<22:31,  2.77s/it]"
     ]
    },
    {
     "name": "stdout",
     "output_type": "stream",
     "text": [
      "Step 2752: Loss: 5.7913\n"
     ]
    },
    {
     "name": "stderr",
     "output_type": "stream",
     "text": [
      "Epoch 3/5:  87%|████████▋ | 2816/3240 [2:08:51<19:35,  2.77s/it]"
     ]
    },
    {
     "name": "stdout",
     "output_type": "stream",
     "text": [
      "Step 2816: Loss: 5.8145\n"
     ]
    },
    {
     "name": "stderr",
     "output_type": "stream",
     "text": [
      "Epoch 3/5:  89%|████████▉ | 2880/3240 [2:11:46<16:33,  2.76s/it]"
     ]
    },
    {
     "name": "stdout",
     "output_type": "stream",
     "text": [
      "Step 2880: Loss: 5.9868\n"
     ]
    },
    {
     "name": "stderr",
     "output_type": "stream",
     "text": [
      "Epoch 3/5:  91%|█████████ | 2944/3240 [2:14:41<13:38,  2.76s/it]"
     ]
    },
    {
     "name": "stdout",
     "output_type": "stream",
     "text": [
      "Step 2944: Loss: 5.9251\n"
     ]
    },
    {
     "name": "stderr",
     "output_type": "stream",
     "text": [
      "Epoch 3/5:  93%|█████████▎| 3008/3240 [2:17:37<10:42,  2.77s/it]"
     ]
    },
    {
     "name": "stdout",
     "output_type": "stream",
     "text": [
      "Step 3008: Loss: 5.6819\n"
     ]
    },
    {
     "name": "stderr",
     "output_type": "stream",
     "text": [
      "Epoch 3/5:  95%|█████████▍| 3072/3240 [2:20:33<07:43,  2.76s/it]"
     ]
    },
    {
     "name": "stdout",
     "output_type": "stream",
     "text": [
      "Step 3072: Loss: 5.7730\n"
     ]
    },
    {
     "name": "stderr",
     "output_type": "stream",
     "text": [
      "Epoch 3/5:  97%|█████████▋| 3136/3240 [2:23:29<04:47,  2.76s/it]"
     ]
    },
    {
     "name": "stdout",
     "output_type": "stream",
     "text": [
      "Step 3136: Loss: 5.4513\n"
     ]
    },
    {
     "name": "stderr",
     "output_type": "stream",
     "text": [
      "Epoch 3/5:  99%|█████████▉| 3200/3240 [2:26:25<01:50,  2.77s/it]"
     ]
    },
    {
     "name": "stdout",
     "output_type": "stream",
     "text": [
      "Step 3200: Loss: 5.7316\n"
     ]
    },
    {
     "name": "stderr",
     "output_type": "stream",
     "text": [
      "Epoch 3/5: 100%|██████████| 3240/3240 [2:28:14<00:00,  2.75s/it]\n"
     ]
    },
    {
     "name": "stdout",
     "output_type": "stream",
     "text": [
      "Epoch 3/5 — Loss: 6.1417\n",
      "Allocated: 3004.14 MiB, Reserved: 7424.00 MiB\n",
      "👉 Saved checkpoint: checkpoint_model.pth\n"
     ]
    },
    {
     "name": "stderr",
     "output_type": "stream",
     "text": [
      "Epoch 4/5:   2%|▏         | 64/3240 [02:47<2:19:25,  2.63s/it]"
     ]
    },
    {
     "name": "stdout",
     "output_type": "stream",
     "text": [
      "Step 64: Loss: 5.6865\n"
     ]
    },
    {
     "name": "stderr",
     "output_type": "stream",
     "text": [
      "Epoch 4/5:   4%|▍         | 128/3240 [05:35<2:16:38,  2.63s/it]"
     ]
    },
    {
     "name": "stdout",
     "output_type": "stream",
     "text": [
      "Step 128: Loss: 5.4871\n"
     ]
    },
    {
     "name": "stderr",
     "output_type": "stream",
     "text": [
      "Epoch 4/5:   6%|▌         | 192/3240 [08:23<2:13:33,  2.63s/it]"
     ]
    },
    {
     "name": "stdout",
     "output_type": "stream",
     "text": [
      "Step 192: Loss: 5.5826\n"
     ]
    },
    {
     "name": "stderr",
     "output_type": "stream",
     "text": [
      "Epoch 4/5:   8%|▊         | 256/3240 [11:10<2:11:03,  2.64s/it]"
     ]
    },
    {
     "name": "stdout",
     "output_type": "stream",
     "text": [
      "Step 256: Loss: 5.9125\n"
     ]
    },
    {
     "name": "stderr",
     "output_type": "stream",
     "text": [
      "Epoch 4/5:  10%|▉         | 320/3240 [13:58<2:08:03,  2.63s/it]"
     ]
    },
    {
     "name": "stdout",
     "output_type": "stream",
     "text": [
      "Step 320: Loss: 5.5274\n"
     ]
    },
    {
     "name": "stderr",
     "output_type": "stream",
     "text": [
      "Epoch 4/5:  12%|█▏        | 384/3240 [16:46<2:05:47,  2.64s/it]"
     ]
    },
    {
     "name": "stdout",
     "output_type": "stream",
     "text": [
      "Step 384: Loss: 5.7118\n"
     ]
    },
    {
     "name": "stderr",
     "output_type": "stream",
     "text": [
      "Epoch 4/5:  14%|█▍        | 448/3240 [19:33<2:02:18,  2.63s/it]"
     ]
    },
    {
     "name": "stdout",
     "output_type": "stream",
     "text": [
      "Step 448: Loss: 5.7527\n"
     ]
    },
    {
     "name": "stderr",
     "output_type": "stream",
     "text": [
      "Epoch 4/5:  16%|█▌        | 512/3240 [22:21<1:59:49,  2.64s/it]"
     ]
    },
    {
     "name": "stdout",
     "output_type": "stream",
     "text": [
      "Step 512: Loss: 5.5766\n"
     ]
    },
    {
     "name": "stderr",
     "output_type": "stream",
     "text": [
      "Epoch 4/5:  18%|█▊        | 576/3240 [25:08<1:57:02,  2.64s/it]"
     ]
    },
    {
     "name": "stdout",
     "output_type": "stream",
     "text": [
      "Step 576: Loss: 5.7953\n"
     ]
    },
    {
     "name": "stderr",
     "output_type": "stream",
     "text": [
      "Epoch 4/5:  20%|█▉        | 640/3240 [27:56<1:54:11,  2.64s/it]"
     ]
    },
    {
     "name": "stdout",
     "output_type": "stream",
     "text": [
      "Step 640: Loss: 5.8495\n"
     ]
    },
    {
     "name": "stderr",
     "output_type": "stream",
     "text": [
      "Epoch 4/5:  22%|██▏       | 704/3240 [30:43<1:51:57,  2.65s/it]"
     ]
    },
    {
     "name": "stdout",
     "output_type": "stream",
     "text": [
      "Step 704: Loss: 5.4965\n"
     ]
    },
    {
     "name": "stderr",
     "output_type": "stream",
     "text": [
      "Epoch 4/5:  24%|██▎       | 768/3240 [33:31<1:48:31,  2.63s/it]"
     ]
    },
    {
     "name": "stdout",
     "output_type": "stream",
     "text": [
      "Step 768: Loss: 5.5260\n"
     ]
    },
    {
     "name": "stderr",
     "output_type": "stream",
     "text": [
      "Epoch 4/5:  26%|██▌       | 832/3240 [36:18<1:45:56,  2.64s/it]"
     ]
    },
    {
     "name": "stdout",
     "output_type": "stream",
     "text": [
      "Step 832: Loss: 5.3608\n"
     ]
    },
    {
     "name": "stderr",
     "output_type": "stream",
     "text": [
      "Epoch 4/5:  28%|██▊       | 896/3240 [39:05<1:42:49,  2.63s/it]"
     ]
    },
    {
     "name": "stdout",
     "output_type": "stream",
     "text": [
      "Step 896: Loss: 5.4729\n"
     ]
    },
    {
     "name": "stderr",
     "output_type": "stream",
     "text": [
      "Epoch 4/5:  30%|██▉       | 960/3240 [41:53<1:40:30,  2.65s/it]"
     ]
    },
    {
     "name": "stdout",
     "output_type": "stream",
     "text": [
      "Step 960: Loss: 5.6814\n"
     ]
    },
    {
     "name": "stderr",
     "output_type": "stream",
     "text": [
      "Epoch 4/5:  32%|███▏      | 1024/3240 [44:40<1:37:39,  2.64s/it]"
     ]
    },
    {
     "name": "stdout",
     "output_type": "stream",
     "text": [
      "Step 1024: Loss: 5.4853\n"
     ]
    },
    {
     "name": "stderr",
     "output_type": "stream",
     "text": [
      "Epoch 4/5:  34%|███▎      | 1088/3240 [47:28<1:34:15,  2.63s/it]"
     ]
    },
    {
     "name": "stdout",
     "output_type": "stream",
     "text": [
      "Step 1088: Loss: 5.5556\n"
     ]
    },
    {
     "name": "stderr",
     "output_type": "stream",
     "text": [
      "Epoch 4/5:  36%|███▌      | 1152/3240 [50:15<1:31:41,  2.63s/it]"
     ]
    },
    {
     "name": "stdout",
     "output_type": "stream",
     "text": [
      "Step 1152: Loss: 5.0791\n"
     ]
    },
    {
     "name": "stderr",
     "output_type": "stream",
     "text": [
      "Epoch 4/5:  38%|███▊      | 1216/3240 [53:03<1:28:49,  2.63s/it]"
     ]
    },
    {
     "name": "stdout",
     "output_type": "stream",
     "text": [
      "Step 1216: Loss: 5.5201\n"
     ]
    },
    {
     "name": "stderr",
     "output_type": "stream",
     "text": [
      "Epoch 4/5:  40%|███▉      | 1280/3240 [55:50<1:26:02,  2.63s/it]"
     ]
    },
    {
     "name": "stdout",
     "output_type": "stream",
     "text": [
      "Step 1280: Loss: 5.3136\n"
     ]
    },
    {
     "name": "stderr",
     "output_type": "stream",
     "text": [
      "Epoch 4/5:  41%|████▏     | 1344/3240 [58:37<1:23:17,  2.64s/it]"
     ]
    },
    {
     "name": "stdout",
     "output_type": "stream",
     "text": [
      "Step 1344: Loss: 5.5464\n"
     ]
    },
    {
     "name": "stderr",
     "output_type": "stream",
     "text": [
      "Epoch 4/5:  43%|████▎     | 1408/3240 [1:01:25<1:20:28,  2.64s/it]"
     ]
    },
    {
     "name": "stdout",
     "output_type": "stream",
     "text": [
      "Step 1408: Loss: 5.4344\n"
     ]
    },
    {
     "name": "stderr",
     "output_type": "stream",
     "text": [
      "Epoch 4/5:  45%|████▌     | 1472/3240 [1:04:12<1:17:42,  2.64s/it]"
     ]
    },
    {
     "name": "stdout",
     "output_type": "stream",
     "text": [
      "Step 1472: Loss: 5.3918\n"
     ]
    },
    {
     "name": "stderr",
     "output_type": "stream",
     "text": [
      "Epoch 4/5:  47%|████▋     | 1536/3240 [1:06:59<1:14:38,  2.63s/it]"
     ]
    },
    {
     "name": "stdout",
     "output_type": "stream",
     "text": [
      "Step 1536: Loss: 5.3489\n"
     ]
    },
    {
     "name": "stderr",
     "output_type": "stream",
     "text": [
      "Epoch 4/5:  49%|████▉     | 1600/3240 [1:09:47<1:11:39,  2.62s/it]"
     ]
    },
    {
     "name": "stdout",
     "output_type": "stream",
     "text": [
      "Step 1600: Loss: 5.5630\n"
     ]
    },
    {
     "name": "stderr",
     "output_type": "stream",
     "text": [
      "Epoch 4/5:  51%|█████▏    | 1664/3240 [1:12:34<1:09:21,  2.64s/it]"
     ]
    },
    {
     "name": "stdout",
     "output_type": "stream",
     "text": [
      "Step 1664: Loss: 5.3242\n"
     ]
    },
    {
     "name": "stderr",
     "output_type": "stream",
     "text": [
      "Epoch 4/5:  53%|█████▎    | 1728/3240 [1:15:22<1:06:23,  2.63s/it]"
     ]
    },
    {
     "name": "stdout",
     "output_type": "stream",
     "text": [
      "Step 1728: Loss: 5.5699\n"
     ]
    },
    {
     "name": "stderr",
     "output_type": "stream",
     "text": [
      "Epoch 4/5:  55%|█████▌    | 1792/3240 [1:18:09<1:03:17,  2.62s/it]"
     ]
    },
    {
     "name": "stdout",
     "output_type": "stream",
     "text": [
      "Step 1792: Loss: 5.4735\n"
     ]
    },
    {
     "name": "stderr",
     "output_type": "stream",
     "text": [
      "Epoch 4/5:  57%|█████▋    | 1856/3240 [1:20:57<1:01:04,  2.65s/it]"
     ]
    },
    {
     "name": "stdout",
     "output_type": "stream",
     "text": [
      "Step 1856: Loss: 5.4870\n"
     ]
    },
    {
     "name": "stderr",
     "output_type": "stream",
     "text": [
      "Epoch 4/5:  59%|█████▉    | 1920/3240 [1:23:44<57:41,  2.62s/it]"
     ]
    },
    {
     "name": "stdout",
     "output_type": "stream",
     "text": [
      "Step 1920: Loss: 5.3988\n"
     ]
    },
    {
     "name": "stderr",
     "output_type": "stream",
     "text": [
      "Epoch 4/5:  61%|██████    | 1984/3240 [1:26:32<55:07,  2.63s/it]"
     ]
    },
    {
     "name": "stdout",
     "output_type": "stream",
     "text": [
      "Step 1984: Loss: 5.7163\n"
     ]
    },
    {
     "name": "stderr",
     "output_type": "stream",
     "text": [
      "Epoch 4/5:  63%|██████▎   | 2048/3240 [1:29:19<52:07,  2.62s/it]"
     ]
    },
    {
     "name": "stdout",
     "output_type": "stream",
     "text": [
      "Step 2048: Loss: 5.4341\n"
     ]
    },
    {
     "name": "stderr",
     "output_type": "stream",
     "text": [
      "Epoch 4/5:  65%|██████▌   | 2112/3240 [1:32:06<49:28,  2.63s/it]"
     ]
    },
    {
     "name": "stdout",
     "output_type": "stream",
     "text": [
      "Step 2112: Loss: 5.4649\n"
     ]
    },
    {
     "name": "stderr",
     "output_type": "stream",
     "text": [
      "Epoch 4/5:  67%|██████▋   | 2176/3240 [1:34:53<46:37,  2.63s/it]"
     ]
    },
    {
     "name": "stdout",
     "output_type": "stream",
     "text": [
      "Step 2176: Loss: 5.1738\n"
     ]
    },
    {
     "name": "stderr",
     "output_type": "stream",
     "text": [
      "Epoch 4/5:  69%|██████▉   | 2240/3240 [1:37:41<43:46,  2.63s/it]"
     ]
    },
    {
     "name": "stdout",
     "output_type": "stream",
     "text": [
      "Step 2240: Loss: 5.4932\n"
     ]
    },
    {
     "name": "stderr",
     "output_type": "stream",
     "text": [
      "Epoch 4/5:  71%|███████   | 2304/3240 [1:40:28<41:08,  2.64s/it]"
     ]
    },
    {
     "name": "stdout",
     "output_type": "stream",
     "text": [
      "Step 2304: Loss: 5.4092\n"
     ]
    },
    {
     "name": "stderr",
     "output_type": "stream",
     "text": [
      "Epoch 4/5:  73%|███████▎  | 2368/3240 [1:43:16<38:25,  2.64s/it]"
     ]
    },
    {
     "name": "stdout",
     "output_type": "stream",
     "text": [
      "Step 2368: Loss: 5.4612\n"
     ]
    },
    {
     "name": "stderr",
     "output_type": "stream",
     "text": [
      "Epoch 4/5:  75%|███████▌  | 2432/3240 [1:46:03<35:31,  2.64s/it]"
     ]
    },
    {
     "name": "stdout",
     "output_type": "stream",
     "text": [
      "Step 2432: Loss: 5.4797\n"
     ]
    },
    {
     "name": "stderr",
     "output_type": "stream",
     "text": [
      "Epoch 4/5:  77%|███████▋  | 2496/3240 [1:48:51<32:55,  2.65s/it]"
     ]
    },
    {
     "name": "stdout",
     "output_type": "stream",
     "text": [
      "Step 2496: Loss: 5.7376\n"
     ]
    },
    {
     "name": "stderr",
     "output_type": "stream",
     "text": [
      "Epoch 4/5:  79%|███████▉  | 2560/3240 [1:51:38<29:55,  2.64s/it]"
     ]
    },
    {
     "name": "stdout",
     "output_type": "stream",
     "text": [
      "Step 2560: Loss: 5.3950\n"
     ]
    },
    {
     "name": "stderr",
     "output_type": "stream",
     "text": [
      "Epoch 4/5:  81%|████████  | 2624/3240 [1:54:26<27:12,  2.65s/it]"
     ]
    },
    {
     "name": "stdout",
     "output_type": "stream",
     "text": [
      "Step 2624: Loss: 5.3087\n"
     ]
    },
    {
     "name": "stderr",
     "output_type": "stream",
     "text": [
      "Epoch 4/5:  83%|████████▎ | 2688/3240 [1:57:13<24:12,  2.63s/it]"
     ]
    },
    {
     "name": "stdout",
     "output_type": "stream",
     "text": [
      "Step 2688: Loss: 5.3195\n"
     ]
    },
    {
     "name": "stderr",
     "output_type": "stream",
     "text": [
      "Epoch 4/5:  85%|████████▍ | 2752/3240 [2:00:01<21:25,  2.63s/it]"
     ]
    },
    {
     "name": "stdout",
     "output_type": "stream",
     "text": [
      "Step 2752: Loss: 5.4937\n"
     ]
    },
    {
     "name": "stderr",
     "output_type": "stream",
     "text": [
      "Epoch 4/5:  87%|████████▋ | 2816/3240 [2:02:48<18:35,  2.63s/it]"
     ]
    },
    {
     "name": "stdout",
     "output_type": "stream",
     "text": [
      "Step 2816: Loss: 5.5291\n"
     ]
    },
    {
     "name": "stderr",
     "output_type": "stream",
     "text": [
      "Epoch 4/5:  89%|████████▉ | 2880/3240 [2:05:35<15:46,  2.63s/it]"
     ]
    },
    {
     "name": "stdout",
     "output_type": "stream",
     "text": [
      "Step 2880: Loss: 5.4562\n"
     ]
    },
    {
     "name": "stderr",
     "output_type": "stream",
     "text": [
      "Epoch 4/5:  91%|█████████ | 2944/3240 [2:08:23<13:04,  2.65s/it]"
     ]
    },
    {
     "name": "stdout",
     "output_type": "stream",
     "text": [
      "Step 2944: Loss: 5.6060\n"
     ]
    },
    {
     "name": "stderr",
     "output_type": "stream",
     "text": [
      "Epoch 4/5:  93%|█████████▎| 3008/3240 [2:11:10<10:09,  2.63s/it]"
     ]
    },
    {
     "name": "stdout",
     "output_type": "stream",
     "text": [
      "Step 3008: Loss: 5.5675\n"
     ]
    },
    {
     "name": "stderr",
     "output_type": "stream",
     "text": [
      "Epoch 4/5:  95%|█████████▍| 3072/3240 [2:13:58<07:21,  2.63s/it]"
     ]
    },
    {
     "name": "stdout",
     "output_type": "stream",
     "text": [
      "Step 3072: Loss: 5.3021\n"
     ]
    },
    {
     "name": "stderr",
     "output_type": "stream",
     "text": [
      "Epoch 4/5:  97%|█████████▋| 3136/3240 [2:16:45<04:33,  2.63s/it]"
     ]
    },
    {
     "name": "stdout",
     "output_type": "stream",
     "text": [
      "Step 3136: Loss: 5.3102\n"
     ]
    },
    {
     "name": "stderr",
     "output_type": "stream",
     "text": [
      "Epoch 4/5:  99%|█████████▉| 3200/3240 [2:19:33<01:46,  2.66s/it]"
     ]
    },
    {
     "name": "stdout",
     "output_type": "stream",
     "text": [
      "Step 3200: Loss: 5.5433\n"
     ]
    },
    {
     "name": "stderr",
     "output_type": "stream",
     "text": [
      "Epoch 4/5: 100%|██████████| 3240/3240 [2:21:17<00:00,  2.62s/it]\n"
     ]
    },
    {
     "name": "stdout",
     "output_type": "stream",
     "text": [
      "Epoch 4/5 — Loss: 5.5023\n",
      "Allocated: 3004.34 MiB, Reserved: 7424.00 MiB\n",
      "👉 Saved checkpoint: checkpoint_model.pth\n"
     ]
    },
    {
     "name": "stderr",
     "output_type": "stream",
     "text": [
      "Epoch 5/5:   2%|▏         | 64/3240 [02:47<2:19:45,  2.64s/it]"
     ]
    },
    {
     "name": "stdout",
     "output_type": "stream",
     "text": [
      "Step 64: Loss: 5.3198\n"
     ]
    },
    {
     "name": "stderr",
     "output_type": "stream",
     "text": [
      "Epoch 5/5:   4%|▍         | 128/3240 [05:35<2:16:41,  2.64s/it]"
     ]
    },
    {
     "name": "stdout",
     "output_type": "stream",
     "text": [
      "Step 128: Loss: 5.1671\n"
     ]
    },
    {
     "name": "stderr",
     "output_type": "stream",
     "text": [
      "Epoch 5/5:   6%|▌         | 192/3240 [08:23<2:14:10,  2.64s/it]"
     ]
    },
    {
     "name": "stdout",
     "output_type": "stream",
     "text": [
      "Step 192: Loss: 5.0444\n"
     ]
    },
    {
     "name": "stderr",
     "output_type": "stream",
     "text": [
      "Epoch 5/5:   8%|▊         | 256/3240 [11:11<2:11:06,  2.64s/it]"
     ]
    },
    {
     "name": "stdout",
     "output_type": "stream",
     "text": [
      "Step 256: Loss: 5.5193\n"
     ]
    },
    {
     "name": "stderr",
     "output_type": "stream",
     "text": [
      "Epoch 5/5:  10%|▉         | 320/3240 [13:58<2:08:26,  2.64s/it]"
     ]
    },
    {
     "name": "stdout",
     "output_type": "stream",
     "text": [
      "Step 320: Loss: 5.3096\n"
     ]
    },
    {
     "name": "stderr",
     "output_type": "stream",
     "text": [
      "Epoch 5/5:  12%|█▏        | 384/3240 [16:45<2:05:13,  2.63s/it]"
     ]
    },
    {
     "name": "stdout",
     "output_type": "stream",
     "text": [
      "Step 384: Loss: 5.3281\n"
     ]
    },
    {
     "name": "stderr",
     "output_type": "stream",
     "text": [
      "Epoch 5/5:  14%|█▍        | 448/3240 [19:33<2:02:40,  2.64s/it]"
     ]
    },
    {
     "name": "stdout",
     "output_type": "stream",
     "text": [
      "Step 448: Loss: 5.1616\n"
     ]
    },
    {
     "name": "stderr",
     "output_type": "stream",
     "text": [
      "Epoch 5/5:  16%|█▌        | 512/3240 [22:20<1:59:54,  2.64s/it]"
     ]
    },
    {
     "name": "stdout",
     "output_type": "stream",
     "text": [
      "Step 512: Loss: 5.3029\n"
     ]
    },
    {
     "name": "stderr",
     "output_type": "stream",
     "text": [
      "Epoch 5/5:  18%|█▊        | 576/3240 [25:08<1:57:34,  2.65s/it]"
     ]
    },
    {
     "name": "stdout",
     "output_type": "stream",
     "text": [
      "Step 576: Loss: 5.5722\n"
     ]
    },
    {
     "name": "stderr",
     "output_type": "stream",
     "text": [
      "Epoch 5/5:  20%|█▉        | 640/3240 [27:56<1:54:35,  2.64s/it]"
     ]
    },
    {
     "name": "stdout",
     "output_type": "stream",
     "text": [
      "Step 640: Loss: 5.4861\n"
     ]
    },
    {
     "name": "stderr",
     "output_type": "stream",
     "text": [
      "Epoch 5/5:  22%|██▏       | 704/3240 [30:44<1:51:34,  2.64s/it]"
     ]
    },
    {
     "name": "stdout",
     "output_type": "stream",
     "text": [
      "Step 704: Loss: 5.6630\n"
     ]
    },
    {
     "name": "stderr",
     "output_type": "stream",
     "text": [
      "Epoch 5/5:  24%|██▎       | 768/3240 [33:31<1:48:28,  2.63s/it]"
     ]
    },
    {
     "name": "stdout",
     "output_type": "stream",
     "text": [
      "Step 768: Loss: 5.3191\n"
     ]
    },
    {
     "name": "stderr",
     "output_type": "stream",
     "text": [
      "Epoch 5/5:  26%|██▌       | 832/3240 [36:19<1:46:37,  2.66s/it]"
     ]
    },
    {
     "name": "stdout",
     "output_type": "stream",
     "text": [
      "Step 832: Loss: 5.2734\n"
     ]
    },
    {
     "name": "stderr",
     "output_type": "stream",
     "text": [
      "Epoch 5/5:  28%|██▊       | 896/3240 [39:07<1:42:52,  2.63s/it]"
     ]
    },
    {
     "name": "stdout",
     "output_type": "stream",
     "text": [
      "Step 896: Loss: 5.2496\n"
     ]
    },
    {
     "name": "stderr",
     "output_type": "stream",
     "text": [
      "Epoch 5/5:  30%|██▉       | 960/3240 [41:55<1:40:30,  2.65s/it]"
     ]
    },
    {
     "name": "stdout",
     "output_type": "stream",
     "text": [
      "Step 960: Loss: 5.4131\n"
     ]
    },
    {
     "name": "stderr",
     "output_type": "stream",
     "text": [
      "Epoch 5/5:  32%|███▏      | 1024/3240 [44:43<1:37:48,  2.65s/it]"
     ]
    },
    {
     "name": "stdout",
     "output_type": "stream",
     "text": [
      "Step 1024: Loss: 5.3693\n"
     ]
    },
    {
     "name": "stderr",
     "output_type": "stream",
     "text": [
      "Epoch 5/5:  34%|███▎      | 1088/3240 [47:31<1:34:20,  2.63s/it]"
     ]
    },
    {
     "name": "stdout",
     "output_type": "stream",
     "text": [
      "Step 1088: Loss: 5.2573\n"
     ]
    },
    {
     "name": "stderr",
     "output_type": "stream",
     "text": [
      "Epoch 5/5:  36%|███▌      | 1152/3240 [50:19<1:31:27,  2.63s/it]"
     ]
    },
    {
     "name": "stdout",
     "output_type": "stream",
     "text": [
      "Step 1152: Loss: 5.5991\n"
     ]
    },
    {
     "name": "stderr",
     "output_type": "stream",
     "text": [
      "Epoch 5/5:  38%|███▊      | 1216/3240 [53:07<1:28:59,  2.64s/it]"
     ]
    },
    {
     "name": "stdout",
     "output_type": "stream",
     "text": [
      "Step 1216: Loss: 5.6639\n"
     ]
    },
    {
     "name": "stderr",
     "output_type": "stream",
     "text": [
      "Epoch 5/5:  40%|███▉      | 1280/3240 [55:54<1:26:04,  2.63s/it]"
     ]
    },
    {
     "name": "stdout",
     "output_type": "stream",
     "text": [
      "Step 1280: Loss: 5.1545\n"
     ]
    },
    {
     "name": "stderr",
     "output_type": "stream",
     "text": [
      "Epoch 5/5:  41%|████▏     | 1344/3240 [58:42<1:23:01,  2.63s/it]"
     ]
    },
    {
     "name": "stdout",
     "output_type": "stream",
     "text": [
      "Step 1344: Loss: 5.1897\n"
     ]
    },
    {
     "name": "stderr",
     "output_type": "stream",
     "text": [
      "Epoch 5/5:  43%|████▎     | 1408/3240 [1:01:30<1:20:45,  2.64s/it]"
     ]
    },
    {
     "name": "stdout",
     "output_type": "stream",
     "text": [
      "Step 1408: Loss: 5.4914\n"
     ]
    },
    {
     "name": "stderr",
     "output_type": "stream",
     "text": [
      "Epoch 5/5:  45%|████▌     | 1472/3240 [1:04:18<1:17:43,  2.64s/it]"
     ]
    },
    {
     "name": "stdout",
     "output_type": "stream",
     "text": [
      "Step 1472: Loss: 5.1789\n"
     ]
    },
    {
     "name": "stderr",
     "output_type": "stream",
     "text": [
      "Epoch 5/5:  47%|████▋     | 1536/3240 [1:07:05<1:15:00,  2.64s/it]"
     ]
    },
    {
     "name": "stdout",
     "output_type": "stream",
     "text": [
      "Step 1536: Loss: 5.2743\n"
     ]
    },
    {
     "name": "stderr",
     "output_type": "stream",
     "text": [
      "Epoch 5/5:  49%|████▉     | 1600/3240 [1:09:53<1:12:39,  2.66s/it]"
     ]
    },
    {
     "name": "stdout",
     "output_type": "stream",
     "text": [
      "Step 1600: Loss: 5.2267\n"
     ]
    },
    {
     "name": "stderr",
     "output_type": "stream",
     "text": [
      "Epoch 5/5:  51%|█████▏    | 1664/3240 [1:12:40<1:09:10,  2.63s/it]"
     ]
    },
    {
     "name": "stdout",
     "output_type": "stream",
     "text": [
      "Step 1664: Loss: 5.2799\n"
     ]
    },
    {
     "name": "stderr",
     "output_type": "stream",
     "text": [
      "Epoch 5/5:  53%|█████▎    | 1728/3240 [1:15:28<1:06:27,  2.64s/it]"
     ]
    },
    {
     "name": "stdout",
     "output_type": "stream",
     "text": [
      "Step 1728: Loss: 5.2499\n"
     ]
    },
    {
     "name": "stderr",
     "output_type": "stream",
     "text": [
      "Epoch 5/5:  55%|█████▌    | 1792/3240 [1:18:17<1:04:03,  2.65s/it]"
     ]
    },
    {
     "name": "stdout",
     "output_type": "stream",
     "text": [
      "Step 1792: Loss: 5.5294\n"
     ]
    },
    {
     "name": "stderr",
     "output_type": "stream",
     "text": [
      "Epoch 5/5:  57%|█████▋    | 1856/3240 [1:21:05<1:00:39,  2.63s/it]"
     ]
    },
    {
     "name": "stdout",
     "output_type": "stream",
     "text": [
      "Step 1856: Loss: 5.0134\n"
     ]
    },
    {
     "name": "stderr",
     "output_type": "stream",
     "text": [
      "Epoch 5/5:  59%|█████▉    | 1920/3240 [1:23:52<57:47,  2.63s/it]"
     ]
    },
    {
     "name": "stdout",
     "output_type": "stream",
     "text": [
      "Step 1920: Loss: 5.6159\n"
     ]
    },
    {
     "name": "stderr",
     "output_type": "stream",
     "text": [
      "Epoch 5/5:  61%|██████    | 1984/3240 [1:26:40<55:09,  2.63s/it]"
     ]
    },
    {
     "name": "stdout",
     "output_type": "stream",
     "text": [
      "Step 1984: Loss: 5.2702\n"
     ]
    },
    {
     "name": "stderr",
     "output_type": "stream",
     "text": [
      "Epoch 5/5:  63%|██████▎   | 2048/3240 [1:29:28<52:32,  2.64s/it]"
     ]
    },
    {
     "name": "stdout",
     "output_type": "stream",
     "text": [
      "Step 2048: Loss: 5.4456\n"
     ]
    },
    {
     "name": "stderr",
     "output_type": "stream",
     "text": [
      "Epoch 5/5:  65%|██████▌   | 2112/3240 [1:32:16<49:35,  2.64s/it]"
     ]
    },
    {
     "name": "stdout",
     "output_type": "stream",
     "text": [
      "Step 2112: Loss: 5.1164\n"
     ]
    },
    {
     "name": "stderr",
     "output_type": "stream",
     "text": [
      "Epoch 5/5:  67%|██████▋   | 2176/3240 [1:35:03<46:58,  2.65s/it]"
     ]
    },
    {
     "name": "stdout",
     "output_type": "stream",
     "text": [
      "Step 2176: Loss: 5.4850\n"
     ]
    },
    {
     "name": "stderr",
     "output_type": "stream",
     "text": [
      "Epoch 5/5:  69%|██████▉   | 2240/3240 [1:37:51<43:53,  2.63s/it]"
     ]
    },
    {
     "name": "stdout",
     "output_type": "stream",
     "text": [
      "Step 2240: Loss: 5.0558\n"
     ]
    },
    {
     "name": "stderr",
     "output_type": "stream",
     "text": [
      "Epoch 5/5:  71%|███████   | 2304/3240 [1:40:38<41:04,  2.63s/it]"
     ]
    },
    {
     "name": "stdout",
     "output_type": "stream",
     "text": [
      "Step 2304: Loss: 5.3186\n"
     ]
    },
    {
     "name": "stderr",
     "output_type": "stream",
     "text": [
      "Epoch 5/5:  73%|███████▎  | 2368/3240 [1:43:25<38:16,  2.63s/it]"
     ]
    },
    {
     "name": "stdout",
     "output_type": "stream",
     "text": [
      "Step 2368: Loss: 5.3814\n"
     ]
    },
    {
     "name": "stderr",
     "output_type": "stream",
     "text": [
      "Epoch 5/5:  75%|███████▌  | 2432/3240 [1:46:13<35:19,  2.62s/it]"
     ]
    },
    {
     "name": "stdout",
     "output_type": "stream",
     "text": [
      "Step 2432: Loss: 5.3793\n"
     ]
    },
    {
     "name": "stderr",
     "output_type": "stream",
     "text": [
      "Epoch 5/5:  77%|███████▋  | 2496/3240 [1:49:00<32:47,  2.64s/it]"
     ]
    },
    {
     "name": "stdout",
     "output_type": "stream",
     "text": [
      "Step 2496: Loss: 5.3664\n"
     ]
    },
    {
     "name": "stderr",
     "output_type": "stream",
     "text": [
      "Epoch 5/5:  79%|███████▉  | 2560/3240 [1:51:48<30:03,  2.65s/it]"
     ]
    },
    {
     "name": "stdout",
     "output_type": "stream",
     "text": [
      "Step 2560: Loss: 5.3507\n"
     ]
    },
    {
     "name": "stderr",
     "output_type": "stream",
     "text": [
      "Epoch 5/5:  81%|████████  | 2624/3240 [1:54:35<27:02,  2.63s/it]"
     ]
    },
    {
     "name": "stdout",
     "output_type": "stream",
     "text": [
      "Step 2624: Loss: 5.1896\n"
     ]
    },
    {
     "name": "stderr",
     "output_type": "stream",
     "text": [
      "Epoch 5/5:  83%|████████▎ | 2688/3240 [1:57:23<24:15,  2.64s/it]"
     ]
    },
    {
     "name": "stdout",
     "output_type": "stream",
     "text": [
      "Step 2688: Loss: 5.4715\n"
     ]
    },
    {
     "name": "stderr",
     "output_type": "stream",
     "text": [
      "Epoch 5/5:  85%|████████▍ | 2752/3240 [2:00:11<21:28,  2.64s/it]"
     ]
    },
    {
     "name": "stdout",
     "output_type": "stream",
     "text": [
      "Step 2752: Loss: 5.0964\n"
     ]
    },
    {
     "name": "stderr",
     "output_type": "stream",
     "text": [
      "Epoch 5/5:  87%|████████▋ | 2816/3240 [2:02:58<18:35,  2.63s/it]"
     ]
    },
    {
     "name": "stdout",
     "output_type": "stream",
     "text": [
      "Step 2816: Loss: 5.0648\n"
     ]
    },
    {
     "name": "stderr",
     "output_type": "stream",
     "text": [
      "Epoch 5/5:  89%|████████▉ | 2880/3240 [2:05:46<15:46,  2.63s/it]"
     ]
    },
    {
     "name": "stdout",
     "output_type": "stream",
     "text": [
      "Step 2880: Loss: 5.0310\n"
     ]
    },
    {
     "name": "stderr",
     "output_type": "stream",
     "text": [
      "Epoch 5/5:  91%|█████████ | 2944/3240 [2:08:34<13:02,  2.64s/it]"
     ]
    },
    {
     "name": "stdout",
     "output_type": "stream",
     "text": [
      "Step 2944: Loss: 5.3760\n"
     ]
    },
    {
     "name": "stderr",
     "output_type": "stream",
     "text": [
      "Epoch 5/5:  93%|█████████▎| 3008/3240 [2:11:21<10:10,  2.63s/it]"
     ]
    },
    {
     "name": "stdout",
     "output_type": "stream",
     "text": [
      "Step 3008: Loss: 5.2804\n"
     ]
    },
    {
     "name": "stderr",
     "output_type": "stream",
     "text": [
      "Epoch 5/5:  95%|█████████▍| 3072/3240 [2:14:08<07:21,  2.63s/it]"
     ]
    },
    {
     "name": "stdout",
     "output_type": "stream",
     "text": [
      "Step 3072: Loss: 4.8820\n"
     ]
    },
    {
     "name": "stderr",
     "output_type": "stream",
     "text": [
      "Epoch 5/5:  97%|█████████▋| 3136/3240 [2:16:56<04:33,  2.63s/it]"
     ]
    },
    {
     "name": "stdout",
     "output_type": "stream",
     "text": [
      "Step 3136: Loss: 5.2040\n"
     ]
    },
    {
     "name": "stderr",
     "output_type": "stream",
     "text": [
      "Epoch 5/5:  99%|█████████▉| 3200/3240 [2:19:43<01:45,  2.63s/it]"
     ]
    },
    {
     "name": "stdout",
     "output_type": "stream",
     "text": [
      "Step 3200: Loss: 5.2402\n"
     ]
    },
    {
     "name": "stderr",
     "output_type": "stream",
     "text": [
      "Epoch 5/5: 100%|██████████| 3240/3240 [2:21:27<00:00,  2.62s/it]\n"
     ]
    },
    {
     "name": "stdout",
     "output_type": "stream",
     "text": [
      "Epoch 5/5 — Loss: 5.2805\n",
      "Allocated: 3004.14 MiB, Reserved: 7424.00 MiB\n",
      "👉 Saved checkpoint: checkpoint_model.pth\n"
     ]
    }
   ],
   "source": [
    "torch.cuda.empty_cache()\n",
    "model.train()\n",
    "for epoch in range(start_epoch, EPOCHS):\n",
    "    total_loss = 0.0\n",
    "    optimizer.zero_grad()\n",
    "    for i, batch in enumerate(tqdm(train_loader, desc=f\"Epoch {epoch+1}/{EPOCHS}\")):\n",
    "        pv = batch['pixel_values'].to(device)\n",
    "        qid = batch['question_ids'].to(device)\n",
    "        qmk = batch['question_mask'].to(device)\n",
    "        aid = batch['answer_ids'].to(device)\n",
    "\n",
    "        with torch.amp.autocast('cuda'):\n",
    "            logits = model(pv, qid, qmk, aid)\n",
    "            loss = criterion(logits.view(-1, logits.size(-1)), aid.view(-1)) / ACCUMULATION_STEPS\n",
    "\n",
    "        scaler.scale(loss).backward()\n",
    "        total_loss += loss.item() * ACCUMULATION_STEPS\n",
    "\n",
    "        if (i+1) % ACCUMULATION_STEPS == 0:\n",
    "            scaler.unscale_(optimizer)\n",
    "            torch.nn.utils.clip_grad_norm_(model.parameters(), 1.0)\n",
    "            scaler.step(optimizer)\n",
    "            scaler.update()\n",
    "            optimizer.zero_grad()\n",
    "            scheduler.step()\n",
    "            if torch.cuda.memory_reserved() / 1024**2 > 1024:\n",
    "                torch.cuda.empty_cache()\n",
    "            print(f\"Step {i+1}: Loss: {loss.item() * ACCUMULATION_STEPS:.4f}\")\n",
    "\n",
    "    avg_loss = total_loss / len(train_loader)\n",
    "    print(f\"Epoch {epoch+1}/{EPOCHS} — Loss: {avg_loss:.4f}\")\n",
    "    print(f\"Allocated: {torch.cuda.memory_allocated()/1024**2:.2f} MiB, Reserved: {torch.cuda.memory_reserved()/1024**2:.2f} MiB\")\n",
    "    save_checkpoint(\"checkpoint_model.pth\", model, optimizer, scheduler, epoch)\n",
    "\n",
    "    # bleu, r1, r2, rL = evaluate_model(model, val_loader, tokenizer, epoch)\n",
    "    # print(f\"Epoch {epoch+1} - Test Evaluation: BLEU: {bleu:.4f}, ROUGE-1: {r1:.4f}, ROUGE-1: {r2:.4f}, ROUGE-L: {rL:.4f}\")\n",
    "    model.train()"
   ]
  },
  {
   "cell_type": "code",
   "execution_count": null,
   "id": "7d04b90c",
   "metadata": {
    "papermill": {
     "duration": 0.539002,
     "end_time": "2025-05-19T04:58:46.527513",
     "exception": false,
     "start_time": "2025-05-19T04:58:45.988511",
     "status": "completed"
    },
    "tags": []
   },
   "outputs": [],
   "source": []
  }
 ],
 "metadata": {
  "kaggle": {
   "accelerator": "nvidiaTeslaT4",
   "dataSources": [
    {
     "datasetId": 7042757,
     "sourceId": 11852988,
     "sourceType": "datasetVersion"
    },
    {
     "datasetId": 7453994,
     "sourceId": 11862162,
     "sourceType": "datasetVersion"
    }
   ],
   "dockerImageVersionId": 31041,
   "isGpuEnabled": true,
   "isInternetEnabled": true,
   "language": "python",
   "sourceType": "notebook"
  },
  "kernelspec": {
   "display_name": "Python 3",
   "language": "python",
   "name": "python3"
  },
  "language_info": {
   "codemirror_mode": {
    "name": "ipython",
    "version": 3
   },
   "file_extension": ".py",
   "mimetype": "text/x-python",
   "name": "python",
   "nbconvert_exporter": "python",
   "pygments_lexer": "ipython3",
   "version": "3.11.11"
  },
  "papermill": {
   "default_parameters": {},
   "duration": 26054.761165,
   "end_time": "2025-05-19T04:58:50.099868",
   "environment_variables": {},
   "exception": null,
   "input_path": "__notebook__.ipynb",
   "output_path": "__notebook__.ipynb",
   "parameters": {},
   "start_time": "2025-05-18T21:44:35.338703",
   "version": "2.6.0"
  },
  "widgets": {
   "application/vnd.jupyter.widget-state+json": {
    "state": {
     "00f1842adc77418c83f8642833d3077f": {
      "model_module": "@jupyter-widgets/base",
      "model_module_version": "2.0.0",
      "model_name": "LayoutModel",
      "state": {
       "_model_module": "@jupyter-widgets/base",
       "_model_module_version": "2.0.0",
       "_model_name": "LayoutModel",
       "_view_count": null,
       "_view_module": "@jupyter-widgets/base",
       "_view_module_version": "2.0.0",
       "_view_name": "LayoutView",
       "align_content": null,
       "align_items": null,
       "align_self": null,
       "border_bottom": null,
       "border_left": null,
       "border_right": null,
       "border_top": null,
       "bottom": null,
       "display": null,
       "flex": null,
       "flex_flow": null,
       "grid_area": null,
       "grid_auto_columns": null,
       "grid_auto_flow": null,
       "grid_auto_rows": null,
       "grid_column": null,
       "grid_gap": null,
       "grid_row": null,
       "grid_template_areas": null,
       "grid_template_columns": null,
       "grid_template_rows": null,
       "height": null,
       "justify_content": null,
       "justify_items": null,
       "left": null,
       "margin": null,
       "max_height": null,
       "max_width": null,
       "min_height": null,
       "min_width": null,
       "object_fit": null,
       "object_position": null,
       "order": null,
       "overflow": null,
       "padding": null,
       "right": null,
       "top": null,
       "visibility": null,
       "width": null
      }
     },
     "0200bcbcc14c498d80ca803f183a9868": {
      "model_module": "@jupyter-widgets/base",
      "model_module_version": "2.0.0",
      "model_name": "LayoutModel",
      "state": {
       "_model_module": "@jupyter-widgets/base",
       "_model_module_version": "2.0.0",
       "_model_name": "LayoutModel",
       "_view_count": null,
       "_view_module": "@jupyter-widgets/base",
       "_view_module_version": "2.0.0",
       "_view_name": "LayoutView",
       "align_content": null,
       "align_items": null,
       "align_self": null,
       "border_bottom": null,
       "border_left": null,
       "border_right": null,
       "border_top": null,
       "bottom": null,
       "display": null,
       "flex": null,
       "flex_flow": null,
       "grid_area": null,
       "grid_auto_columns": null,
       "grid_auto_flow": null,
       "grid_auto_rows": null,
       "grid_column": null,
       "grid_gap": null,
       "grid_row": null,
       "grid_template_areas": null,
       "grid_template_columns": null,
       "grid_template_rows": null,
       "height": null,
       "justify_content": null,
       "justify_items": null,
       "left": null,
       "margin": null,
       "max_height": null,
       "max_width": null,
       "min_height": null,
       "min_width": null,
       "object_fit": null,
       "object_position": null,
       "order": null,
       "overflow": null,
       "padding": null,
       "right": null,
       "top": null,
       "visibility": null,
       "width": null
      }
     },
     "02407a0994e34b84af3190b3f0c615a5": {
      "model_module": "@jupyter-widgets/controls",
      "model_module_version": "2.0.0",
      "model_name": "HTMLModel",
      "state": {
       "_dom_classes": [],
       "_model_module": "@jupyter-widgets/controls",
       "_model_module_version": "2.0.0",
       "_model_name": "HTMLModel",
       "_view_count": null,
       "_view_module": "@jupyter-widgets/controls",
       "_view_module_version": "2.0.0",
       "_view_name": "HTMLView",
       "description": "",
       "description_allow_html": false,
       "layout": "IPY_MODEL_f549841e414542bf80395fd24c9040a1",
       "placeholder": "​",
       "style": "IPY_MODEL_d118d2408d2c418b8849f07cac0b2934",
       "tabbable": null,
       "tooltip": null,
       "value": "tokenizer.json: 100%"
      }
     },
     "02934466507540808de3a92ec2fddb41": {
      "model_module": "@jupyter-widgets/base",
      "model_module_version": "2.0.0",
      "model_name": "LayoutModel",
      "state": {
       "_model_module": "@jupyter-widgets/base",
       "_model_module_version": "2.0.0",
       "_model_name": "LayoutModel",
       "_view_count": null,
       "_view_module": "@jupyter-widgets/base",
       "_view_module_version": "2.0.0",
       "_view_name": "LayoutView",
       "align_content": null,
       "align_items": null,
       "align_self": null,
       "border_bottom": null,
       "border_left": null,
       "border_right": null,
       "border_top": null,
       "bottom": null,
       "display": null,
       "flex": null,
       "flex_flow": null,
       "grid_area": null,
       "grid_auto_columns": null,
       "grid_auto_flow": null,
       "grid_auto_rows": null,
       "grid_column": null,
       "grid_gap": null,
       "grid_row": null,
       "grid_template_areas": null,
       "grid_template_columns": null,
       "grid_template_rows": null,
       "height": null,
       "justify_content": null,
       "justify_items": null,
       "left": null,
       "margin": null,
       "max_height": null,
       "max_width": null,
       "min_height": null,
       "min_width": null,
       "object_fit": null,
       "object_position": null,
       "order": null,
       "overflow": null,
       "padding": null,
       "right": null,
       "top": null,
       "visibility": null,
       "width": null
      }
     },
     "029e4472c53545f487929bfe2340f5de": {
      "model_module": "@jupyter-widgets/controls",
      "model_module_version": "2.0.0",
      "model_name": "HTMLModel",
      "state": {
       "_dom_classes": [],
       "_model_module": "@jupyter-widgets/controls",
       "_model_module_version": "2.0.0",
       "_model_name": "HTMLModel",
       "_view_count": null,
       "_view_module": "@jupyter-widgets/controls",
       "_view_module_version": "2.0.0",
       "_view_name": "HTMLView",
       "description": "",
       "description_allow_html": false,
       "layout": "IPY_MODEL_e8e4343f5b6f47088f08f058e6c9c29f",
       "placeholder": "​",
       "style": "IPY_MODEL_e70859a59bda4198b209b1b473840a95",
       "tabbable": null,
       "tooltip": null,
       "value": " 1.14M/1.14M [00:00&lt;00:00, 31.0MB/s]"
      }
     },
     "04b46b86b3024526bc3a7bb8435c50b5": {
      "model_module": "@jupyter-widgets/controls",
      "model_module_version": "2.0.0",
      "model_name": "HBoxModel",
      "state": {
       "_dom_classes": [],
       "_model_module": "@jupyter-widgets/controls",
       "_model_module_version": "2.0.0",
       "_model_name": "HBoxModel",
       "_view_count": null,
       "_view_module": "@jupyter-widgets/controls",
       "_view_module_version": "2.0.0",
       "_view_name": "HBoxView",
       "box_style": "",
       "children": [
        "IPY_MODEL_9a68b12c88794cea8603a1537671cbd2",
        "IPY_MODEL_272944d5678f47de9e08bcad160a7c7f",
        "IPY_MODEL_710ab0a7543b4cb9ac7a71ca6205f01c"
       ],
       "layout": "IPY_MODEL_c04251c72d8847f6ab1b6515b99d7ae8",
       "tabbable": null,
       "tooltip": null
      }
     },
     "0880cd465ec04dc8bfe107c7393ea02f": {
      "model_module": "@jupyter-widgets/controls",
      "model_module_version": "2.0.0",
      "model_name": "HBoxModel",
      "state": {
       "_dom_classes": [],
       "_model_module": "@jupyter-widgets/controls",
       "_model_module_version": "2.0.0",
       "_model_name": "HBoxModel",
       "_view_count": null,
       "_view_module": "@jupyter-widgets/controls",
       "_view_module_version": "2.0.0",
       "_view_name": "HBoxView",
       "box_style": "",
       "children": [
        "IPY_MODEL_8c69e14c440d4b21908c1047eabf7451",
        "IPY_MODEL_28903bc926fd4cc282ba24f74b95b957",
        "IPY_MODEL_2bfa811d130f40d18edc18f3b6a96295"
       ],
       "layout": "IPY_MODEL_02934466507540808de3a92ec2fddb41",
       "tabbable": null,
       "tooltip": null
      }
     },
     "0a5e1b4deea84a99b0d3cb66d0cd5099": {
      "model_module": "@jupyter-widgets/controls",
      "model_module_version": "2.0.0",
      "model_name": "FloatProgressModel",
      "state": {
       "_dom_classes": [],
       "_model_module": "@jupyter-widgets/controls",
       "_model_module_version": "2.0.0",
       "_model_name": "FloatProgressModel",
       "_view_count": null,
       "_view_module": "@jupyter-widgets/controls",
       "_view_module_version": "2.0.0",
       "_view_name": "ProgressView",
       "bar_style": "success",
       "description": "",
       "description_allow_html": false,
       "layout": "IPY_MODEL_52ae96ef0fe842f8834b6b32fad63440",
       "max": 895321.0,
       "min": 0.0,
       "orientation": "horizontal",
       "style": "IPY_MODEL_cadcab161975465a9c79885eea7b2149",
       "tabbable": null,
       "tooltip": null,
       "value": 895321.0
      }
     },
     "0b6cd9d9c44648dcb3be535e1846e06d": {
      "model_module": "@jupyter-widgets/controls",
      "model_module_version": "2.0.0",
      "model_name": "HTMLModel",
      "state": {
       "_dom_classes": [],
       "_model_module": "@jupyter-widgets/controls",
       "_model_module_version": "2.0.0",
       "_model_name": "HTMLModel",
       "_view_count": null,
       "_view_module": "@jupyter-widgets/controls",
       "_view_module_version": "2.0.0",
       "_view_name": "HTMLView",
       "description": "",
       "description_allow_html": false,
       "layout": "IPY_MODEL_d957d29fef27432eae9271d902f7e808",
       "placeholder": "​",
       "style": "IPY_MODEL_86de2fcf5ac848e1a061cfd9dd76794f",
       "tabbable": null,
       "tooltip": null,
       "value": " 748/748 [00:00&lt;00:00, 94.6kB/s]"
      }
     },
     "0bb4c7d35f5b4a7dbf121b88a362d267": {
      "model_module": "@jupyter-widgets/controls",
      "model_module_version": "2.0.0",
      "model_name": "HBoxModel",
      "state": {
       "_dom_classes": [],
       "_model_module": "@jupyter-widgets/controls",
       "_model_module_version": "2.0.0",
       "_model_name": "HBoxModel",
       "_view_count": null,
       "_view_module": "@jupyter-widgets/controls",
       "_view_module_version": "2.0.0",
       "_view_name": "HBoxView",
       "box_style": "",
       "children": [
        "IPY_MODEL_2127a18b9d9e4646a947a192554873f3",
        "IPY_MODEL_0a5e1b4deea84a99b0d3cb66d0cd5099",
        "IPY_MODEL_a87118d695464d7b8883f4280d2564ef"
       ],
       "layout": "IPY_MODEL_1b213db4af234c2a89382cc485e6e0c2",
       "tabbable": null,
       "tooltip": null
      }
     },
     "0e0b21a9f83a442ca2beb28cedee63f8": {
      "model_module": "@jupyter-widgets/base",
      "model_module_version": "2.0.0",
      "model_name": "LayoutModel",
      "state": {
       "_model_module": "@jupyter-widgets/base",
       "_model_module_version": "2.0.0",
       "_model_name": "LayoutModel",
       "_view_count": null,
       "_view_module": "@jupyter-widgets/base",
       "_view_module_version": "2.0.0",
       "_view_name": "LayoutView",
       "align_content": null,
       "align_items": null,
       "align_self": null,
       "border_bottom": null,
       "border_left": null,
       "border_right": null,
       "border_top": null,
       "bottom": null,
       "display": null,
       "flex": null,
       "flex_flow": null,
       "grid_area": null,
       "grid_auto_columns": null,
       "grid_auto_flow": null,
       "grid_auto_rows": null,
       "grid_column": null,
       "grid_gap": null,
       "grid_row": null,
       "grid_template_areas": null,
       "grid_template_columns": null,
       "grid_template_rows": null,
       "height": null,
       "justify_content": null,
       "justify_items": null,
       "left": null,
       "margin": null,
       "max_height": null,
       "max_width": null,
       "min_height": null,
       "min_width": null,
       "object_fit": null,
       "object_position": null,
       "order": null,
       "overflow": null,
       "padding": null,
       "right": null,
       "top": null,
       "visibility": null,
       "width": null
      }
     },
     "125fcf10bf3f4be9b5cea7704ba7dc2b": {
      "model_module": "@jupyter-widgets/base",
      "model_module_version": "2.0.0",
      "model_name": "LayoutModel",
      "state": {
       "_model_module": "@jupyter-widgets/base",
       "_model_module_version": "2.0.0",
       "_model_name": "LayoutModel",
       "_view_count": null,
       "_view_module": "@jupyter-widgets/base",
       "_view_module_version": "2.0.0",
       "_view_name": "LayoutView",
       "align_content": null,
       "align_items": null,
       "align_self": null,
       "border_bottom": null,
       "border_left": null,
       "border_right": null,
       "border_top": null,
       "bottom": null,
       "display": null,
       "flex": null,
       "flex_flow": null,
       "grid_area": null,
       "grid_auto_columns": null,
       "grid_auto_flow": null,
       "grid_auto_rows": null,
       "grid_column": null,
       "grid_gap": null,
       "grid_row": null,
       "grid_template_areas": null,
       "grid_template_columns": null,
       "grid_template_rows": null,
       "height": null,
       "justify_content": null,
       "justify_items": null,
       "left": null,
       "margin": null,
       "max_height": null,
       "max_width": null,
       "min_height": null,
       "min_width": null,
       "object_fit": null,
       "object_position": null,
       "order": null,
       "overflow": null,
       "padding": null,
       "right": null,
       "top": null,
       "visibility": null,
       "width": null
      }
     },
     "1987be46234d441b97dc04ab661af2e9": {
      "model_module": "@jupyter-widgets/controls",
      "model_module_version": "2.0.0",
      "model_name": "FloatProgressModel",
      "state": {
       "_dom_classes": [],
       "_model_module": "@jupyter-widgets/controls",
       "_model_module_version": "2.0.0",
       "_model_name": "FloatProgressModel",
       "_view_count": null,
       "_view_module": "@jupyter-widgets/controls",
       "_view_module_version": "2.0.0",
       "_view_name": "ProgressView",
       "bar_style": "success",
       "description": "",
       "description_allow_html": false,
       "layout": "IPY_MODEL_ab124c4a1f754946a5eb977cb6012824",
       "max": 3459.0,
       "min": 0.0,
       "orientation": "horizontal",
       "style": "IPY_MODEL_1dfb94d623a74582a3fce694d89c5bdf",
       "tabbable": null,
       "tooltip": null,
       "value": 3459.0
      }
     },
     "1a1c45780c34488fb61fc66a59cdc98d": {
      "model_module": "@jupyter-widgets/base",
      "model_module_version": "2.0.0",
      "model_name": "LayoutModel",
      "state": {
       "_model_module": "@jupyter-widgets/base",
       "_model_module_version": "2.0.0",
       "_model_name": "LayoutModel",
       "_view_count": null,
       "_view_module": "@jupyter-widgets/base",
       "_view_module_version": "2.0.0",
       "_view_name": "LayoutView",
       "align_content": null,
       "align_items": null,
       "align_self": null,
       "border_bottom": null,
       "border_left": null,
       "border_right": null,
       "border_top": null,
       "bottom": null,
       "display": null,
       "flex": null,
       "flex_flow": null,
       "grid_area": null,
       "grid_auto_columns": null,
       "grid_auto_flow": null,
       "grid_auto_rows": null,
       "grid_column": null,
       "grid_gap": null,
       "grid_row": null,
       "grid_template_areas": null,
       "grid_template_columns": null,
       "grid_template_rows": null,
       "height": null,
       "justify_content": null,
       "justify_items": null,
       "left": null,
       "margin": null,
       "max_height": null,
       "max_width": null,
       "min_height": null,
       "min_width": null,
       "object_fit": null,
       "object_position": null,
       "order": null,
       "overflow": null,
       "padding": null,
       "right": null,
       "top": null,
       "visibility": null,
       "width": null
      }
     },
     "1b213db4af234c2a89382cc485e6e0c2": {
      "model_module": "@jupyter-widgets/base",
      "model_module_version": "2.0.0",
      "model_name": "LayoutModel",
      "state": {
       "_model_module": "@jupyter-widgets/base",
       "_model_module_version": "2.0.0",
       "_model_name": "LayoutModel",
       "_view_count": null,
       "_view_module": "@jupyter-widgets/base",
       "_view_module_version": "2.0.0",
       "_view_name": "LayoutView",
       "align_content": null,
       "align_items": null,
       "align_self": null,
       "border_bottom": null,
       "border_left": null,
       "border_right": null,
       "border_top": null,
       "bottom": null,
       "display": null,
       "flex": null,
       "flex_flow": null,
       "grid_area": null,
       "grid_auto_columns": null,
       "grid_auto_flow": null,
       "grid_auto_rows": null,
       "grid_column": null,
       "grid_gap": null,
       "grid_row": null,
       "grid_template_areas": null,
       "grid_template_columns": null,
       "grid_template_rows": null,
       "height": null,
       "justify_content": null,
       "justify_items": null,
       "left": null,
       "margin": null,
       "max_height": null,
       "max_width": null,
       "min_height": null,
       "min_width": null,
       "object_fit": null,
       "object_position": null,
       "order": null,
       "overflow": null,
       "padding": null,
       "right": null,
       "top": null,
       "visibility": null,
       "width": null
      }
     },
     "1bdbfca9eacf4563b4dff3d3c3dc7a54": {
      "model_module": "@jupyter-widgets/controls",
      "model_module_version": "2.0.0",
      "model_name": "HBoxModel",
      "state": {
       "_dom_classes": [],
       "_model_module": "@jupyter-widgets/controls",
       "_model_module_version": "2.0.0",
       "_model_name": "HBoxModel",
       "_view_count": null,
       "_view_module": "@jupyter-widgets/controls",
       "_view_module_version": "2.0.0",
       "_view_name": "HBoxView",
       "box_style": "",
       "children": [
        "IPY_MODEL_02407a0994e34b84af3190b3f0c615a5",
        "IPY_MODEL_b8cac6e0c4654f6991529dd0316bc3b7",
        "IPY_MODEL_d70b9282dfa84ccf94a78983f19ea955"
       ],
       "layout": "IPY_MODEL_5360acad9f664b37a414448af737c570",
       "tabbable": null,
       "tooltip": null
      }
     },
     "1bff1797de5040a3af3ad41557cb841e": {
      "model_module": "@jupyter-widgets/controls",
      "model_module_version": "2.0.0",
      "model_name": "HBoxModel",
      "state": {
       "_dom_classes": [],
       "_model_module": "@jupyter-widgets/controls",
       "_model_module_version": "2.0.0",
       "_model_name": "HBoxModel",
       "_view_count": null,
       "_view_module": "@jupyter-widgets/controls",
       "_view_module_version": "2.0.0",
       "_view_name": "HBoxView",
       "box_style": "",
       "children": [
        "IPY_MODEL_5bedf76251824d86a9ee028ed6564352",
        "IPY_MODEL_a4cbd86ffc114812945f46eb34e5fdeb",
        "IPY_MODEL_029e4472c53545f487929bfe2340f5de"
       ],
       "layout": "IPY_MODEL_6b551f803b8c4f5e9ddbcb1d114fee23",
       "tabbable": null,
       "tooltip": null
      }
     },
     "1c78f352f7b649009d2425ab8b336309": {
      "model_module": "@jupyter-widgets/base",
      "model_module_version": "2.0.0",
      "model_name": "LayoutModel",
      "state": {
       "_model_module": "@jupyter-widgets/base",
       "_model_module_version": "2.0.0",
       "_model_name": "LayoutModel",
       "_view_count": null,
       "_view_module": "@jupyter-widgets/base",
       "_view_module_version": "2.0.0",
       "_view_name": "LayoutView",
       "align_content": null,
       "align_items": null,
       "align_self": null,
       "border_bottom": null,
       "border_left": null,
       "border_right": null,
       "border_top": null,
       "bottom": null,
       "display": null,
       "flex": null,
       "flex_flow": null,
       "grid_area": null,
       "grid_auto_columns": null,
       "grid_auto_flow": null,
       "grid_auto_rows": null,
       "grid_column": null,
       "grid_gap": null,
       "grid_row": null,
       "grid_template_areas": null,
       "grid_template_columns": null,
       "grid_template_rows": null,
       "height": null,
       "justify_content": null,
       "justify_items": null,
       "left": null,
       "margin": null,
       "max_height": null,
       "max_width": null,
       "min_height": null,
       "min_width": null,
       "object_fit": null,
       "object_position": null,
       "order": null,
       "overflow": null,
       "padding": null,
       "right": null,
       "top": null,
       "visibility": null,
       "width": null
      }
     },
     "1d2be439b6764c56a65d79b43d65dbe4": {
      "model_module": "@jupyter-widgets/controls",
      "model_module_version": "2.0.0",
      "model_name": "HBoxModel",
      "state": {
       "_dom_classes": [],
       "_model_module": "@jupyter-widgets/controls",
       "_model_module_version": "2.0.0",
       "_model_name": "HBoxModel",
       "_view_count": null,
       "_view_module": "@jupyter-widgets/controls",
       "_view_module_version": "2.0.0",
       "_view_name": "HBoxView",
       "box_style": "",
       "children": [
        "IPY_MODEL_e18858963f7b4d1abd58d462bb8a9f66",
        "IPY_MODEL_9cd917009f724c8e8b0240514111459f",
        "IPY_MODEL_21921b47679740ac85654884c7490c90"
       ],
       "layout": "IPY_MODEL_dfef6e6eb7954ae986cfa2ee87abb7ad",
       "tabbable": null,
       "tooltip": null
      }
     },
     "1dfb94d623a74582a3fce694d89c5bdf": {
      "model_module": "@jupyter-widgets/controls",
      "model_module_version": "2.0.0",
      "model_name": "ProgressStyleModel",
      "state": {
       "_model_module": "@jupyter-widgets/controls",
       "_model_module_version": "2.0.0",
       "_model_name": "ProgressStyleModel",
       "_view_count": null,
       "_view_module": "@jupyter-widgets/base",
       "_view_module_version": "2.0.0",
       "_view_name": "StyleView",
       "bar_color": null,
       "description_width": ""
      }
     },
     "1dfc68531ebe4ce1bd6d1b0fc3833a87": {
      "model_module": "@jupyter-widgets/controls",
      "model_module_version": "2.0.0",
      "model_name": "HTMLModel",
      "state": {
       "_dom_classes": [],
       "_model_module": "@jupyter-widgets/controls",
       "_model_module_version": "2.0.0",
       "_model_name": "HTMLModel",
       "_view_count": null,
       "_view_module": "@jupyter-widgets/controls",
       "_view_module_version": "2.0.0",
       "_view_name": "HTMLView",
       "description": "",
       "description_allow_html": false,
       "layout": "IPY_MODEL_00f1842adc77418c83f8642833d3077f",
       "placeholder": "​",
       "style": "IPY_MODEL_a2fc3900b10341b093981e18011c6a9e",
       "tabbable": null,
       "tooltip": null,
       "value": " 5.55k/5.55k [00:00&lt;00:00, 589kB/s]"
      }
     },
     "2127a18b9d9e4646a947a192554873f3": {
      "model_module": "@jupyter-widgets/controls",
      "model_module_version": "2.0.0",
      "model_name": "HTMLModel",
      "state": {
       "_dom_classes": [],
       "_model_module": "@jupyter-widgets/controls",
       "_model_module_version": "2.0.0",
       "_model_name": "HTMLModel",
       "_view_count": null,
       "_view_module": "@jupyter-widgets/controls",
       "_view_module_version": "2.0.0",
       "_view_name": "HTMLView",
       "description": "",
       "description_allow_html": false,
       "layout": "IPY_MODEL_eb2db62a7a2f4b5a84d06f3d5b7a928b",
       "placeholder": "​",
       "style": "IPY_MODEL_8fa0ae57904f486fb94d9e4802c8a677",
       "tabbable": null,
       "tooltip": null,
       "value": "vocab.txt: 100%"
      }
     },
     "21921b47679740ac85654884c7490c90": {
      "model_module": "@jupyter-widgets/controls",
      "model_module_version": "2.0.0",
      "model_name": "HTMLModel",
      "state": {
       "_dom_classes": [],
       "_model_module": "@jupyter-widgets/controls",
       "_model_module_version": "2.0.0",
       "_model_name": "HTMLModel",
       "_view_count": null,
       "_view_module": "@jupyter-widgets/controls",
       "_view_module_version": "2.0.0",
       "_view_name": "HTMLView",
       "description": "",
       "description_allow_html": false,
       "layout": "IPY_MODEL_a3649a9487254dd98ba20d69768b76ba",
       "placeholder": "​",
       "style": "IPY_MODEL_b896d046ebe64af4b0d61d23acedc298",
       "tabbable": null,
       "tooltip": null,
       "value": " 543M/543M [00:05&lt;00:00, 53.4MB/s]"
      }
     },
     "2193514682324e27baf49cc51f985e9b": {
      "model_module": "@jupyter-widgets/controls",
      "model_module_version": "2.0.0",
      "model_name": "ProgressStyleModel",
      "state": {
       "_model_module": "@jupyter-widgets/controls",
       "_model_module_version": "2.0.0",
       "_model_name": "ProgressStyleModel",
       "_view_count": null,
       "_view_module": "@jupyter-widgets/base",
       "_view_module_version": "2.0.0",
       "_view_name": "StyleView",
       "bar_color": null,
       "description_width": ""
      }
     },
     "225dc1083b594683aae52d3204def7da": {
      "model_module": "@jupyter-widgets/base",
      "model_module_version": "2.0.0",
      "model_name": "LayoutModel",
      "state": {
       "_model_module": "@jupyter-widgets/base",
       "_model_module_version": "2.0.0",
       "_model_name": "LayoutModel",
       "_view_count": null,
       "_view_module": "@jupyter-widgets/base",
       "_view_module_version": "2.0.0",
       "_view_name": "LayoutView",
       "align_content": null,
       "align_items": null,
       "align_self": null,
       "border_bottom": null,
       "border_left": null,
       "border_right": null,
       "border_top": null,
       "bottom": null,
       "display": null,
       "flex": null,
       "flex_flow": null,
       "grid_area": null,
       "grid_auto_columns": null,
       "grid_auto_flow": null,
       "grid_auto_rows": null,
       "grid_column": null,
       "grid_gap": null,
       "grid_row": null,
       "grid_template_areas": null,
       "grid_template_columns": null,
       "grid_template_rows": null,
       "height": null,
       "justify_content": null,
       "justify_items": null,
       "left": null,
       "margin": null,
       "max_height": null,
       "max_width": null,
       "min_height": null,
       "min_width": null,
       "object_fit": null,
       "object_position": null,
       "order": null,
       "overflow": null,
       "padding": null,
       "right": null,
       "top": null,
       "visibility": null,
       "width": null
      }
     },
     "259b71de234f4130adb0f0f50046cfda": {
      "model_module": "@jupyter-widgets/controls",
      "model_module_version": "2.0.0",
      "model_name": "HTMLModel",
      "state": {
       "_dom_classes": [],
       "_model_module": "@jupyter-widgets/controls",
       "_model_module_version": "2.0.0",
       "_model_name": "HTMLModel",
       "_view_count": null,
       "_view_module": "@jupyter-widgets/controls",
       "_view_module_version": "2.0.0",
       "_view_name": "HTMLView",
       "description": "",
       "description_allow_html": false,
       "layout": "IPY_MODEL_9c9df3bc87324ce185dea8d1ac5d8a13",
       "placeholder": "​",
       "style": "IPY_MODEL_d9a157344261426ca41453e12fe714ac",
       "tabbable": null,
       "tooltip": null,
       "value": "config.json: 100%"
      }
     },
     "272944d5678f47de9e08bcad160a7c7f": {
      "model_module": "@jupyter-widgets/controls",
      "model_module_version": "2.0.0",
      "model_name": "FloatProgressModel",
      "state": {
       "_dom_classes": [],
       "_model_module": "@jupyter-widgets/controls",
       "_model_module_version": "2.0.0",
       "_model_name": "FloatProgressModel",
       "_view_count": null,
       "_view_module": "@jupyter-widgets/controls",
       "_view_module_version": "2.0.0",
       "_view_name": "ProgressView",
       "bar_style": "success",
       "description": "",
       "description_allow_html": false,
       "layout": "IPY_MODEL_f5e1b97476c44b69a4b4640080bcf6d0",
       "max": 542923308.0,
       "min": 0.0,
       "orientation": "horizontal",
       "style": "IPY_MODEL_2193514682324e27baf49cc51f985e9b",
       "tabbable": null,
       "tooltip": null,
       "value": 542923308.0
      }
     },
     "28903bc926fd4cc282ba24f74b95b957": {
      "model_module": "@jupyter-widgets/controls",
      "model_module_version": "2.0.0",
      "model_name": "FloatProgressModel",
      "state": {
       "_dom_classes": [],
       "_model_module": "@jupyter-widgets/controls",
       "_model_module_version": "2.0.0",
       "_model_name": "FloatProgressModel",
       "_view_count": null,
       "_view_module": "@jupyter-widgets/controls",
       "_view_module_version": "2.0.0",
       "_view_name": "ProgressView",
       "bar_style": "success",
       "description": "",
       "description_allow_html": false,
       "layout": "IPY_MODEL_da3c63ca7e1c4aad96055dc3bf359d9d",
       "max": 608059320.0,
       "min": 0.0,
       "orientation": "horizontal",
       "style": "IPY_MODEL_2ca5d1abcc0f49579beea78280cf8c2b",
       "tabbable": null,
       "tooltip": null,
       "value": 608059320.0
      }
     },
     "2bfa811d130f40d18edc18f3b6a96295": {
      "model_module": "@jupyter-widgets/controls",
      "model_module_version": "2.0.0",
      "model_name": "HTMLModel",
      "state": {
       "_dom_classes": [],
       "_model_module": "@jupyter-widgets/controls",
       "_model_module_version": "2.0.0",
       "_model_name": "HTMLModel",
       "_view_count": null,
       "_view_module": "@jupyter-widgets/controls",
       "_view_module_version": "2.0.0",
       "_view_name": "HTMLView",
       "description": "",
       "description_allow_html": false,
       "layout": "IPY_MODEL_da3d3eeb0e5f4ebd8ee9ae7c8276d852",
       "placeholder": "​",
       "style": "IPY_MODEL_a570c82a0c0041f08b4ad79955feb79d",
       "tabbable": null,
       "tooltip": null,
       "value": " 608M/608M [00:02&lt;00:00, 245MB/s]"
      }
     },
     "2ca5d1abcc0f49579beea78280cf8c2b": {
      "model_module": "@jupyter-widgets/controls",
      "model_module_version": "2.0.0",
      "model_name": "ProgressStyleModel",
      "state": {
       "_model_module": "@jupyter-widgets/controls",
       "_model_module_version": "2.0.0",
       "_model_name": "ProgressStyleModel",
       "_view_count": null,
       "_view_module": "@jupyter-widgets/base",
       "_view_module_version": "2.0.0",
       "_view_name": "StyleView",
       "bar_color": null,
       "description_width": ""
      }
     },
     "30f87c17e04d457ebaa6ba007c408d17": {
      "model_module": "@jupyter-widgets/base",
      "model_module_version": "2.0.0",
      "model_name": "LayoutModel",
      "state": {
       "_model_module": "@jupyter-widgets/base",
       "_model_module_version": "2.0.0",
       "_model_name": "LayoutModel",
       "_view_count": null,
       "_view_module": "@jupyter-widgets/base",
       "_view_module_version": "2.0.0",
       "_view_name": "LayoutView",
       "align_content": null,
       "align_items": null,
       "align_self": null,
       "border_bottom": null,
       "border_left": null,
       "border_right": null,
       "border_top": null,
       "bottom": null,
       "display": null,
       "flex": null,
       "flex_flow": null,
       "grid_area": null,
       "grid_auto_columns": null,
       "grid_auto_flow": null,
       "grid_auto_rows": null,
       "grid_column": null,
       "grid_gap": null,
       "grid_row": null,
       "grid_template_areas": null,
       "grid_template_columns": null,
       "grid_template_rows": null,
       "height": null,
       "justify_content": null,
       "justify_items": null,
       "left": null,
       "margin": null,
       "max_height": null,
       "max_width": null,
       "min_height": null,
       "min_width": null,
       "object_fit": null,
       "object_position": null,
       "order": null,
       "overflow": null,
       "padding": null,
       "right": null,
       "top": null,
       "visibility": null,
       "width": null
      }
     },
     "35d3e77fd15140a0bdd4ba7b3b55654c": {
      "model_module": "@jupyter-widgets/controls",
      "model_module_version": "2.0.0",
      "model_name": "HTMLStyleModel",
      "state": {
       "_model_module": "@jupyter-widgets/controls",
       "_model_module_version": "2.0.0",
       "_model_name": "HTMLStyleModel",
       "_view_count": null,
       "_view_module": "@jupyter-widgets/base",
       "_view_module_version": "2.0.0",
       "_view_name": "StyleView",
       "background": null,
       "description_width": "",
       "font_size": null,
       "text_color": null
      }
     },
     "3821c7e2dd924d988bedca4fed7b6efd": {
      "model_module": "@jupyter-widgets/base",
      "model_module_version": "2.0.0",
      "model_name": "LayoutModel",
      "state": {
       "_model_module": "@jupyter-widgets/base",
       "_model_module_version": "2.0.0",
       "_model_name": "LayoutModel",
       "_view_count": null,
       "_view_module": "@jupyter-widgets/base",
       "_view_module_version": "2.0.0",
       "_view_name": "LayoutView",
       "align_content": null,
       "align_items": null,
       "align_self": null,
       "border_bottom": null,
       "border_left": null,
       "border_right": null,
       "border_top": null,
       "bottom": null,
       "display": null,
       "flex": null,
       "flex_flow": null,
       "grid_area": null,
       "grid_auto_columns": null,
       "grid_auto_flow": null,
       "grid_auto_rows": null,
       "grid_column": null,
       "grid_gap": null,
       "grid_row": null,
       "grid_template_areas": null,
       "grid_template_columns": null,
       "grid_template_rows": null,
       "height": null,
       "justify_content": null,
       "justify_items": null,
       "left": null,
       "margin": null,
       "max_height": null,
       "max_width": null,
       "min_height": null,
       "min_width": null,
       "object_fit": null,
       "object_position": null,
       "order": null,
       "overflow": null,
       "padding": null,
       "right": null,
       "top": null,
       "visibility": null,
       "width": null
      }
     },
     "3b522969a3ac46f088600854a156aba0": {
      "model_module": "@jupyter-widgets/controls",
      "model_module_version": "2.0.0",
      "model_name": "HTMLModel",
      "state": {
       "_dom_classes": [],
       "_model_module": "@jupyter-widgets/controls",
       "_model_module_version": "2.0.0",
       "_model_name": "HTMLModel",
       "_view_count": null,
       "_view_module": "@jupyter-widgets/controls",
       "_view_module_version": "2.0.0",
       "_view_name": "HTMLView",
       "description": "",
       "description_allow_html": false,
       "layout": "IPY_MODEL_125fcf10bf3f4be9b5cea7704ba7dc2b",
       "placeholder": "​",
       "style": "IPY_MODEL_809135f1eea64a988410fa68b54aa7dd",
       "tabbable": null,
       "tooltip": null,
       "value": "flash_attention.py: 100%"
      }
     },
     "3d39f2bda17340fe974afc9e81ea9e7f": {
      "model_module": "@jupyter-widgets/controls",
      "model_module_version": "2.0.0",
      "model_name": "HTMLModel",
      "state": {
       "_dom_classes": [],
       "_model_module": "@jupyter-widgets/controls",
       "_model_module_version": "2.0.0",
       "_model_name": "HTMLModel",
       "_view_count": null,
       "_view_module": "@jupyter-widgets/controls",
       "_view_module_version": "2.0.0",
       "_view_name": "HTMLView",
       "description": "",
       "description_allow_html": false,
       "layout": "IPY_MODEL_fdff34c8052d4c33a501db9b04c82542",
       "placeholder": "​",
       "style": "IPY_MODEL_4fbdc42c9a054c9ea95bc84913081f7b",
       "tabbable": null,
       "tooltip": null,
       "value": " 557/557 [00:00&lt;00:00, 62.1kB/s]"
      }
     },
     "3d4a1c56ed154fd9b208b6c731f85c8b": {
      "model_module": "@jupyter-widgets/controls",
      "model_module_version": "2.0.0",
      "model_name": "HTMLStyleModel",
      "state": {
       "_model_module": "@jupyter-widgets/controls",
       "_model_module_version": "2.0.0",
       "_model_name": "HTMLStyleModel",
       "_view_count": null,
       "_view_module": "@jupyter-widgets/base",
       "_view_module_version": "2.0.0",
       "_view_name": "StyleView",
       "background": null,
       "description_width": "",
       "font_size": null,
       "text_color": null
      }
     },
     "46ea1fc684564e8298dd424d110a7058": {
      "model_module": "@jupyter-widgets/controls",
      "model_module_version": "2.0.0",
      "model_name": "FloatProgressModel",
      "state": {
       "_dom_classes": [],
       "_model_module": "@jupyter-widgets/controls",
       "_model_module_version": "2.0.0",
       "_model_name": "FloatProgressModel",
       "_view_count": null,
       "_view_module": "@jupyter-widgets/controls",
       "_view_module_version": "2.0.0",
       "_view_name": "ProgressView",
       "bar_style": "success",
       "description": "",
       "description_allow_html": false,
       "layout": "IPY_MODEL_73c703753b3845ea9c082e71ce588a9b",
       "max": 5547.0,
       "min": 0.0,
       "orientation": "horizontal",
       "style": "IPY_MODEL_d9d7b7d272d742a0b27d8ef265cb64c5",
       "tabbable": null,
       "tooltip": null,
       "value": 5547.0
      }
     },
     "4daa54f17f234f06a61bbadf9fe28a16": {
      "model_module": "@jupyter-widgets/base",
      "model_module_version": "2.0.0",
      "model_name": "LayoutModel",
      "state": {
       "_model_module": "@jupyter-widgets/base",
       "_model_module_version": "2.0.0",
       "_model_name": "LayoutModel",
       "_view_count": null,
       "_view_module": "@jupyter-widgets/base",
       "_view_module_version": "2.0.0",
       "_view_name": "LayoutView",
       "align_content": null,
       "align_items": null,
       "align_self": null,
       "border_bottom": null,
       "border_left": null,
       "border_right": null,
       "border_top": null,
       "bottom": null,
       "display": null,
       "flex": null,
       "flex_flow": null,
       "grid_area": null,
       "grid_auto_columns": null,
       "grid_auto_flow": null,
       "grid_auto_rows": null,
       "grid_column": null,
       "grid_gap": null,
       "grid_row": null,
       "grid_template_areas": null,
       "grid_template_columns": null,
       "grid_template_rows": null,
       "height": null,
       "justify_content": null,
       "justify_items": null,
       "left": null,
       "margin": null,
       "max_height": null,
       "max_width": null,
       "min_height": null,
       "min_width": null,
       "object_fit": null,
       "object_position": null,
       "order": null,
       "overflow": null,
       "padding": null,
       "right": null,
       "top": null,
       "visibility": null,
       "width": null
      }
     },
     "4e0ef1b000794efe96e9f7710e80687f": {
      "model_module": "@jupyter-widgets/base",
      "model_module_version": "2.0.0",
      "model_name": "LayoutModel",
      "state": {
       "_model_module": "@jupyter-widgets/base",
       "_model_module_version": "2.0.0",
       "_model_name": "LayoutModel",
       "_view_count": null,
       "_view_module": "@jupyter-widgets/base",
       "_view_module_version": "2.0.0",
       "_view_name": "LayoutView",
       "align_content": null,
       "align_items": null,
       "align_self": null,
       "border_bottom": null,
       "border_left": null,
       "border_right": null,
       "border_top": null,
       "bottom": null,
       "display": null,
       "flex": null,
       "flex_flow": null,
       "grid_area": null,
       "grid_auto_columns": null,
       "grid_auto_flow": null,
       "grid_auto_rows": null,
       "grid_column": null,
       "grid_gap": null,
       "grid_row": null,
       "grid_template_areas": null,
       "grid_template_columns": null,
       "grid_template_rows": null,
       "height": null,
       "justify_content": null,
       "justify_items": null,
       "left": null,
       "margin": null,
       "max_height": null,
       "max_width": null,
       "min_height": null,
       "min_width": null,
       "object_fit": null,
       "object_position": null,
       "order": null,
       "overflow": null,
       "padding": null,
       "right": null,
       "top": null,
       "visibility": null,
       "width": null
      }
     },
     "4fbdc42c9a054c9ea95bc84913081f7b": {
      "model_module": "@jupyter-widgets/controls",
      "model_module_version": "2.0.0",
      "model_name": "HTMLStyleModel",
      "state": {
       "_model_module": "@jupyter-widgets/controls",
       "_model_module_version": "2.0.0",
       "_model_name": "HTMLStyleModel",
       "_view_count": null,
       "_view_module": "@jupyter-widgets/base",
       "_view_module_version": "2.0.0",
       "_view_name": "StyleView",
       "background": null,
       "description_width": "",
       "font_size": null,
       "text_color": null
      }
     },
     "52ae96ef0fe842f8834b6b32fad63440": {
      "model_module": "@jupyter-widgets/base",
      "model_module_version": "2.0.0",
      "model_name": "LayoutModel",
      "state": {
       "_model_module": "@jupyter-widgets/base",
       "_model_module_version": "2.0.0",
       "_model_name": "LayoutModel",
       "_view_count": null,
       "_view_module": "@jupyter-widgets/base",
       "_view_module_version": "2.0.0",
       "_view_name": "LayoutView",
       "align_content": null,
       "align_items": null,
       "align_self": null,
       "border_bottom": null,
       "border_left": null,
       "border_right": null,
       "border_top": null,
       "bottom": null,
       "display": null,
       "flex": null,
       "flex_flow": null,
       "grid_area": null,
       "grid_auto_columns": null,
       "grid_auto_flow": null,
       "grid_auto_rows": null,
       "grid_column": null,
       "grid_gap": null,
       "grid_row": null,
       "grid_template_areas": null,
       "grid_template_columns": null,
       "grid_template_rows": null,
       "height": null,
       "justify_content": null,
       "justify_items": null,
       "left": null,
       "margin": null,
       "max_height": null,
       "max_width": null,
       "min_height": null,
       "min_width": null,
       "object_fit": null,
       "object_position": null,
       "order": null,
       "overflow": null,
       "padding": null,
       "right": null,
       "top": null,
       "visibility": null,
       "width": null
      }
     },
     "5360acad9f664b37a414448af737c570": {
      "model_module": "@jupyter-widgets/base",
      "model_module_version": "2.0.0",
      "model_name": "LayoutModel",
      "state": {
       "_model_module": "@jupyter-widgets/base",
       "_model_module_version": "2.0.0",
       "_model_name": "LayoutModel",
       "_view_count": null,
       "_view_module": "@jupyter-widgets/base",
       "_view_module_version": "2.0.0",
       "_view_name": "LayoutView",
       "align_content": null,
       "align_items": null,
       "align_self": null,
       "border_bottom": null,
       "border_left": null,
       "border_right": null,
       "border_top": null,
       "bottom": null,
       "display": null,
       "flex": null,
       "flex_flow": null,
       "grid_area": null,
       "grid_auto_columns": null,
       "grid_auto_flow": null,
       "grid_auto_rows": null,
       "grid_column": null,
       "grid_gap": null,
       "grid_row": null,
       "grid_template_areas": null,
       "grid_template_columns": null,
       "grid_template_rows": null,
       "height": null,
       "justify_content": null,
       "justify_items": null,
       "left": null,
       "margin": null,
       "max_height": null,
       "max_width": null,
       "min_height": null,
       "min_width": null,
       "object_fit": null,
       "object_position": null,
       "order": null,
       "overflow": null,
       "padding": null,
       "right": null,
       "top": null,
       "visibility": null,
       "width": null
      }
     },
     "5931c9827813450f90868d30b96981d2": {
      "model_module": "@jupyter-widgets/base",
      "model_module_version": "2.0.0",
      "model_name": "LayoutModel",
      "state": {
       "_model_module": "@jupyter-widgets/base",
       "_model_module_version": "2.0.0",
       "_model_name": "LayoutModel",
       "_view_count": null,
       "_view_module": "@jupyter-widgets/base",
       "_view_module_version": "2.0.0",
       "_view_name": "LayoutView",
       "align_content": null,
       "align_items": null,
       "align_self": null,
       "border_bottom": null,
       "border_left": null,
       "border_right": null,
       "border_top": null,
       "bottom": null,
       "display": null,
       "flex": null,
       "flex_flow": null,
       "grid_area": null,
       "grid_auto_columns": null,
       "grid_auto_flow": null,
       "grid_auto_rows": null,
       "grid_column": null,
       "grid_gap": null,
       "grid_row": null,
       "grid_template_areas": null,
       "grid_template_columns": null,
       "grid_template_rows": null,
       "height": null,
       "justify_content": null,
       "justify_items": null,
       "left": null,
       "margin": null,
       "max_height": null,
       "max_width": null,
       "min_height": null,
       "min_width": null,
       "object_fit": null,
       "object_position": null,
       "order": null,
       "overflow": null,
       "padding": null,
       "right": null,
       "top": null,
       "visibility": null,
       "width": null
      }
     },
     "5bedf76251824d86a9ee028ed6564352": {
      "model_module": "@jupyter-widgets/controls",
      "model_module_version": "2.0.0",
      "model_name": "HTMLModel",
      "state": {
       "_dom_classes": [],
       "_model_module": "@jupyter-widgets/controls",
       "_model_module_version": "2.0.0",
       "_model_name": "HTMLModel",
       "_view_count": null,
       "_view_module": "@jupyter-widgets/controls",
       "_view_module_version": "2.0.0",
       "_view_name": "HTMLView",
       "description": "",
       "description_allow_html": false,
       "layout": "IPY_MODEL_efb793d1b419423e8d210ccf3cf544e2",
       "placeholder": "​",
       "style": "IPY_MODEL_ce6b1381352844e48e219efb845f1ab8",
       "tabbable": null,
       "tooltip": null,
       "value": "bpe.codes: 100%"
      }
     },
     "5ca9442755524c65a657a8e45510609c": {
      "model_module": "@jupyter-widgets/controls",
      "model_module_version": "2.0.0",
      "model_name": "HBoxModel",
      "state": {
       "_dom_classes": [],
       "_model_module": "@jupyter-widgets/controls",
       "_model_module_version": "2.0.0",
       "_model_name": "HBoxModel",
       "_view_count": null,
       "_view_module": "@jupyter-widgets/controls",
       "_view_module_version": "2.0.0",
       "_view_name": "HBoxView",
       "box_style": "",
       "children": [
        "IPY_MODEL_a038cea8c1794ddda928a2883c558345",
        "IPY_MODEL_bfb42337a84e495891ff17c36ce6010d",
        "IPY_MODEL_e830361a59e6477b908ce22b6cbe7512"
       ],
       "layout": "IPY_MODEL_bd675086056c4c239c3c9bee68409785",
       "tabbable": null,
       "tooltip": null
      }
     },
     "5d64ec81865e4b459812289f19996952": {
      "model_module": "@jupyter-widgets/controls",
      "model_module_version": "2.0.0",
      "model_name": "HBoxModel",
      "state": {
       "_dom_classes": [],
       "_model_module": "@jupyter-widgets/controls",
       "_model_module_version": "2.0.0",
       "_model_name": "HBoxModel",
       "_view_count": null,
       "_view_module": "@jupyter-widgets/controls",
       "_view_module_version": "2.0.0",
       "_view_name": "HBoxView",
       "box_style": "",
       "children": [
        "IPY_MODEL_3b522969a3ac46f088600854a156aba0",
        "IPY_MODEL_1987be46234d441b97dc04ab661af2e9",
        "IPY_MODEL_ecdaaa0e1b1240a28e86a804302d9ef6"
       ],
       "layout": "IPY_MODEL_b4ff184972c847cda3e761aff37ac685",
       "tabbable": null,
       "tooltip": null
      }
     },
     "5de12036251c4c3bb4b5e8f9d46213fe": {
      "model_module": "@jupyter-widgets/controls",
      "model_module_version": "2.0.0",
      "model_name": "ProgressStyleModel",
      "state": {
       "_model_module": "@jupyter-widgets/controls",
       "_model_module_version": "2.0.0",
       "_model_name": "ProgressStyleModel",
       "_view_count": null,
       "_view_module": "@jupyter-widgets/base",
       "_view_module_version": "2.0.0",
       "_view_name": "StyleView",
       "bar_color": null,
       "description_width": ""
      }
     },
     "5ed080d03c8b40158b4fc4c611d10c54": {
      "model_module": "@jupyter-widgets/controls",
      "model_module_version": "2.0.0",
      "model_name": "HTMLStyleModel",
      "state": {
       "_model_module": "@jupyter-widgets/controls",
       "_model_module_version": "2.0.0",
       "_model_name": "HTMLStyleModel",
       "_view_count": null,
       "_view_module": "@jupyter-widgets/base",
       "_view_module_version": "2.0.0",
       "_view_name": "StyleView",
       "background": null,
       "description_width": "",
       "font_size": null,
       "text_color": null
      }
     },
     "62c5b62044d644fa98bca695d4ea329d": {
      "model_module": "@jupyter-widgets/base",
      "model_module_version": "2.0.0",
      "model_name": "LayoutModel",
      "state": {
       "_model_module": "@jupyter-widgets/base",
       "_model_module_version": "2.0.0",
       "_model_name": "LayoutModel",
       "_view_count": null,
       "_view_module": "@jupyter-widgets/base",
       "_view_module_version": "2.0.0",
       "_view_name": "LayoutView",
       "align_content": null,
       "align_items": null,
       "align_self": null,
       "border_bottom": null,
       "border_left": null,
       "border_right": null,
       "border_top": null,
       "bottom": null,
       "display": null,
       "flex": null,
       "flex_flow": null,
       "grid_area": null,
       "grid_auto_columns": null,
       "grid_auto_flow": null,
       "grid_auto_rows": null,
       "grid_column": null,
       "grid_gap": null,
       "grid_row": null,
       "grid_template_areas": null,
       "grid_template_columns": null,
       "grid_template_rows": null,
       "height": null,
       "justify_content": null,
       "justify_items": null,
       "left": null,
       "margin": null,
       "max_height": null,
       "max_width": null,
       "min_height": null,
       "min_width": null,
       "object_fit": null,
       "object_position": null,
       "order": null,
       "overflow": null,
       "padding": null,
       "right": null,
       "top": null,
       "visibility": null,
       "width": null
      }
     },
     "63ed534a12404c84a98e21676154e6d8": {
      "model_module": "@jupyter-widgets/controls",
      "model_module_version": "2.0.0",
      "model_name": "HTMLStyleModel",
      "state": {
       "_model_module": "@jupyter-widgets/controls",
       "_model_module_version": "2.0.0",
       "_model_name": "HTMLStyleModel",
       "_view_count": null,
       "_view_module": "@jupyter-widgets/base",
       "_view_module_version": "2.0.0",
       "_view_name": "StyleView",
       "background": null,
       "description_width": "",
       "font_size": null,
       "text_color": null
      }
     },
     "6548bea6a558436199e3d49ac1258056": {
      "model_module": "@jupyter-widgets/controls",
      "model_module_version": "2.0.0",
      "model_name": "HTMLStyleModel",
      "state": {
       "_model_module": "@jupyter-widgets/controls",
       "_model_module_version": "2.0.0",
       "_model_name": "HTMLStyleModel",
       "_view_count": null,
       "_view_module": "@jupyter-widgets/base",
       "_view_module_version": "2.0.0",
       "_view_name": "StyleView",
       "background": null,
       "description_width": "",
       "font_size": null,
       "text_color": null
      }
     },
     "6b551f803b8c4f5e9ddbcb1d114fee23": {
      "model_module": "@jupyter-widgets/base",
      "model_module_version": "2.0.0",
      "model_name": "LayoutModel",
      "state": {
       "_model_module": "@jupyter-widgets/base",
       "_model_module_version": "2.0.0",
       "_model_name": "LayoutModel",
       "_view_count": null,
       "_view_module": "@jupyter-widgets/base",
       "_view_module_version": "2.0.0",
       "_view_name": "LayoutView",
       "align_content": null,
       "align_items": null,
       "align_self": null,
       "border_bottom": null,
       "border_left": null,
       "border_right": null,
       "border_top": null,
       "bottom": null,
       "display": null,
       "flex": null,
       "flex_flow": null,
       "grid_area": null,
       "grid_auto_columns": null,
       "grid_auto_flow": null,
       "grid_auto_rows": null,
       "grid_column": null,
       "grid_gap": null,
       "grid_row": null,
       "grid_template_areas": null,
       "grid_template_columns": null,
       "grid_template_rows": null,
       "height": null,
       "justify_content": null,
       "justify_items": null,
       "left": null,
       "margin": null,
       "max_height": null,
       "max_width": null,
       "min_height": null,
       "min_width": null,
       "object_fit": null,
       "object_position": null,
       "order": null,
       "overflow": null,
       "padding": null,
       "right": null,
       "top": null,
       "visibility": null,
       "width": null
      }
     },
     "6e15536f331f4fdf96a0659ebae2bb88": {
      "model_module": "@jupyter-widgets/controls",
      "model_module_version": "2.0.0",
      "model_name": "HTMLModel",
      "state": {
       "_dom_classes": [],
       "_model_module": "@jupyter-widgets/controls",
       "_model_module_version": "2.0.0",
       "_model_name": "HTMLModel",
       "_view_count": null,
       "_view_module": "@jupyter-widgets/controls",
       "_view_module_version": "2.0.0",
       "_view_name": "HTMLView",
       "description": "",
       "description_allow_html": false,
       "layout": "IPY_MODEL_225dc1083b594683aae52d3204def7da",
       "placeholder": "​",
       "style": "IPY_MODEL_a47993eb848145ebaff230df777a9b8d",
       "tabbable": null,
       "tooltip": null,
       "value": "config.json: 100%"
      }
     },
     "710ab0a7543b4cb9ac7a71ca6205f01c": {
      "model_module": "@jupyter-widgets/controls",
      "model_module_version": "2.0.0",
      "model_name": "HTMLModel",
      "state": {
       "_dom_classes": [],
       "_model_module": "@jupyter-widgets/controls",
       "_model_module_version": "2.0.0",
       "_model_name": "HTMLModel",
       "_view_count": null,
       "_view_module": "@jupyter-widgets/controls",
       "_view_module_version": "2.0.0",
       "_view_name": "HTMLView",
       "description": "",
       "description_allow_html": false,
       "layout": "IPY_MODEL_d2d03f8f110440259b2d43ed096f2e1e",
       "placeholder": "​",
       "style": "IPY_MODEL_3d4a1c56ed154fd9b208b6c731f85c8b",
       "tabbable": null,
       "tooltip": null,
       "value": " 543M/543M [00:03&lt;00:00, 158MB/s]"
      }
     },
     "73c703753b3845ea9c082e71ce588a9b": {
      "model_module": "@jupyter-widgets/base",
      "model_module_version": "2.0.0",
      "model_name": "LayoutModel",
      "state": {
       "_model_module": "@jupyter-widgets/base",
       "_model_module_version": "2.0.0",
       "_model_name": "LayoutModel",
       "_view_count": null,
       "_view_module": "@jupyter-widgets/base",
       "_view_module_version": "2.0.0",
       "_view_name": "LayoutView",
       "align_content": null,
       "align_items": null,
       "align_self": null,
       "border_bottom": null,
       "border_left": null,
       "border_right": null,
       "border_top": null,
       "bottom": null,
       "display": null,
       "flex": null,
       "flex_flow": null,
       "grid_area": null,
       "grid_auto_columns": null,
       "grid_auto_flow": null,
       "grid_auto_rows": null,
       "grid_column": null,
       "grid_gap": null,
       "grid_row": null,
       "grid_template_areas": null,
       "grid_template_columns": null,
       "grid_template_rows": null,
       "height": null,
       "justify_content": null,
       "justify_items": null,
       "left": null,
       "margin": null,
       "max_height": null,
       "max_width": null,
       "min_height": null,
       "min_width": null,
       "object_fit": null,
       "object_position": null,
       "order": null,
       "overflow": null,
       "padding": null,
       "right": null,
       "top": null,
       "visibility": null,
       "width": null
      }
     },
     "769b4dd9d6164f72996f8580b7229ec5": {
      "model_module": "@jupyter-widgets/controls",
      "model_module_version": "2.0.0",
      "model_name": "ProgressStyleModel",
      "state": {
       "_model_module": "@jupyter-widgets/controls",
       "_model_module_version": "2.0.0",
       "_model_name": "ProgressStyleModel",
       "_view_count": null,
       "_view_module": "@jupyter-widgets/base",
       "_view_module_version": "2.0.0",
       "_view_name": "StyleView",
       "bar_color": null,
       "description_width": ""
      }
     },
     "78e488f9f78b4c7aa38df1b95b51b9da": {
      "model_module": "@jupyter-widgets/controls",
      "model_module_version": "2.0.0",
      "model_name": "HBoxModel",
      "state": {
       "_dom_classes": [],
       "_model_module": "@jupyter-widgets/controls",
       "_model_module_version": "2.0.0",
       "_model_name": "HBoxModel",
       "_view_count": null,
       "_view_module": "@jupyter-widgets/controls",
       "_view_module_version": "2.0.0",
       "_view_name": "HBoxView",
       "box_style": "",
       "children": [
        "IPY_MODEL_b88135ab488b493ca27b938957bc6670",
        "IPY_MODEL_d988fad235bd4265a20484b0a7518776",
        "IPY_MODEL_f35aa976a76e49fc945c72711dba6d5e"
       ],
       "layout": "IPY_MODEL_62c5b62044d644fa98bca695d4ea329d",
       "tabbable": null,
       "tooltip": null
      }
     },
     "792953d7170e44ff9c0e5ea1f829d05f": {
      "model_module": "@jupyter-widgets/base",
      "model_module_version": "2.0.0",
      "model_name": "LayoutModel",
      "state": {
       "_model_module": "@jupyter-widgets/base",
       "_model_module_version": "2.0.0",
       "_model_name": "LayoutModel",
       "_view_count": null,
       "_view_module": "@jupyter-widgets/base",
       "_view_module_version": "2.0.0",
       "_view_name": "LayoutView",
       "align_content": null,
       "align_items": null,
       "align_self": null,
       "border_bottom": null,
       "border_left": null,
       "border_right": null,
       "border_top": null,
       "bottom": null,
       "display": null,
       "flex": null,
       "flex_flow": null,
       "grid_area": null,
       "grid_auto_columns": null,
       "grid_auto_flow": null,
       "grid_auto_rows": null,
       "grid_column": null,
       "grid_gap": null,
       "grid_row": null,
       "grid_template_areas": null,
       "grid_template_columns": null,
       "grid_template_rows": null,
       "height": null,
       "justify_content": null,
       "justify_items": null,
       "left": null,
       "margin": null,
       "max_height": null,
       "max_width": null,
       "min_height": null,
       "min_width": null,
       "object_fit": null,
       "object_position": null,
       "order": null,
       "overflow": null,
       "padding": null,
       "right": null,
       "top": null,
       "visibility": null,
       "width": null
      }
     },
     "7b9a975f3d944b86a73f8bdc1cf54a9b": {
      "model_module": "@jupyter-widgets/controls",
      "model_module_version": "2.0.0",
      "model_name": "ProgressStyleModel",
      "state": {
       "_model_module": "@jupyter-widgets/controls",
       "_model_module_version": "2.0.0",
       "_model_name": "ProgressStyleModel",
       "_view_count": null,
       "_view_module": "@jupyter-widgets/base",
       "_view_module_version": "2.0.0",
       "_view_name": "StyleView",
       "bar_color": null,
       "description_width": ""
      }
     },
     "809135f1eea64a988410fa68b54aa7dd": {
      "model_module": "@jupyter-widgets/controls",
      "model_module_version": "2.0.0",
      "model_name": "HTMLStyleModel",
      "state": {
       "_model_module": "@jupyter-widgets/controls",
       "_model_module_version": "2.0.0",
       "_model_name": "HTMLStyleModel",
       "_view_count": null,
       "_view_module": "@jupyter-widgets/base",
       "_view_module_version": "2.0.0",
       "_view_name": "StyleView",
       "background": null,
       "description_width": "",
       "font_size": null,
       "text_color": null
      }
     },
     "82d2f4f30ce644b6bb15583d7d7defd7": {
      "model_module": "@jupyter-widgets/controls",
      "model_module_version": "2.0.0",
      "model_name": "ProgressStyleModel",
      "state": {
       "_model_module": "@jupyter-widgets/controls",
       "_model_module_version": "2.0.0",
       "_model_name": "ProgressStyleModel",
       "_view_count": null,
       "_view_module": "@jupyter-widgets/base",
       "_view_module_version": "2.0.0",
       "_view_name": "StyleView",
       "bar_color": null,
       "description_width": ""
      }
     },
     "86de2fcf5ac848e1a061cfd9dd76794f": {
      "model_module": "@jupyter-widgets/controls",
      "model_module_version": "2.0.0",
      "model_name": "HTMLStyleModel",
      "state": {
       "_model_module": "@jupyter-widgets/controls",
       "_model_module_version": "2.0.0",
       "_model_name": "HTMLStyleModel",
       "_view_count": null,
       "_view_module": "@jupyter-widgets/base",
       "_view_module_version": "2.0.0",
       "_view_name": "StyleView",
       "background": null,
       "description_width": "",
       "font_size": null,
       "text_color": null
      }
     },
     "87bc29c332f14879aa7094f67c3121d6": {
      "model_module": "@jupyter-widgets/controls",
      "model_module_version": "2.0.0",
      "model_name": "HBoxModel",
      "state": {
       "_dom_classes": [],
       "_model_module": "@jupyter-widgets/controls",
       "_model_module_version": "2.0.0",
       "_model_name": "HBoxModel",
       "_view_count": null,
       "_view_module": "@jupyter-widgets/controls",
       "_view_module_version": "2.0.0",
       "_view_name": "HBoxView",
       "box_style": "",
       "children": [
        "IPY_MODEL_6e15536f331f4fdf96a0659ebae2bb88",
        "IPY_MODEL_d5190693831a4011a8734573a90092ed",
        "IPY_MODEL_0b6cd9d9c44648dcb3be535e1846e06d"
       ],
       "layout": "IPY_MODEL_4daa54f17f234f06a61bbadf9fe28a16",
       "tabbable": null,
       "tooltip": null
      }
     },
     "8c69e14c440d4b21908c1047eabf7451": {
      "model_module": "@jupyter-widgets/controls",
      "model_module_version": "2.0.0",
      "model_name": "HTMLModel",
      "state": {
       "_dom_classes": [],
       "_model_module": "@jupyter-widgets/controls",
       "_model_module_version": "2.0.0",
       "_model_name": "HTMLModel",
       "_view_count": null,
       "_view_module": "@jupyter-widgets/controls",
       "_view_module_version": "2.0.0",
       "_view_name": "HTMLView",
       "description": "",
       "description_allow_html": false,
       "layout": "IPY_MODEL_3821c7e2dd924d988bedca4fed7b6efd",
       "placeholder": "​",
       "style": "IPY_MODEL_d0f7e33d97bd4ffba3029dd7f110dc3e",
       "tabbable": null,
       "tooltip": null,
       "value": "model.safetensors: 100%"
      }
     },
     "8fa0ae57904f486fb94d9e4802c8a677": {
      "model_module": "@jupyter-widgets/controls",
      "model_module_version": "2.0.0",
      "model_name": "HTMLStyleModel",
      "state": {
       "_model_module": "@jupyter-widgets/controls",
       "_model_module_version": "2.0.0",
       "_model_name": "HTMLStyleModel",
       "_view_count": null,
       "_view_module": "@jupyter-widgets/base",
       "_view_module_version": "2.0.0",
       "_view_name": "StyleView",
       "background": null,
       "description_width": "",
       "font_size": null,
       "text_color": null
      }
     },
     "92eddb5a92ad4abb9ef52ee4930933ea": {
      "model_module": "@jupyter-widgets/controls",
      "model_module_version": "2.0.0",
      "model_name": "HTMLStyleModel",
      "state": {
       "_model_module": "@jupyter-widgets/controls",
       "_model_module_version": "2.0.0",
       "_model_name": "HTMLStyleModel",
       "_view_count": null,
       "_view_module": "@jupyter-widgets/base",
       "_view_module_version": "2.0.0",
       "_view_name": "StyleView",
       "background": null,
       "description_width": "",
       "font_size": null,
       "text_color": null
      }
     },
     "9502441640554080a288ec4c7a87bbda": {
      "model_module": "@jupyter-widgets/base",
      "model_module_version": "2.0.0",
      "model_name": "LayoutModel",
      "state": {
       "_model_module": "@jupyter-widgets/base",
       "_model_module_version": "2.0.0",
       "_model_name": "LayoutModel",
       "_view_count": null,
       "_view_module": "@jupyter-widgets/base",
       "_view_module_version": "2.0.0",
       "_view_name": "LayoutView",
       "align_content": null,
       "align_items": null,
       "align_self": null,
       "border_bottom": null,
       "border_left": null,
       "border_right": null,
       "border_top": null,
       "bottom": null,
       "display": null,
       "flex": null,
       "flex_flow": null,
       "grid_area": null,
       "grid_auto_columns": null,
       "grid_auto_flow": null,
       "grid_auto_rows": null,
       "grid_column": null,
       "grid_gap": null,
       "grid_row": null,
       "grid_template_areas": null,
       "grid_template_columns": null,
       "grid_template_rows": null,
       "height": null,
       "justify_content": null,
       "justify_items": null,
       "left": null,
       "margin": null,
       "max_height": null,
       "max_width": null,
       "min_height": null,
       "min_width": null,
       "object_fit": null,
       "object_position": null,
       "order": null,
       "overflow": null,
       "padding": null,
       "right": null,
       "top": null,
       "visibility": null,
       "width": null
      }
     },
     "9a68b12c88794cea8603a1537671cbd2": {
      "model_module": "@jupyter-widgets/controls",
      "model_module_version": "2.0.0",
      "model_name": "HTMLModel",
      "state": {
       "_dom_classes": [],
       "_model_module": "@jupyter-widgets/controls",
       "_model_module_version": "2.0.0",
       "_model_name": "HTMLModel",
       "_view_count": null,
       "_view_module": "@jupyter-widgets/controls",
       "_view_module_version": "2.0.0",
       "_view_name": "HTMLView",
       "description": "",
       "description_allow_html": false,
       "layout": "IPY_MODEL_0e0b21a9f83a442ca2beb28cedee63f8",
       "placeholder": "​",
       "style": "IPY_MODEL_35d3e77fd15140a0bdd4ba7b3b55654c",
       "tabbable": null,
       "tooltip": null,
       "value": "pytorch_model.bin: 100%"
      }
     },
     "9c9df3bc87324ce185dea8d1ac5d8a13": {
      "model_module": "@jupyter-widgets/base",
      "model_module_version": "2.0.0",
      "model_name": "LayoutModel",
      "state": {
       "_model_module": "@jupyter-widgets/base",
       "_model_module_version": "2.0.0",
       "_model_name": "LayoutModel",
       "_view_count": null,
       "_view_module": "@jupyter-widgets/base",
       "_view_module_version": "2.0.0",
       "_view_name": "LayoutView",
       "align_content": null,
       "align_items": null,
       "align_self": null,
       "border_bottom": null,
       "border_left": null,
       "border_right": null,
       "border_top": null,
       "bottom": null,
       "display": null,
       "flex": null,
       "flex_flow": null,
       "grid_area": null,
       "grid_auto_columns": null,
       "grid_auto_flow": null,
       "grid_auto_rows": null,
       "grid_column": null,
       "grid_gap": null,
       "grid_row": null,
       "grid_template_areas": null,
       "grid_template_columns": null,
       "grid_template_rows": null,
       "height": null,
       "justify_content": null,
       "justify_items": null,
       "left": null,
       "margin": null,
       "max_height": null,
       "max_width": null,
       "min_height": null,
       "min_width": null,
       "object_fit": null,
       "object_position": null,
       "order": null,
       "overflow": null,
       "padding": null,
       "right": null,
       "top": null,
       "visibility": null,
       "width": null
      }
     },
     "9cd917009f724c8e8b0240514111459f": {
      "model_module": "@jupyter-widgets/controls",
      "model_module_version": "2.0.0",
      "model_name": "FloatProgressModel",
      "state": {
       "_dom_classes": [],
       "_model_module": "@jupyter-widgets/controls",
       "_model_module_version": "2.0.0",
       "_model_name": "FloatProgressModel",
       "_view_count": null,
       "_view_module": "@jupyter-widgets/controls",
       "_view_module_version": "2.0.0",
       "_view_name": "ProgressView",
       "bar_style": "success",
       "description": "",
       "description_allow_html": false,
       "layout": "IPY_MODEL_b2542260fd4445e1b76fdb7330748efe",
       "max": 542900336.0,
       "min": 0.0,
       "orientation": "horizontal",
       "style": "IPY_MODEL_ee2c97f7dfb743c3b4f6c6a36d717924",
       "tabbable": null,
       "tooltip": null,
       "value": 542900336.0
      }
     },
     "9df14d47bbd3480d97bfe282f1da587e": {
      "model_module": "@jupyter-widgets/controls",
      "model_module_version": "2.0.0",
      "model_name": "HTMLStyleModel",
      "state": {
       "_model_module": "@jupyter-widgets/controls",
       "_model_module_version": "2.0.0",
       "_model_name": "HTMLStyleModel",
       "_view_count": null,
       "_view_module": "@jupyter-widgets/base",
       "_view_module_version": "2.0.0",
       "_view_name": "StyleView",
       "background": null,
       "description_width": "",
       "font_size": null,
       "text_color": null
      }
     },
     "a038cea8c1794ddda928a2883c558345": {
      "model_module": "@jupyter-widgets/controls",
      "model_module_version": "2.0.0",
      "model_name": "HTMLModel",
      "state": {
       "_dom_classes": [],
       "_model_module": "@jupyter-widgets/controls",
       "_model_module_version": "2.0.0",
       "_model_name": "HTMLModel",
       "_view_count": null,
       "_view_module": "@jupyter-widgets/controls",
       "_view_module_version": "2.0.0",
       "_view_name": "HTMLView",
       "description": "",
       "description_allow_html": false,
       "layout": "IPY_MODEL_f01a715f64304e7891f31aafd923ed9d",
       "placeholder": "​",
       "style": "IPY_MODEL_d1b64726047a4cdc992c2a6f7f976421",
       "tabbable": null,
       "tooltip": null,
       "value": "preprocessor_config.json: 100%"
      }
     },
     "a0fb3a588cb74992b9c96b4cf0cee9bf": {
      "model_module": "@jupyter-widgets/controls",
      "model_module_version": "2.0.0",
      "model_name": "FloatProgressModel",
      "state": {
       "_dom_classes": [],
       "_model_module": "@jupyter-widgets/controls",
       "_model_module_version": "2.0.0",
       "_model_name": "FloatProgressModel",
       "_view_count": null,
       "_view_module": "@jupyter-widgets/controls",
       "_view_module_version": "2.0.0",
       "_view_name": "ProgressView",
       "bar_style": "success",
       "description": "",
       "description_allow_html": false,
       "layout": "IPY_MODEL_ec872244d1504c76b9e79aa52d6fa792",
       "max": 557.0,
       "min": 0.0,
       "orientation": "horizontal",
       "style": "IPY_MODEL_7b9a975f3d944b86a73f8bdc1cf54a9b",
       "tabbable": null,
       "tooltip": null,
       "value": 557.0
      }
     },
     "a2fc3900b10341b093981e18011c6a9e": {
      "model_module": "@jupyter-widgets/controls",
      "model_module_version": "2.0.0",
      "model_name": "HTMLStyleModel",
      "state": {
       "_model_module": "@jupyter-widgets/controls",
       "_model_module_version": "2.0.0",
       "_model_name": "HTMLStyleModel",
       "_view_count": null,
       "_view_module": "@jupyter-widgets/base",
       "_view_module_version": "2.0.0",
       "_view_name": "StyleView",
       "background": null,
       "description_width": "",
       "font_size": null,
       "text_color": null
      }
     },
     "a3649a9487254dd98ba20d69768b76ba": {
      "model_module": "@jupyter-widgets/base",
      "model_module_version": "2.0.0",
      "model_name": "LayoutModel",
      "state": {
       "_model_module": "@jupyter-widgets/base",
       "_model_module_version": "2.0.0",
       "_model_name": "LayoutModel",
       "_view_count": null,
       "_view_module": "@jupyter-widgets/base",
       "_view_module_version": "2.0.0",
       "_view_name": "LayoutView",
       "align_content": null,
       "align_items": null,
       "align_self": null,
       "border_bottom": null,
       "border_left": null,
       "border_right": null,
       "border_top": null,
       "bottom": null,
       "display": null,
       "flex": null,
       "flex_flow": null,
       "grid_area": null,
       "grid_auto_columns": null,
       "grid_auto_flow": null,
       "grid_auto_rows": null,
       "grid_column": null,
       "grid_gap": null,
       "grid_row": null,
       "grid_template_areas": null,
       "grid_template_columns": null,
       "grid_template_rows": null,
       "height": null,
       "justify_content": null,
       "justify_items": null,
       "left": null,
       "margin": null,
       "max_height": null,
       "max_width": null,
       "min_height": null,
       "min_width": null,
       "object_fit": null,
       "object_position": null,
       "order": null,
       "overflow": null,
       "padding": null,
       "right": null,
       "top": null,
       "visibility": null,
       "width": null
      }
     },
     "a47993eb848145ebaff230df777a9b8d": {
      "model_module": "@jupyter-widgets/controls",
      "model_module_version": "2.0.0",
      "model_name": "HTMLStyleModel",
      "state": {
       "_model_module": "@jupyter-widgets/controls",
       "_model_module_version": "2.0.0",
       "_model_name": "HTMLStyleModel",
       "_view_count": null,
       "_view_module": "@jupyter-widgets/base",
       "_view_module_version": "2.0.0",
       "_view_name": "StyleView",
       "background": null,
       "description_width": "",
       "font_size": null,
       "text_color": null
      }
     },
     "a4cbd86ffc114812945f46eb34e5fdeb": {
      "model_module": "@jupyter-widgets/controls",
      "model_module_version": "2.0.0",
      "model_name": "FloatProgressModel",
      "state": {
       "_dom_classes": [],
       "_model_module": "@jupyter-widgets/controls",
       "_model_module_version": "2.0.0",
       "_model_name": "FloatProgressModel",
       "_view_count": null,
       "_view_module": "@jupyter-widgets/controls",
       "_view_module_version": "2.0.0",
       "_view_name": "ProgressView",
       "bar_style": "success",
       "description": "",
       "description_allow_html": false,
       "layout": "IPY_MODEL_792953d7170e44ff9c0e5ea1f829d05f",
       "max": 1135173.0,
       "min": 0.0,
       "orientation": "horizontal",
       "style": "IPY_MODEL_769b4dd9d6164f72996f8580b7229ec5",
       "tabbable": null,
       "tooltip": null,
       "value": 1135173.0
      }
     },
     "a570c82a0c0041f08b4ad79955feb79d": {
      "model_module": "@jupyter-widgets/controls",
      "model_module_version": "2.0.0",
      "model_name": "HTMLStyleModel",
      "state": {
       "_model_module": "@jupyter-widgets/controls",
       "_model_module_version": "2.0.0",
       "_model_name": "HTMLStyleModel",
       "_view_count": null,
       "_view_module": "@jupyter-widgets/base",
       "_view_module_version": "2.0.0",
       "_view_name": "StyleView",
       "background": null,
       "description_width": "",
       "font_size": null,
       "text_color": null
      }
     },
     "a87118d695464d7b8883f4280d2564ef": {
      "model_module": "@jupyter-widgets/controls",
      "model_module_version": "2.0.0",
      "model_name": "HTMLModel",
      "state": {
       "_dom_classes": [],
       "_model_module": "@jupyter-widgets/controls",
       "_model_module_version": "2.0.0",
       "_model_name": "HTMLModel",
       "_view_count": null,
       "_view_module": "@jupyter-widgets/controls",
       "_view_module_version": "2.0.0",
       "_view_name": "HTMLView",
       "description": "",
       "description_allow_html": false,
       "layout": "IPY_MODEL_9502441640554080a288ec4c7a87bbda",
       "placeholder": "​",
       "style": "IPY_MODEL_6548bea6a558436199e3d49ac1258056",
       "tabbable": null,
       "tooltip": null,
       "value": " 895k/895k [00:00&lt;00:00, 14.3MB/s]"
      }
     },
     "ab124c4a1f754946a5eb977cb6012824": {
      "model_module": "@jupyter-widgets/base",
      "model_module_version": "2.0.0",
      "model_name": "LayoutModel",
      "state": {
       "_model_module": "@jupyter-widgets/base",
       "_model_module_version": "2.0.0",
       "_model_name": "LayoutModel",
       "_view_count": null,
       "_view_module": "@jupyter-widgets/base",
       "_view_module_version": "2.0.0",
       "_view_name": "LayoutView",
       "align_content": null,
       "align_items": null,
       "align_self": null,
       "border_bottom": null,
       "border_left": null,
       "border_right": null,
       "border_top": null,
       "bottom": null,
       "display": null,
       "flex": null,
       "flex_flow": null,
       "grid_area": null,
       "grid_auto_columns": null,
       "grid_auto_flow": null,
       "grid_auto_rows": null,
       "grid_column": null,
       "grid_gap": null,
       "grid_row": null,
       "grid_template_areas": null,
       "grid_template_columns": null,
       "grid_template_rows": null,
       "height": null,
       "justify_content": null,
       "justify_items": null,
       "left": null,
       "margin": null,
       "max_height": null,
       "max_width": null,
       "min_height": null,
       "min_width": null,
       "object_fit": null,
       "object_position": null,
       "order": null,
       "overflow": null,
       "padding": null,
       "right": null,
       "top": null,
       "visibility": null,
       "width": null
      }
     },
     "ab294365b10c4f29a820e3f6758806a3": {
      "model_module": "@jupyter-widgets/controls",
      "model_module_version": "2.0.0",
      "model_name": "HTMLModel",
      "state": {
       "_dom_classes": [],
       "_model_module": "@jupyter-widgets/controls",
       "_model_module_version": "2.0.0",
       "_model_name": "HTMLModel",
       "_view_count": null,
       "_view_module": "@jupyter-widgets/controls",
       "_view_module_version": "2.0.0",
       "_view_name": "HTMLView",
       "description": "",
       "description_allow_html": false,
       "layout": "IPY_MODEL_0200bcbcc14c498d80ca803f183a9868",
       "placeholder": "​",
       "style": "IPY_MODEL_63ed534a12404c84a98e21676154e6d8",
       "tabbable": null,
       "tooltip": null,
       "value": "configuration_intern_vit.py: 100%"
      }
     },
     "aff2f986745948b6b368539bd7435ca5": {
      "model_module": "@jupyter-widgets/controls",
      "model_module_version": "2.0.0",
      "model_name": "HBoxModel",
      "state": {
       "_dom_classes": [],
       "_model_module": "@jupyter-widgets/controls",
       "_model_module_version": "2.0.0",
       "_model_name": "HBoxModel",
       "_view_count": null,
       "_view_module": "@jupyter-widgets/controls",
       "_view_module_version": "2.0.0",
       "_view_name": "HBoxView",
       "box_style": "",
       "children": [
        "IPY_MODEL_259b71de234f4130adb0f0f50046cfda",
        "IPY_MODEL_a0fb3a588cb74992b9c96b4cf0cee9bf",
        "IPY_MODEL_3d39f2bda17340fe974afc9e81ea9e7f"
       ],
       "layout": "IPY_MODEL_e35de7a8901e457db98459b507110fbb",
       "tabbable": null,
       "tooltip": null
      }
     },
     "b2542260fd4445e1b76fdb7330748efe": {
      "model_module": "@jupyter-widgets/base",
      "model_module_version": "2.0.0",
      "model_name": "LayoutModel",
      "state": {
       "_model_module": "@jupyter-widgets/base",
       "_model_module_version": "2.0.0",
       "_model_name": "LayoutModel",
       "_view_count": null,
       "_view_module": "@jupyter-widgets/base",
       "_view_module_version": "2.0.0",
       "_view_name": "LayoutView",
       "align_content": null,
       "align_items": null,
       "align_self": null,
       "border_bottom": null,
       "border_left": null,
       "border_right": null,
       "border_top": null,
       "bottom": null,
       "display": null,
       "flex": null,
       "flex_flow": null,
       "grid_area": null,
       "grid_auto_columns": null,
       "grid_auto_flow": null,
       "grid_auto_rows": null,
       "grid_column": null,
       "grid_gap": null,
       "grid_row": null,
       "grid_template_areas": null,
       "grid_template_columns": null,
       "grid_template_rows": null,
       "height": null,
       "justify_content": null,
       "justify_items": null,
       "left": null,
       "margin": null,
       "max_height": null,
       "max_width": null,
       "min_height": null,
       "min_width": null,
       "object_fit": null,
       "object_position": null,
       "order": null,
       "overflow": null,
       "padding": null,
       "right": null,
       "top": null,
       "visibility": null,
       "width": null
      }
     },
     "b3f4a0396d584d43b53dd21d0db1fb93": {
      "model_module": "@jupyter-widgets/controls",
      "model_module_version": "2.0.0",
      "model_name": "ProgressStyleModel",
      "state": {
       "_model_module": "@jupyter-widgets/controls",
       "_model_module_version": "2.0.0",
       "_model_name": "ProgressStyleModel",
       "_view_count": null,
       "_view_module": "@jupyter-widgets/base",
       "_view_module_version": "2.0.0",
       "_view_name": "StyleView",
       "bar_color": null,
       "description_width": ""
      }
     },
     "b4ff184972c847cda3e761aff37ac685": {
      "model_module": "@jupyter-widgets/base",
      "model_module_version": "2.0.0",
      "model_name": "LayoutModel",
      "state": {
       "_model_module": "@jupyter-widgets/base",
       "_model_module_version": "2.0.0",
       "_model_name": "LayoutModel",
       "_view_count": null,
       "_view_module": "@jupyter-widgets/base",
       "_view_module_version": "2.0.0",
       "_view_name": "LayoutView",
       "align_content": null,
       "align_items": null,
       "align_self": null,
       "border_bottom": null,
       "border_left": null,
       "border_right": null,
       "border_top": null,
       "bottom": null,
       "display": null,
       "flex": null,
       "flex_flow": null,
       "grid_area": null,
       "grid_auto_columns": null,
       "grid_auto_flow": null,
       "grid_auto_rows": null,
       "grid_column": null,
       "grid_gap": null,
       "grid_row": null,
       "grid_template_areas": null,
       "grid_template_columns": null,
       "grid_template_rows": null,
       "height": null,
       "justify_content": null,
       "justify_items": null,
       "left": null,
       "margin": null,
       "max_height": null,
       "max_width": null,
       "min_height": null,
       "min_width": null,
       "object_fit": null,
       "object_position": null,
       "order": null,
       "overflow": null,
       "padding": null,
       "right": null,
       "top": null,
       "visibility": null,
       "width": null
      }
     },
     "b88135ab488b493ca27b938957bc6670": {
      "model_module": "@jupyter-widgets/controls",
      "model_module_version": "2.0.0",
      "model_name": "HTMLModel",
      "state": {
       "_dom_classes": [],
       "_model_module": "@jupyter-widgets/controls",
       "_model_module_version": "2.0.0",
       "_model_name": "HTMLModel",
       "_view_count": null,
       "_view_module": "@jupyter-widgets/controls",
       "_view_module_version": "2.0.0",
       "_view_name": "HTMLView",
       "description": "",
       "description_allow_html": false,
       "layout": "IPY_MODEL_d6e908915fab4b95aef32d7e8d1d1503",
       "placeholder": "​",
       "style": "IPY_MODEL_f0f590d47cec4769a3d01318d1215ffb",
       "tabbable": null,
       "tooltip": null,
       "value": "modeling_intern_vit.py: 100%"
      }
     },
     "b896d046ebe64af4b0d61d23acedc298": {
      "model_module": "@jupyter-widgets/controls",
      "model_module_version": "2.0.0",
      "model_name": "HTMLStyleModel",
      "state": {
       "_model_module": "@jupyter-widgets/controls",
       "_model_module_version": "2.0.0",
       "_model_name": "HTMLStyleModel",
       "_view_count": null,
       "_view_module": "@jupyter-widgets/base",
       "_view_module_version": "2.0.0",
       "_view_name": "StyleView",
       "background": null,
       "description_width": "",
       "font_size": null,
       "text_color": null
      }
     },
     "b8cac6e0c4654f6991529dd0316bc3b7": {
      "model_module": "@jupyter-widgets/controls",
      "model_module_version": "2.0.0",
      "model_name": "FloatProgressModel",
      "state": {
       "_dom_classes": [],
       "_model_module": "@jupyter-widgets/controls",
       "_model_module_version": "2.0.0",
       "_model_name": "FloatProgressModel",
       "_view_count": null,
       "_view_module": "@jupyter-widgets/controls",
       "_view_module_version": "2.0.0",
       "_view_name": "ProgressView",
       "bar_style": "success",
       "description": "",
       "description_allow_html": false,
       "layout": "IPY_MODEL_4e0ef1b000794efe96e9f7710e80687f",
       "max": 3132320.0,
       "min": 0.0,
       "orientation": "horizontal",
       "style": "IPY_MODEL_fda963d36e334cc0b996174150cb72e3",
       "tabbable": null,
       "tooltip": null,
       "value": 3132320.0
      }
     },
     "bd675086056c4c239c3c9bee68409785": {
      "model_module": "@jupyter-widgets/base",
      "model_module_version": "2.0.0",
      "model_name": "LayoutModel",
      "state": {
       "_model_module": "@jupyter-widgets/base",
       "_model_module_version": "2.0.0",
       "_model_name": "LayoutModel",
       "_view_count": null,
       "_view_module": "@jupyter-widgets/base",
       "_view_module_version": "2.0.0",
       "_view_name": "LayoutView",
       "align_content": null,
       "align_items": null,
       "align_self": null,
       "border_bottom": null,
       "border_left": null,
       "border_right": null,
       "border_top": null,
       "bottom": null,
       "display": null,
       "flex": null,
       "flex_flow": null,
       "grid_area": null,
       "grid_auto_columns": null,
       "grid_auto_flow": null,
       "grid_auto_rows": null,
       "grid_column": null,
       "grid_gap": null,
       "grid_row": null,
       "grid_template_areas": null,
       "grid_template_columns": null,
       "grid_template_rows": null,
       "height": null,
       "justify_content": null,
       "justify_items": null,
       "left": null,
       "margin": null,
       "max_height": null,
       "max_width": null,
       "min_height": null,
       "min_width": null,
       "object_fit": null,
       "object_position": null,
       "order": null,
       "overflow": null,
       "padding": null,
       "right": null,
       "top": null,
       "visibility": null,
       "width": null
      }
     },
     "bfb42337a84e495891ff17c36ce6010d": {
      "model_module": "@jupyter-widgets/controls",
      "model_module_version": "2.0.0",
      "model_name": "FloatProgressModel",
      "state": {
       "_dom_classes": [],
       "_model_module": "@jupyter-widgets/controls",
       "_model_module_version": "2.0.0",
       "_model_name": "FloatProgressModel",
       "_view_count": null,
       "_view_module": "@jupyter-widgets/controls",
       "_view_module_version": "2.0.0",
       "_view_name": "ProgressView",
       "bar_style": "success",
       "description": "",
       "description_allow_html": false,
       "layout": "IPY_MODEL_c3f51982725245978f9eb9cc75686296",
       "max": 287.0,
       "min": 0.0,
       "orientation": "horizontal",
       "style": "IPY_MODEL_b3f4a0396d584d43b53dd21d0db1fb93",
       "tabbable": null,
       "tooltip": null,
       "value": 287.0
      }
     },
     "c04251c72d8847f6ab1b6515b99d7ae8": {
      "model_module": "@jupyter-widgets/base",
      "model_module_version": "2.0.0",
      "model_name": "LayoutModel",
      "state": {
       "_model_module": "@jupyter-widgets/base",
       "_model_module_version": "2.0.0",
       "_model_name": "LayoutModel",
       "_view_count": null,
       "_view_module": "@jupyter-widgets/base",
       "_view_module_version": "2.0.0",
       "_view_name": "LayoutView",
       "align_content": null,
       "align_items": null,
       "align_self": null,
       "border_bottom": null,
       "border_left": null,
       "border_right": null,
       "border_top": null,
       "bottom": null,
       "display": null,
       "flex": null,
       "flex_flow": null,
       "grid_area": null,
       "grid_auto_columns": null,
       "grid_auto_flow": null,
       "grid_auto_rows": null,
       "grid_column": null,
       "grid_gap": null,
       "grid_row": null,
       "grid_template_areas": null,
       "grid_template_columns": null,
       "grid_template_rows": null,
       "height": null,
       "justify_content": null,
       "justify_items": null,
       "left": null,
       "margin": null,
       "max_height": null,
       "max_width": null,
       "min_height": null,
       "min_width": null,
       "object_fit": null,
       "object_position": null,
       "order": null,
       "overflow": null,
       "padding": null,
       "right": null,
       "top": null,
       "visibility": null,
       "width": null
      }
     },
     "c3f51982725245978f9eb9cc75686296": {
      "model_module": "@jupyter-widgets/base",
      "model_module_version": "2.0.0",
      "model_name": "LayoutModel",
      "state": {
       "_model_module": "@jupyter-widgets/base",
       "_model_module_version": "2.0.0",
       "_model_name": "LayoutModel",
       "_view_count": null,
       "_view_module": "@jupyter-widgets/base",
       "_view_module_version": "2.0.0",
       "_view_name": "LayoutView",
       "align_content": null,
       "align_items": null,
       "align_self": null,
       "border_bottom": null,
       "border_left": null,
       "border_right": null,
       "border_top": null,
       "bottom": null,
       "display": null,
       "flex": null,
       "flex_flow": null,
       "grid_area": null,
       "grid_auto_columns": null,
       "grid_auto_flow": null,
       "grid_auto_rows": null,
       "grid_column": null,
       "grid_gap": null,
       "grid_row": null,
       "grid_template_areas": null,
       "grid_template_columns": null,
       "grid_template_rows": null,
       "height": null,
       "justify_content": null,
       "justify_items": null,
       "left": null,
       "margin": null,
       "max_height": null,
       "max_width": null,
       "min_height": null,
       "min_width": null,
       "object_fit": null,
       "object_position": null,
       "order": null,
       "overflow": null,
       "padding": null,
       "right": null,
       "top": null,
       "visibility": null,
       "width": null
      }
     },
     "c85957eb6e2b4514b1f1ab6bd06aef8b": {
      "model_module": "@jupyter-widgets/controls",
      "model_module_version": "2.0.0",
      "model_name": "HTMLStyleModel",
      "state": {
       "_model_module": "@jupyter-widgets/controls",
       "_model_module_version": "2.0.0",
       "_model_name": "HTMLStyleModel",
       "_view_count": null,
       "_view_module": "@jupyter-widgets/base",
       "_view_module_version": "2.0.0",
       "_view_name": "StyleView",
       "background": null,
       "description_width": "",
       "font_size": null,
       "text_color": null
      }
     },
     "c9b74157cf034c48b83cec92e7242885": {
      "model_module": "@jupyter-widgets/base",
      "model_module_version": "2.0.0",
      "model_name": "LayoutModel",
      "state": {
       "_model_module": "@jupyter-widgets/base",
       "_model_module_version": "2.0.0",
       "_model_name": "LayoutModel",
       "_view_count": null,
       "_view_module": "@jupyter-widgets/base",
       "_view_module_version": "2.0.0",
       "_view_name": "LayoutView",
       "align_content": null,
       "align_items": null,
       "align_self": null,
       "border_bottom": null,
       "border_left": null,
       "border_right": null,
       "border_top": null,
       "bottom": null,
       "display": null,
       "flex": null,
       "flex_flow": null,
       "grid_area": null,
       "grid_auto_columns": null,
       "grid_auto_flow": null,
       "grid_auto_rows": null,
       "grid_column": null,
       "grid_gap": null,
       "grid_row": null,
       "grid_template_areas": null,
       "grid_template_columns": null,
       "grid_template_rows": null,
       "height": null,
       "justify_content": null,
       "justify_items": null,
       "left": null,
       "margin": null,
       "max_height": null,
       "max_width": null,
       "min_height": null,
       "min_width": null,
       "object_fit": null,
       "object_position": null,
       "order": null,
       "overflow": null,
       "padding": null,
       "right": null,
       "top": null,
       "visibility": null,
       "width": null
      }
     },
     "cadcab161975465a9c79885eea7b2149": {
      "model_module": "@jupyter-widgets/controls",
      "model_module_version": "2.0.0",
      "model_name": "ProgressStyleModel",
      "state": {
       "_model_module": "@jupyter-widgets/controls",
       "_model_module_version": "2.0.0",
       "_model_name": "ProgressStyleModel",
       "_view_count": null,
       "_view_module": "@jupyter-widgets/base",
       "_view_module_version": "2.0.0",
       "_view_name": "StyleView",
       "bar_color": null,
       "description_width": ""
      }
     },
     "cd5858ae42154a8cabea52f88996dbde": {
      "model_module": "@jupyter-widgets/controls",
      "model_module_version": "2.0.0",
      "model_name": "HBoxModel",
      "state": {
       "_dom_classes": [],
       "_model_module": "@jupyter-widgets/controls",
       "_model_module_version": "2.0.0",
       "_model_name": "HBoxModel",
       "_view_count": null,
       "_view_module": "@jupyter-widgets/controls",
       "_view_module_version": "2.0.0",
       "_view_name": "HBoxView",
       "box_style": "",
       "children": [
        "IPY_MODEL_ab294365b10c4f29a820e3f6758806a3",
        "IPY_MODEL_46ea1fc684564e8298dd424d110a7058",
        "IPY_MODEL_1dfc68531ebe4ce1bd6d1b0fc3833a87"
       ],
       "layout": "IPY_MODEL_d277a6e53cca417ebedc1b92039ad0c9",
       "tabbable": null,
       "tooltip": null
      }
     },
     "ce6b1381352844e48e219efb845f1ab8": {
      "model_module": "@jupyter-widgets/controls",
      "model_module_version": "2.0.0",
      "model_name": "HTMLStyleModel",
      "state": {
       "_model_module": "@jupyter-widgets/controls",
       "_model_module_version": "2.0.0",
       "_model_name": "HTMLStyleModel",
       "_view_count": null,
       "_view_module": "@jupyter-widgets/base",
       "_view_module_version": "2.0.0",
       "_view_name": "StyleView",
       "background": null,
       "description_width": "",
       "font_size": null,
       "text_color": null
      }
     },
     "d0f7e33d97bd4ffba3029dd7f110dc3e": {
      "model_module": "@jupyter-widgets/controls",
      "model_module_version": "2.0.0",
      "model_name": "HTMLStyleModel",
      "state": {
       "_model_module": "@jupyter-widgets/controls",
       "_model_module_version": "2.0.0",
       "_model_name": "HTMLStyleModel",
       "_view_count": null,
       "_view_module": "@jupyter-widgets/base",
       "_view_module_version": "2.0.0",
       "_view_name": "StyleView",
       "background": null,
       "description_width": "",
       "font_size": null,
       "text_color": null
      }
     },
     "d118d2408d2c418b8849f07cac0b2934": {
      "model_module": "@jupyter-widgets/controls",
      "model_module_version": "2.0.0",
      "model_name": "HTMLStyleModel",
      "state": {
       "_model_module": "@jupyter-widgets/controls",
       "_model_module_version": "2.0.0",
       "_model_name": "HTMLStyleModel",
       "_view_count": null,
       "_view_module": "@jupyter-widgets/base",
       "_view_module_version": "2.0.0",
       "_view_name": "StyleView",
       "background": null,
       "description_width": "",
       "font_size": null,
       "text_color": null
      }
     },
     "d1b64726047a4cdc992c2a6f7f976421": {
      "model_module": "@jupyter-widgets/controls",
      "model_module_version": "2.0.0",
      "model_name": "HTMLStyleModel",
      "state": {
       "_model_module": "@jupyter-widgets/controls",
       "_model_module_version": "2.0.0",
       "_model_name": "HTMLStyleModel",
       "_view_count": null,
       "_view_module": "@jupyter-widgets/base",
       "_view_module_version": "2.0.0",
       "_view_name": "StyleView",
       "background": null,
       "description_width": "",
       "font_size": null,
       "text_color": null
      }
     },
     "d277a6e53cca417ebedc1b92039ad0c9": {
      "model_module": "@jupyter-widgets/base",
      "model_module_version": "2.0.0",
      "model_name": "LayoutModel",
      "state": {
       "_model_module": "@jupyter-widgets/base",
       "_model_module_version": "2.0.0",
       "_model_name": "LayoutModel",
       "_view_count": null,
       "_view_module": "@jupyter-widgets/base",
       "_view_module_version": "2.0.0",
       "_view_name": "LayoutView",
       "align_content": null,
       "align_items": null,
       "align_self": null,
       "border_bottom": null,
       "border_left": null,
       "border_right": null,
       "border_top": null,
       "bottom": null,
       "display": null,
       "flex": null,
       "flex_flow": null,
       "grid_area": null,
       "grid_auto_columns": null,
       "grid_auto_flow": null,
       "grid_auto_rows": null,
       "grid_column": null,
       "grid_gap": null,
       "grid_row": null,
       "grid_template_areas": null,
       "grid_template_columns": null,
       "grid_template_rows": null,
       "height": null,
       "justify_content": null,
       "justify_items": null,
       "left": null,
       "margin": null,
       "max_height": null,
       "max_width": null,
       "min_height": null,
       "min_width": null,
       "object_fit": null,
       "object_position": null,
       "order": null,
       "overflow": null,
       "padding": null,
       "right": null,
       "top": null,
       "visibility": null,
       "width": null
      }
     },
     "d2d03f8f110440259b2d43ed096f2e1e": {
      "model_module": "@jupyter-widgets/base",
      "model_module_version": "2.0.0",
      "model_name": "LayoutModel",
      "state": {
       "_model_module": "@jupyter-widgets/base",
       "_model_module_version": "2.0.0",
       "_model_name": "LayoutModel",
       "_view_count": null,
       "_view_module": "@jupyter-widgets/base",
       "_view_module_version": "2.0.0",
       "_view_name": "LayoutView",
       "align_content": null,
       "align_items": null,
       "align_self": null,
       "border_bottom": null,
       "border_left": null,
       "border_right": null,
       "border_top": null,
       "bottom": null,
       "display": null,
       "flex": null,
       "flex_flow": null,
       "grid_area": null,
       "grid_auto_columns": null,
       "grid_auto_flow": null,
       "grid_auto_rows": null,
       "grid_column": null,
       "grid_gap": null,
       "grid_row": null,
       "grid_template_areas": null,
       "grid_template_columns": null,
       "grid_template_rows": null,
       "height": null,
       "justify_content": null,
       "justify_items": null,
       "left": null,
       "margin": null,
       "max_height": null,
       "max_width": null,
       "min_height": null,
       "min_width": null,
       "object_fit": null,
       "object_position": null,
       "order": null,
       "overflow": null,
       "padding": null,
       "right": null,
       "top": null,
       "visibility": null,
       "width": null
      }
     },
     "d5190693831a4011a8734573a90092ed": {
      "model_module": "@jupyter-widgets/controls",
      "model_module_version": "2.0.0",
      "model_name": "FloatProgressModel",
      "state": {
       "_dom_classes": [],
       "_model_module": "@jupyter-widgets/controls",
       "_model_module_version": "2.0.0",
       "_model_name": "FloatProgressModel",
       "_view_count": null,
       "_view_module": "@jupyter-widgets/controls",
       "_view_module_version": "2.0.0",
       "_view_name": "ProgressView",
       "bar_style": "success",
       "description": "",
       "description_allow_html": false,
       "layout": "IPY_MODEL_c9b74157cf034c48b83cec92e7242885",
       "max": 748.0,
       "min": 0.0,
       "orientation": "horizontal",
       "style": "IPY_MODEL_82d2f4f30ce644b6bb15583d7d7defd7",
       "tabbable": null,
       "tooltip": null,
       "value": 748.0
      }
     },
     "d6e908915fab4b95aef32d7e8d1d1503": {
      "model_module": "@jupyter-widgets/base",
      "model_module_version": "2.0.0",
      "model_name": "LayoutModel",
      "state": {
       "_model_module": "@jupyter-widgets/base",
       "_model_module_version": "2.0.0",
       "_model_name": "LayoutModel",
       "_view_count": null,
       "_view_module": "@jupyter-widgets/base",
       "_view_module_version": "2.0.0",
       "_view_name": "LayoutView",
       "align_content": null,
       "align_items": null,
       "align_self": null,
       "border_bottom": null,
       "border_left": null,
       "border_right": null,
       "border_top": null,
       "bottom": null,
       "display": null,
       "flex": null,
       "flex_flow": null,
       "grid_area": null,
       "grid_auto_columns": null,
       "grid_auto_flow": null,
       "grid_auto_rows": null,
       "grid_column": null,
       "grid_gap": null,
       "grid_row": null,
       "grid_template_areas": null,
       "grid_template_columns": null,
       "grid_template_rows": null,
       "height": null,
       "justify_content": null,
       "justify_items": null,
       "left": null,
       "margin": null,
       "max_height": null,
       "max_width": null,
       "min_height": null,
       "min_width": null,
       "object_fit": null,
       "object_position": null,
       "order": null,
       "overflow": null,
       "padding": null,
       "right": null,
       "top": null,
       "visibility": null,
       "width": null
      }
     },
     "d70b9282dfa84ccf94a78983f19ea955": {
      "model_module": "@jupyter-widgets/controls",
      "model_module_version": "2.0.0",
      "model_name": "HTMLModel",
      "state": {
       "_dom_classes": [],
       "_model_module": "@jupyter-widgets/controls",
       "_model_module_version": "2.0.0",
       "_model_name": "HTMLModel",
       "_view_count": null,
       "_view_module": "@jupyter-widgets/controls",
       "_view_module_version": "2.0.0",
       "_view_name": "HTMLView",
       "description": "",
       "description_allow_html": false,
       "layout": "IPY_MODEL_1c78f352f7b649009d2425ab8b336309",
       "placeholder": "​",
       "style": "IPY_MODEL_5ed080d03c8b40158b4fc4c611d10c54",
       "tabbable": null,
       "tooltip": null,
       "value": " 3.13M/3.13M [00:00&lt;00:00, 14.2MB/s]"
      }
     },
     "d957d29fef27432eae9271d902f7e808": {
      "model_module": "@jupyter-widgets/base",
      "model_module_version": "2.0.0",
      "model_name": "LayoutModel",
      "state": {
       "_model_module": "@jupyter-widgets/base",
       "_model_module_version": "2.0.0",
       "_model_name": "LayoutModel",
       "_view_count": null,
       "_view_module": "@jupyter-widgets/base",
       "_view_module_version": "2.0.0",
       "_view_name": "LayoutView",
       "align_content": null,
       "align_items": null,
       "align_self": null,
       "border_bottom": null,
       "border_left": null,
       "border_right": null,
       "border_top": null,
       "bottom": null,
       "display": null,
       "flex": null,
       "flex_flow": null,
       "grid_area": null,
       "grid_auto_columns": null,
       "grid_auto_flow": null,
       "grid_auto_rows": null,
       "grid_column": null,
       "grid_gap": null,
       "grid_row": null,
       "grid_template_areas": null,
       "grid_template_columns": null,
       "grid_template_rows": null,
       "height": null,
       "justify_content": null,
       "justify_items": null,
       "left": null,
       "margin": null,
       "max_height": null,
       "max_width": null,
       "min_height": null,
       "min_width": null,
       "object_fit": null,
       "object_position": null,
       "order": null,
       "overflow": null,
       "padding": null,
       "right": null,
       "top": null,
       "visibility": null,
       "width": null
      }
     },
     "d988fad235bd4265a20484b0a7518776": {
      "model_module": "@jupyter-widgets/controls",
      "model_module_version": "2.0.0",
      "model_name": "FloatProgressModel",
      "state": {
       "_dom_classes": [],
       "_model_module": "@jupyter-widgets/controls",
       "_model_module_version": "2.0.0",
       "_model_name": "FloatProgressModel",
       "_view_count": null,
       "_view_module": "@jupyter-widgets/controls",
       "_view_module_version": "2.0.0",
       "_view_name": "ProgressView",
       "bar_style": "success",
       "description": "",
       "description_allow_html": false,
       "layout": "IPY_MODEL_ec3784970fd24576a94bb4f9c9da4a0d",
       "max": 14871.0,
       "min": 0.0,
       "orientation": "horizontal",
       "style": "IPY_MODEL_5de12036251c4c3bb4b5e8f9d46213fe",
       "tabbable": null,
       "tooltip": null,
       "value": 14871.0
      }
     },
     "d9a157344261426ca41453e12fe714ac": {
      "model_module": "@jupyter-widgets/controls",
      "model_module_version": "2.0.0",
      "model_name": "HTMLStyleModel",
      "state": {
       "_model_module": "@jupyter-widgets/controls",
       "_model_module_version": "2.0.0",
       "_model_name": "HTMLStyleModel",
       "_view_count": null,
       "_view_module": "@jupyter-widgets/base",
       "_view_module_version": "2.0.0",
       "_view_name": "StyleView",
       "background": null,
       "description_width": "",
       "font_size": null,
       "text_color": null
      }
     },
     "d9d7b7d272d742a0b27d8ef265cb64c5": {
      "model_module": "@jupyter-widgets/controls",
      "model_module_version": "2.0.0",
      "model_name": "ProgressStyleModel",
      "state": {
       "_model_module": "@jupyter-widgets/controls",
       "_model_module_version": "2.0.0",
       "_model_name": "ProgressStyleModel",
       "_view_count": null,
       "_view_module": "@jupyter-widgets/base",
       "_view_module_version": "2.0.0",
       "_view_name": "StyleView",
       "bar_color": null,
       "description_width": ""
      }
     },
     "da3c63ca7e1c4aad96055dc3bf359d9d": {
      "model_module": "@jupyter-widgets/base",
      "model_module_version": "2.0.0",
      "model_name": "LayoutModel",
      "state": {
       "_model_module": "@jupyter-widgets/base",
       "_model_module_version": "2.0.0",
       "_model_name": "LayoutModel",
       "_view_count": null,
       "_view_module": "@jupyter-widgets/base",
       "_view_module_version": "2.0.0",
       "_view_name": "LayoutView",
       "align_content": null,
       "align_items": null,
       "align_self": null,
       "border_bottom": null,
       "border_left": null,
       "border_right": null,
       "border_top": null,
       "bottom": null,
       "display": null,
       "flex": null,
       "flex_flow": null,
       "grid_area": null,
       "grid_auto_columns": null,
       "grid_auto_flow": null,
       "grid_auto_rows": null,
       "grid_column": null,
       "grid_gap": null,
       "grid_row": null,
       "grid_template_areas": null,
       "grid_template_columns": null,
       "grid_template_rows": null,
       "height": null,
       "justify_content": null,
       "justify_items": null,
       "left": null,
       "margin": null,
       "max_height": null,
       "max_width": null,
       "min_height": null,
       "min_width": null,
       "object_fit": null,
       "object_position": null,
       "order": null,
       "overflow": null,
       "padding": null,
       "right": null,
       "top": null,
       "visibility": null,
       "width": null
      }
     },
     "da3d3eeb0e5f4ebd8ee9ae7c8276d852": {
      "model_module": "@jupyter-widgets/base",
      "model_module_version": "2.0.0",
      "model_name": "LayoutModel",
      "state": {
       "_model_module": "@jupyter-widgets/base",
       "_model_module_version": "2.0.0",
       "_model_name": "LayoutModel",
       "_view_count": null,
       "_view_module": "@jupyter-widgets/base",
       "_view_module_version": "2.0.0",
       "_view_name": "LayoutView",
       "align_content": null,
       "align_items": null,
       "align_self": null,
       "border_bottom": null,
       "border_left": null,
       "border_right": null,
       "border_top": null,
       "bottom": null,
       "display": null,
       "flex": null,
       "flex_flow": null,
       "grid_area": null,
       "grid_auto_columns": null,
       "grid_auto_flow": null,
       "grid_auto_rows": null,
       "grid_column": null,
       "grid_gap": null,
       "grid_row": null,
       "grid_template_areas": null,
       "grid_template_columns": null,
       "grid_template_rows": null,
       "height": null,
       "justify_content": null,
       "justify_items": null,
       "left": null,
       "margin": null,
       "max_height": null,
       "max_width": null,
       "min_height": null,
       "min_width": null,
       "object_fit": null,
       "object_position": null,
       "order": null,
       "overflow": null,
       "padding": null,
       "right": null,
       "top": null,
       "visibility": null,
       "width": null
      }
     },
     "dfef6e6eb7954ae986cfa2ee87abb7ad": {
      "model_module": "@jupyter-widgets/base",
      "model_module_version": "2.0.0",
      "model_name": "LayoutModel",
      "state": {
       "_model_module": "@jupyter-widgets/base",
       "_model_module_version": "2.0.0",
       "_model_name": "LayoutModel",
       "_view_count": null,
       "_view_module": "@jupyter-widgets/base",
       "_view_module_version": "2.0.0",
       "_view_name": "LayoutView",
       "align_content": null,
       "align_items": null,
       "align_self": null,
       "border_bottom": null,
       "border_left": null,
       "border_right": null,
       "border_top": null,
       "bottom": null,
       "display": null,
       "flex": null,
       "flex_flow": null,
       "grid_area": null,
       "grid_auto_columns": null,
       "grid_auto_flow": null,
       "grid_auto_rows": null,
       "grid_column": null,
       "grid_gap": null,
       "grid_row": null,
       "grid_template_areas": null,
       "grid_template_columns": null,
       "grid_template_rows": null,
       "height": null,
       "justify_content": null,
       "justify_items": null,
       "left": null,
       "margin": null,
       "max_height": null,
       "max_width": null,
       "min_height": null,
       "min_width": null,
       "object_fit": null,
       "object_position": null,
       "order": null,
       "overflow": null,
       "padding": null,
       "right": null,
       "top": null,
       "visibility": null,
       "width": null
      }
     },
     "e18858963f7b4d1abd58d462bb8a9f66": {
      "model_module": "@jupyter-widgets/controls",
      "model_module_version": "2.0.0",
      "model_name": "HTMLModel",
      "state": {
       "_dom_classes": [],
       "_model_module": "@jupyter-widgets/controls",
       "_model_module_version": "2.0.0",
       "_model_name": "HTMLModel",
       "_view_count": null,
       "_view_module": "@jupyter-widgets/controls",
       "_view_module_version": "2.0.0",
       "_view_name": "HTMLView",
       "description": "",
       "description_allow_html": false,
       "layout": "IPY_MODEL_5931c9827813450f90868d30b96981d2",
       "placeholder": "​",
       "style": "IPY_MODEL_e729455ff7184b958883b3afcbc81cf5",
       "tabbable": null,
       "tooltip": null,
       "value": "model.safetensors: 100%"
      }
     },
     "e2a37e825faf452b991cf2d4b9715fe3": {
      "model_module": "@jupyter-widgets/base",
      "model_module_version": "2.0.0",
      "model_name": "LayoutModel",
      "state": {
       "_model_module": "@jupyter-widgets/base",
       "_model_module_version": "2.0.0",
       "_model_name": "LayoutModel",
       "_view_count": null,
       "_view_module": "@jupyter-widgets/base",
       "_view_module_version": "2.0.0",
       "_view_name": "LayoutView",
       "align_content": null,
       "align_items": null,
       "align_self": null,
       "border_bottom": null,
       "border_left": null,
       "border_right": null,
       "border_top": null,
       "bottom": null,
       "display": null,
       "flex": null,
       "flex_flow": null,
       "grid_area": null,
       "grid_auto_columns": null,
       "grid_auto_flow": null,
       "grid_auto_rows": null,
       "grid_column": null,
       "grid_gap": null,
       "grid_row": null,
       "grid_template_areas": null,
       "grid_template_columns": null,
       "grid_template_rows": null,
       "height": null,
       "justify_content": null,
       "justify_items": null,
       "left": null,
       "margin": null,
       "max_height": null,
       "max_width": null,
       "min_height": null,
       "min_width": null,
       "object_fit": null,
       "object_position": null,
       "order": null,
       "overflow": null,
       "padding": null,
       "right": null,
       "top": null,
       "visibility": null,
       "width": null
      }
     },
     "e35de7a8901e457db98459b507110fbb": {
      "model_module": "@jupyter-widgets/base",
      "model_module_version": "2.0.0",
      "model_name": "LayoutModel",
      "state": {
       "_model_module": "@jupyter-widgets/base",
       "_model_module_version": "2.0.0",
       "_model_name": "LayoutModel",
       "_view_count": null,
       "_view_module": "@jupyter-widgets/base",
       "_view_module_version": "2.0.0",
       "_view_name": "LayoutView",
       "align_content": null,
       "align_items": null,
       "align_self": null,
       "border_bottom": null,
       "border_left": null,
       "border_right": null,
       "border_top": null,
       "bottom": null,
       "display": null,
       "flex": null,
       "flex_flow": null,
       "grid_area": null,
       "grid_auto_columns": null,
       "grid_auto_flow": null,
       "grid_auto_rows": null,
       "grid_column": null,
       "grid_gap": null,
       "grid_row": null,
       "grid_template_areas": null,
       "grid_template_columns": null,
       "grid_template_rows": null,
       "height": null,
       "justify_content": null,
       "justify_items": null,
       "left": null,
       "margin": null,
       "max_height": null,
       "max_width": null,
       "min_height": null,
       "min_width": null,
       "object_fit": null,
       "object_position": null,
       "order": null,
       "overflow": null,
       "padding": null,
       "right": null,
       "top": null,
       "visibility": null,
       "width": null
      }
     },
     "e70859a59bda4198b209b1b473840a95": {
      "model_module": "@jupyter-widgets/controls",
      "model_module_version": "2.0.0",
      "model_name": "HTMLStyleModel",
      "state": {
       "_model_module": "@jupyter-widgets/controls",
       "_model_module_version": "2.0.0",
       "_model_name": "HTMLStyleModel",
       "_view_count": null,
       "_view_module": "@jupyter-widgets/base",
       "_view_module_version": "2.0.0",
       "_view_name": "StyleView",
       "background": null,
       "description_width": "",
       "font_size": null,
       "text_color": null
      }
     },
     "e729455ff7184b958883b3afcbc81cf5": {
      "model_module": "@jupyter-widgets/controls",
      "model_module_version": "2.0.0",
      "model_name": "HTMLStyleModel",
      "state": {
       "_model_module": "@jupyter-widgets/controls",
       "_model_module_version": "2.0.0",
       "_model_name": "HTMLStyleModel",
       "_view_count": null,
       "_view_module": "@jupyter-widgets/base",
       "_view_module_version": "2.0.0",
       "_view_name": "StyleView",
       "background": null,
       "description_width": "",
       "font_size": null,
       "text_color": null
      }
     },
     "e830361a59e6477b908ce22b6cbe7512": {
      "model_module": "@jupyter-widgets/controls",
      "model_module_version": "2.0.0",
      "model_name": "HTMLModel",
      "state": {
       "_dom_classes": [],
       "_model_module": "@jupyter-widgets/controls",
       "_model_module_version": "2.0.0",
       "_model_name": "HTMLModel",
       "_view_count": null,
       "_view_module": "@jupyter-widgets/controls",
       "_view_module_version": "2.0.0",
       "_view_name": "HTMLView",
       "description": "",
       "description_allow_html": false,
       "layout": "IPY_MODEL_30f87c17e04d457ebaa6ba007c408d17",
       "placeholder": "​",
       "style": "IPY_MODEL_92eddb5a92ad4abb9ef52ee4930933ea",
       "tabbable": null,
       "tooltip": null,
       "value": " 287/287 [00:00&lt;00:00, 26.9kB/s]"
      }
     },
     "e8e4343f5b6f47088f08f058e6c9c29f": {
      "model_module": "@jupyter-widgets/base",
      "model_module_version": "2.0.0",
      "model_name": "LayoutModel",
      "state": {
       "_model_module": "@jupyter-widgets/base",
       "_model_module_version": "2.0.0",
       "_model_name": "LayoutModel",
       "_view_count": null,
       "_view_module": "@jupyter-widgets/base",
       "_view_module_version": "2.0.0",
       "_view_name": "LayoutView",
       "align_content": null,
       "align_items": null,
       "align_self": null,
       "border_bottom": null,
       "border_left": null,
       "border_right": null,
       "border_top": null,
       "bottom": null,
       "display": null,
       "flex": null,
       "flex_flow": null,
       "grid_area": null,
       "grid_auto_columns": null,
       "grid_auto_flow": null,
       "grid_auto_rows": null,
       "grid_column": null,
       "grid_gap": null,
       "grid_row": null,
       "grid_template_areas": null,
       "grid_template_columns": null,
       "grid_template_rows": null,
       "height": null,
       "justify_content": null,
       "justify_items": null,
       "left": null,
       "margin": null,
       "max_height": null,
       "max_width": null,
       "min_height": null,
       "min_width": null,
       "object_fit": null,
       "object_position": null,
       "order": null,
       "overflow": null,
       "padding": null,
       "right": null,
       "top": null,
       "visibility": null,
       "width": null
      }
     },
     "eb2db62a7a2f4b5a84d06f3d5b7a928b": {
      "model_module": "@jupyter-widgets/base",
      "model_module_version": "2.0.0",
      "model_name": "LayoutModel",
      "state": {
       "_model_module": "@jupyter-widgets/base",
       "_model_module_version": "2.0.0",
       "_model_name": "LayoutModel",
       "_view_count": null,
       "_view_module": "@jupyter-widgets/base",
       "_view_module_version": "2.0.0",
       "_view_name": "LayoutView",
       "align_content": null,
       "align_items": null,
       "align_self": null,
       "border_bottom": null,
       "border_left": null,
       "border_right": null,
       "border_top": null,
       "bottom": null,
       "display": null,
       "flex": null,
       "flex_flow": null,
       "grid_area": null,
       "grid_auto_columns": null,
       "grid_auto_flow": null,
       "grid_auto_rows": null,
       "grid_column": null,
       "grid_gap": null,
       "grid_row": null,
       "grid_template_areas": null,
       "grid_template_columns": null,
       "grid_template_rows": null,
       "height": null,
       "justify_content": null,
       "justify_items": null,
       "left": null,
       "margin": null,
       "max_height": null,
       "max_width": null,
       "min_height": null,
       "min_width": null,
       "object_fit": null,
       "object_position": null,
       "order": null,
       "overflow": null,
       "padding": null,
       "right": null,
       "top": null,
       "visibility": null,
       "width": null
      }
     },
     "ec3784970fd24576a94bb4f9c9da4a0d": {
      "model_module": "@jupyter-widgets/base",
      "model_module_version": "2.0.0",
      "model_name": "LayoutModel",
      "state": {
       "_model_module": "@jupyter-widgets/base",
       "_model_module_version": "2.0.0",
       "_model_name": "LayoutModel",
       "_view_count": null,
       "_view_module": "@jupyter-widgets/base",
       "_view_module_version": "2.0.0",
       "_view_name": "LayoutView",
       "align_content": null,
       "align_items": null,
       "align_self": null,
       "border_bottom": null,
       "border_left": null,
       "border_right": null,
       "border_top": null,
       "bottom": null,
       "display": null,
       "flex": null,
       "flex_flow": null,
       "grid_area": null,
       "grid_auto_columns": null,
       "grid_auto_flow": null,
       "grid_auto_rows": null,
       "grid_column": null,
       "grid_gap": null,
       "grid_row": null,
       "grid_template_areas": null,
       "grid_template_columns": null,
       "grid_template_rows": null,
       "height": null,
       "justify_content": null,
       "justify_items": null,
       "left": null,
       "margin": null,
       "max_height": null,
       "max_width": null,
       "min_height": null,
       "min_width": null,
       "object_fit": null,
       "object_position": null,
       "order": null,
       "overflow": null,
       "padding": null,
       "right": null,
       "top": null,
       "visibility": null,
       "width": null
      }
     },
     "ec872244d1504c76b9e79aa52d6fa792": {
      "model_module": "@jupyter-widgets/base",
      "model_module_version": "2.0.0",
      "model_name": "LayoutModel",
      "state": {
       "_model_module": "@jupyter-widgets/base",
       "_model_module_version": "2.0.0",
       "_model_name": "LayoutModel",
       "_view_count": null,
       "_view_module": "@jupyter-widgets/base",
       "_view_module_version": "2.0.0",
       "_view_name": "LayoutView",
       "align_content": null,
       "align_items": null,
       "align_self": null,
       "border_bottom": null,
       "border_left": null,
       "border_right": null,
       "border_top": null,
       "bottom": null,
       "display": null,
       "flex": null,
       "flex_flow": null,
       "grid_area": null,
       "grid_auto_columns": null,
       "grid_auto_flow": null,
       "grid_auto_rows": null,
       "grid_column": null,
       "grid_gap": null,
       "grid_row": null,
       "grid_template_areas": null,
       "grid_template_columns": null,
       "grid_template_rows": null,
       "height": null,
       "justify_content": null,
       "justify_items": null,
       "left": null,
       "margin": null,
       "max_height": null,
       "max_width": null,
       "min_height": null,
       "min_width": null,
       "object_fit": null,
       "object_position": null,
       "order": null,
       "overflow": null,
       "padding": null,
       "right": null,
       "top": null,
       "visibility": null,
       "width": null
      }
     },
     "ecdaaa0e1b1240a28e86a804302d9ef6": {
      "model_module": "@jupyter-widgets/controls",
      "model_module_version": "2.0.0",
      "model_name": "HTMLModel",
      "state": {
       "_dom_classes": [],
       "_model_module": "@jupyter-widgets/controls",
       "_model_module_version": "2.0.0",
       "_model_name": "HTMLModel",
       "_view_count": null,
       "_view_module": "@jupyter-widgets/controls",
       "_view_module_version": "2.0.0",
       "_view_name": "HTMLView",
       "description": "",
       "description_allow_html": false,
       "layout": "IPY_MODEL_e2a37e825faf452b991cf2d4b9715fe3",
       "placeholder": "​",
       "style": "IPY_MODEL_9df14d47bbd3480d97bfe282f1da587e",
       "tabbable": null,
       "tooltip": null,
       "value": " 3.46k/3.46k [00:00&lt;00:00, 480kB/s]"
      }
     },
     "ee2c97f7dfb743c3b4f6c6a36d717924": {
      "model_module": "@jupyter-widgets/controls",
      "model_module_version": "2.0.0",
      "model_name": "ProgressStyleModel",
      "state": {
       "_model_module": "@jupyter-widgets/controls",
       "_model_module_version": "2.0.0",
       "_model_name": "ProgressStyleModel",
       "_view_count": null,
       "_view_module": "@jupyter-widgets/base",
       "_view_module_version": "2.0.0",
       "_view_name": "StyleView",
       "bar_color": null,
       "description_width": ""
      }
     },
     "efb793d1b419423e8d210ccf3cf544e2": {
      "model_module": "@jupyter-widgets/base",
      "model_module_version": "2.0.0",
      "model_name": "LayoutModel",
      "state": {
       "_model_module": "@jupyter-widgets/base",
       "_model_module_version": "2.0.0",
       "_model_name": "LayoutModel",
       "_view_count": null,
       "_view_module": "@jupyter-widgets/base",
       "_view_module_version": "2.0.0",
       "_view_name": "LayoutView",
       "align_content": null,
       "align_items": null,
       "align_self": null,
       "border_bottom": null,
       "border_left": null,
       "border_right": null,
       "border_top": null,
       "bottom": null,
       "display": null,
       "flex": null,
       "flex_flow": null,
       "grid_area": null,
       "grid_auto_columns": null,
       "grid_auto_flow": null,
       "grid_auto_rows": null,
       "grid_column": null,
       "grid_gap": null,
       "grid_row": null,
       "grid_template_areas": null,
       "grid_template_columns": null,
       "grid_template_rows": null,
       "height": null,
       "justify_content": null,
       "justify_items": null,
       "left": null,
       "margin": null,
       "max_height": null,
       "max_width": null,
       "min_height": null,
       "min_width": null,
       "object_fit": null,
       "object_position": null,
       "order": null,
       "overflow": null,
       "padding": null,
       "right": null,
       "top": null,
       "visibility": null,
       "width": null
      }
     },
     "f01a715f64304e7891f31aafd923ed9d": {
      "model_module": "@jupyter-widgets/base",
      "model_module_version": "2.0.0",
      "model_name": "LayoutModel",
      "state": {
       "_model_module": "@jupyter-widgets/base",
       "_model_module_version": "2.0.0",
       "_model_name": "LayoutModel",
       "_view_count": null,
       "_view_module": "@jupyter-widgets/base",
       "_view_module_version": "2.0.0",
       "_view_name": "LayoutView",
       "align_content": null,
       "align_items": null,
       "align_self": null,
       "border_bottom": null,
       "border_left": null,
       "border_right": null,
       "border_top": null,
       "bottom": null,
       "display": null,
       "flex": null,
       "flex_flow": null,
       "grid_area": null,
       "grid_auto_columns": null,
       "grid_auto_flow": null,
       "grid_auto_rows": null,
       "grid_column": null,
       "grid_gap": null,
       "grid_row": null,
       "grid_template_areas": null,
       "grid_template_columns": null,
       "grid_template_rows": null,
       "height": null,
       "justify_content": null,
       "justify_items": null,
       "left": null,
       "margin": null,
       "max_height": null,
       "max_width": null,
       "min_height": null,
       "min_width": null,
       "object_fit": null,
       "object_position": null,
       "order": null,
       "overflow": null,
       "padding": null,
       "right": null,
       "top": null,
       "visibility": null,
       "width": null
      }
     },
     "f0f590d47cec4769a3d01318d1215ffb": {
      "model_module": "@jupyter-widgets/controls",
      "model_module_version": "2.0.0",
      "model_name": "HTMLStyleModel",
      "state": {
       "_model_module": "@jupyter-widgets/controls",
       "_model_module_version": "2.0.0",
       "_model_name": "HTMLStyleModel",
       "_view_count": null,
       "_view_module": "@jupyter-widgets/base",
       "_view_module_version": "2.0.0",
       "_view_name": "StyleView",
       "background": null,
       "description_width": "",
       "font_size": null,
       "text_color": null
      }
     },
     "f35aa976a76e49fc945c72711dba6d5e": {
      "model_module": "@jupyter-widgets/controls",
      "model_module_version": "2.0.0",
      "model_name": "HTMLModel",
      "state": {
       "_dom_classes": [],
       "_model_module": "@jupyter-widgets/controls",
       "_model_module_version": "2.0.0",
       "_model_name": "HTMLModel",
       "_view_count": null,
       "_view_module": "@jupyter-widgets/controls",
       "_view_module_version": "2.0.0",
       "_view_name": "HTMLView",
       "description": "",
       "description_allow_html": false,
       "layout": "IPY_MODEL_1a1c45780c34488fb61fc66a59cdc98d",
       "placeholder": "​",
       "style": "IPY_MODEL_c85957eb6e2b4514b1f1ab6bd06aef8b",
       "tabbable": null,
       "tooltip": null,
       "value": " 14.9k/14.9k [00:00&lt;00:00, 1.17MB/s]"
      }
     },
     "f549841e414542bf80395fd24c9040a1": {
      "model_module": "@jupyter-widgets/base",
      "model_module_version": "2.0.0",
      "model_name": "LayoutModel",
      "state": {
       "_model_module": "@jupyter-widgets/base",
       "_model_module_version": "2.0.0",
       "_model_name": "LayoutModel",
       "_view_count": null,
       "_view_module": "@jupyter-widgets/base",
       "_view_module_version": "2.0.0",
       "_view_name": "LayoutView",
       "align_content": null,
       "align_items": null,
       "align_self": null,
       "border_bottom": null,
       "border_left": null,
       "border_right": null,
       "border_top": null,
       "bottom": null,
       "display": null,
       "flex": null,
       "flex_flow": null,
       "grid_area": null,
       "grid_auto_columns": null,
       "grid_auto_flow": null,
       "grid_auto_rows": null,
       "grid_column": null,
       "grid_gap": null,
       "grid_row": null,
       "grid_template_areas": null,
       "grid_template_columns": null,
       "grid_template_rows": null,
       "height": null,
       "justify_content": null,
       "justify_items": null,
       "left": null,
       "margin": null,
       "max_height": null,
       "max_width": null,
       "min_height": null,
       "min_width": null,
       "object_fit": null,
       "object_position": null,
       "order": null,
       "overflow": null,
       "padding": null,
       "right": null,
       "top": null,
       "visibility": null,
       "width": null
      }
     },
     "f5e1b97476c44b69a4b4640080bcf6d0": {
      "model_module": "@jupyter-widgets/base",
      "model_module_version": "2.0.0",
      "model_name": "LayoutModel",
      "state": {
       "_model_module": "@jupyter-widgets/base",
       "_model_module_version": "2.0.0",
       "_model_name": "LayoutModel",
       "_view_count": null,
       "_view_module": "@jupyter-widgets/base",
       "_view_module_version": "2.0.0",
       "_view_name": "LayoutView",
       "align_content": null,
       "align_items": null,
       "align_self": null,
       "border_bottom": null,
       "border_left": null,
       "border_right": null,
       "border_top": null,
       "bottom": null,
       "display": null,
       "flex": null,
       "flex_flow": null,
       "grid_area": null,
       "grid_auto_columns": null,
       "grid_auto_flow": null,
       "grid_auto_rows": null,
       "grid_column": null,
       "grid_gap": null,
       "grid_row": null,
       "grid_template_areas": null,
       "grid_template_columns": null,
       "grid_template_rows": null,
       "height": null,
       "justify_content": null,
       "justify_items": null,
       "left": null,
       "margin": null,
       "max_height": null,
       "max_width": null,
       "min_height": null,
       "min_width": null,
       "object_fit": null,
       "object_position": null,
       "order": null,
       "overflow": null,
       "padding": null,
       "right": null,
       "top": null,
       "visibility": null,
       "width": null
      }
     },
     "fda963d36e334cc0b996174150cb72e3": {
      "model_module": "@jupyter-widgets/controls",
      "model_module_version": "2.0.0",
      "model_name": "ProgressStyleModel",
      "state": {
       "_model_module": "@jupyter-widgets/controls",
       "_model_module_version": "2.0.0",
       "_model_name": "ProgressStyleModel",
       "_view_count": null,
       "_view_module": "@jupyter-widgets/base",
       "_view_module_version": "2.0.0",
       "_view_name": "StyleView",
       "bar_color": null,
       "description_width": ""
      }
     },
     "fdff34c8052d4c33a501db9b04c82542": {
      "model_module": "@jupyter-widgets/base",
      "model_module_version": "2.0.0",
      "model_name": "LayoutModel",
      "state": {
       "_model_module": "@jupyter-widgets/base",
       "_model_module_version": "2.0.0",
       "_model_name": "LayoutModel",
       "_view_count": null,
       "_view_module": "@jupyter-widgets/base",
       "_view_module_version": "2.0.0",
       "_view_name": "LayoutView",
       "align_content": null,
       "align_items": null,
       "align_self": null,
       "border_bottom": null,
       "border_left": null,
       "border_right": null,
       "border_top": null,
       "bottom": null,
       "display": null,
       "flex": null,
       "flex_flow": null,
       "grid_area": null,
       "grid_auto_columns": null,
       "grid_auto_flow": null,
       "grid_auto_rows": null,
       "grid_column": null,
       "grid_gap": null,
       "grid_row": null,
       "grid_template_areas": null,
       "grid_template_columns": null,
       "grid_template_rows": null,
       "height": null,
       "justify_content": null,
       "justify_items": null,
       "left": null,
       "margin": null,
       "max_height": null,
       "max_width": null,
       "min_height": null,
       "min_width": null,
       "object_fit": null,
       "object_position": null,
       "order": null,
       "overflow": null,
       "padding": null,
       "right": null,
       "top": null,
       "visibility": null,
       "width": null
      }
     }
    },
    "version_major": 2,
    "version_minor": 0
   }
  }
 },
 "nbformat": 4,
 "nbformat_minor": 5
}
